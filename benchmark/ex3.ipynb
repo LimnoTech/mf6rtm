{
 "cells": [
  {
   "cell_type": "markdown",
   "metadata": {},
   "source": [
    "# Example 3: Walter 1994 in 2D. Migration of precipitation/dissolution fronts\n",
    "\n",
    "This test problem is a one-dimensional, purely inorganic redox problem that was first presented by Walter et al. (1994). It  was subsequently used as a benchmark problem by Guerin and Zheng (1998). It demonstrates the evolution of some important geochemical processes that occur when acidic mine tailings leach into an anaerobic carbonate aquifer. Aqueous complexation and dissolution/precipitation are all considered as equilibrium reactions. If the reaction network defined by Walter et al. (1994) is used, the simulation includes 17 aqueous components, 15 of which are transported, 54 aqueous species and six minerals."
   ]
  },
  {
   "cell_type": "code",
   "execution_count": null,
   "metadata": {
    "execution": {
     "iopub.execute_input": "2024-08-06T04:56:22.140335Z",
     "iopub.status.busy": "2024-08-06T04:56:22.139336Z",
     "iopub.status.idle": "2024-08-06T04:56:23.070279Z",
     "shell.execute_reply": "2024-08-06T04:56:23.069629Z"
    }
   },
   "outputs": [],
   "source": [
    "from pathlib import Path\n",
    "import os\n",
    "from modflowapi.extensions import ApiSimulation\n",
    "from modflowapi import Callbacks\n",
    "# from workflow import *\n",
    "from datetime import datetime\n",
    "import sys\n",
    "import pandas as pd\n",
    "import numpy as np\n",
    "import matplotlib.pyplot as plt\n",
    "\n",
    "#add mf6rtm path to the system\n",
    "import flopy\n",
    "from mf6rtm import utils\n",
    "from mf6rtm import mf6rtm\n",
    "import re\n",
    "import difflib\n",
    "\n",
    "prefix = 'ex3'\n",
    "DT_FMT = \"%Y-%m-%d %H:%M:%S\"\n",
    "dataws = os.path.join(\"data\")\n",
    "databasews = os.path.join(\"database\")\n",
    "\n",
    "\n",
    "#stuff to compare outputs from pht3d and mf6rtm\n",
    "\n",
    "def find_closest_match(query, dictionary):\n",
    "    closest_match = difflib.get_close_matches(query, dictionary.keys(), n=1)\n",
    "    if closest_match:\n",
    "        return closest_match[0]\n",
    "    else:\n",
    "        return None\n",
    "    \n",
    "def calc_rows_from_ncol(variables, ncols=4):\n",
    "    '''\n",
    "    Calculates number of rows for subplots\n",
    "    from ncols and len of variables to plot.\n",
    "\n",
    "    Parameters:\n",
    "        variables (list or sequence): list of variables to plot\n",
    "        ncols (int): number of columns to plot\n",
    "    '''\n",
    "    n_subplots = len(variables)\n",
    "    # calculate number of rows\n",
    "    nrows = n_subplots // ncols + (n_subplots % ncols > 0)\n",
    "    return nrows"
   ]
  },
  {
   "cell_type": "markdown",
   "metadata": {},
   "source": [
    "## Flow and Transport Setup"
   ]
  },
  {
   "cell_type": "code",
   "execution_count": null,
   "metadata": {
    "execution": {
     "iopub.execute_input": "2024-08-06T04:56:23.072288Z",
     "iopub.status.busy": "2024-08-06T04:56:23.071289Z",
     "iopub.status.idle": "2024-08-06T04:56:23.076351Z",
     "shell.execute_reply": "2024-08-06T04:56:23.076351Z"
    }
   },
   "outputs": [],
   "source": [
    "### Model params and setup\n",
    "\n",
    "# General\n",
    "length_units = \"meters\"\n",
    "time_units = \"days\"\n",
    "\n",
    "# Model discretization\n",
    "nlay = 10  # Number of layers\n",
    "Lx = 100 #m\n",
    "ncol = 25 # Number of columns\n",
    "nrow = 1  # Number of rows\n",
    "delr = Lx/ncol #10.0  # Column width ($m$)\n",
    "delc = 1.0  # Row width ($m$)\n",
    "top = 10.  # Top of the model ($m$)\n",
    "# botm = 0.0  # Layer bottom elevations ($m$)\n",
    "zbotm = 0.\n",
    "botm = np.linspace(top, zbotm, nlay + 1)[1:]\n",
    "\n",
    "#tdis\n",
    "nper = 1  # Number of periods\n",
    "tstep = 20  # Time step ($days$)\n",
    "perlen = 2000  # Simulation time ($days$)\n",
    "nstp = perlen/tstep #100.0\n",
    "dt0 = perlen / nstp\n",
    "tdis_rc = []\n",
    "tdis_rc.append((perlen, nstp, 1.0))\n",
    "\n",
    "#hydraulic properties\n",
    "prsity = 0.35  # Porosity\n",
    "k11 = 1.0  # Horizontal hydraulic conductivity ($m/d$)\n",
    "k33 = k11  # Vertical hydraulic conductivity ($m/d$)\n",
    "strt = np.ones((nlay, nrow, ncol), dtype=float)*10\n",
    "# two chd one for tailings and conc and other one for hds \n",
    "\n",
    "# two chd one for tailings and conc and other one for hds \n",
    "l_hd = 12\n",
    "r_hd = 10\n",
    "strt = np.ones((nlay, nrow, ncol), dtype=float)*10\n",
    "strt[:, 0, 0] = l_hd  # Starting head ($m$)\n",
    "\n",
    "chdspd = [[(i, 0, 0), l_hd] for i in range(nlay)] # Constant head boundary $m$\n",
    "chdspd.extend([(i, 0, ncol - 1), r_hd] for i in range(nlay))\n",
    "\n",
    "# chdspd_tail = [[(i, 0, 0), l_hd] for i in range(0,3)]\n",
    "\n",
    "#transport\n",
    "dispersivity = 2.5 # Longitudinal dispersivity ($m$)\n",
    "disp_tr_vert = 0.025 # Transverse vertical dispersivity ($m$)\n",
    "\n",
    "icelltype = 0  # Cell conversion type\n",
    "\n",
    "# Set solver parameter values (and related)\n",
    "nouter, ninner = 300, 600\n",
    "hclose, rclose, relax = 1e-6, 1e-6, 1.0"
   ]
  },
  {
   "cell_type": "code",
   "execution_count": null,
   "metadata": {
    "execution": {
     "iopub.execute_input": "2024-08-06T04:56:23.078356Z",
     "iopub.status.busy": "2024-08-06T04:56:23.078356Z",
     "iopub.status.idle": "2024-08-06T04:56:23.194534Z",
     "shell.execute_reply": "2024-08-06T04:56:23.194534Z"
    }
   },
   "outputs": [],
   "source": [
    "# # make a figure with subplots showing ibound and strt \n",
    "fig = plt.figure(figsize=(10, 5))\n",
    "\n",
    "ax = fig.add_subplot(2, 1, 2)\n",
    "ax.set_title('strt')\n",
    "im = ax.imshow(strt[:, 0, :], aspect = 'auto')\n",
    "cbar = plt.colorbar(im, ax=ax)\n"
   ]
  },
  {
   "cell_type": "markdown",
   "metadata": {},
   "source": [
    "## Initialize Chemistry in Domain"
   ]
  },
  {
   "cell_type": "code",
   "execution_count": null,
   "metadata": {
    "execution": {
     "iopub.execute_input": "2024-08-06T04:56:23.215306Z",
     "iopub.status.busy": "2024-08-06T04:56:23.215306Z",
     "iopub.status.idle": "2024-08-06T04:56:23.226256Z",
     "shell.execute_reply": "2024-08-06T04:56:23.226256Z"
    }
   },
   "outputs": [],
   "source": [
    "files = [f for f in os.listdir(dataws) if f.startswith(prefix)]\n",
    "\n",
    "solutionsdf = pd.read_csv(os.path.join(dataws,f\"{prefix}_solutions.csv\"), comment = '#',  index_col = 0)\n",
    "\n",
    "# solutions = utils.solution_csv_to_dict(os.path.join(dataws,f\"{prefix}_solutions.csv\"))\n",
    "solutions = utils.solution_df_to_dict(solutionsdf)\n",
    "\n",
    "solutionsdf"
   ]
  },
  {
   "cell_type": "code",
   "execution_count": null,
   "metadata": {
    "execution": {
     "iopub.execute_input": "2024-08-06T04:56:23.228260Z",
     "iopub.status.busy": "2024-08-06T04:56:23.228260Z",
     "iopub.status.idle": "2024-08-06T04:56:23.231610Z",
     "shell.execute_reply": "2024-08-06T04:56:23.231610Z"
    }
   },
   "outputs": [],
   "source": [
    "# get equilibrium phases file\n",
    "equilibrium_phases = utils.equilibrium_phases_csv_to_dict(os.path.join(dataws, f'{prefix}_equilibrium_phases.csv'))\n",
    "equilibrium_phases\n",
    "\n",
    "\n",
    "# equlibrium phases is a dictionary with keys as the phase number, values is another dictionary with phase name and an array of saturation indices as element 0 and concentrations as element 1. multiply the concentrations by 2\n",
    "for key, value in equilibrium_phases.items():\n",
    "    for k, v in value.items():\n",
    "        v[-1] = mf6rtm.concentration_volbulk_to_volwater( v[-1], prsity)\n",
    "equilibrium_phases"
   ]
  },
  {
   "cell_type": "code",
   "execution_count": null,
   "metadata": {
    "execution": {
     "iopub.execute_input": "2024-08-06T04:56:23.232614Z",
     "iopub.status.busy": "2024-08-06T04:56:23.232614Z",
     "iopub.status.idle": "2024-08-06T04:56:23.236359Z",
     "shell.execute_reply": "2024-08-06T04:56:23.236359Z"
    }
   },
   "outputs": [],
   "source": [
    "#assign solutions to grid\n",
    "sol_ic = np.ones((nlay, nrow, ncol), dtype=int)\n",
    "#slice nlay = 0 in sol_ic\n",
    "# sol_ic[0:3,:,0] = 2\n",
    "\n",
    "\n",
    "#add solutions to clss\n",
    "solution = mf6rtm.Solutions(solutions)\n",
    "solution.set_ic(sol_ic)\n",
    "\n",
    "#create equilibrium phases class\n",
    "equilibrium_phases = mf6rtm.EquilibriumPhases(equilibrium_phases)\n",
    "eqp_ic = np.ones((nlay, nrow, ncol), dtype=int)*1\n",
    "eqp_ic[3:,:,0]= -1 #boundary condation in layer 0 of no eq phases\n",
    "equilibrium_phases.set_ic(eqp_ic)\n",
    "\n",
    "#create model class\n",
    "model = mf6rtm.Mup3d(prefix,solution, nlay, nrow, ncol)\n",
    "\n",
    "#set model workspace\n",
    "model.set_wd(os.path.join(f'{prefix}',f'mf6rtm'))\n",
    "\n",
    "#set database\n",
    "database = os.path.join(databasews, f'pht3d_datab_walter1994.dat')\n",
    "model.set_database(database)\n",
    "\n",
    "#include equilibrium phases in model class\n",
    "model.set_equilibrium_phases(equilibrium_phases)\n",
    "\n",
    "#get phreeqc input\n",
    "#get postfix file\n",
    "postfix = os.path.join(dataws, f'{prefix}_postfix.phqr')\n",
    "model.set_postfix(postfix)"
   ]
  },
  {
   "cell_type": "code",
   "execution_count": null,
   "metadata": {
    "execution": {
     "iopub.execute_input": "2024-08-06T04:56:23.237366Z",
     "iopub.status.busy": "2024-08-06T04:56:23.237366Z",
     "iopub.status.idle": "2024-08-06T04:56:23.240164Z",
     "shell.execute_reply": "2024-08-06T04:56:23.240164Z"
    }
   },
   "outputs": [],
   "source": [
    "equilibrium_phases.data"
   ]
  },
  {
   "cell_type": "code",
   "execution_count": null,
   "metadata": {
    "execution": {
     "iopub.execute_input": "2024-08-06T04:56:23.242104Z",
     "iopub.status.busy": "2024-08-06T04:56:23.241093Z",
     "iopub.status.idle": "2024-08-06T04:56:23.243789Z",
     "shell.execute_reply": "2024-08-06T04:56:23.243587Z"
    }
   },
   "outputs": [],
   "source": [
    "model.set_charge_offset(0.0)"
   ]
  },
  {
   "cell_type": "code",
   "execution_count": null,
   "metadata": {
    "execution": {
     "iopub.execute_input": "2024-08-06T04:56:23.244794Z",
     "iopub.status.busy": "2024-08-06T04:56:23.244794Z",
     "iopub.status.idle": "2024-08-06T04:56:23.331433Z",
     "shell.execute_reply": "2024-08-06T04:56:23.331130Z"
    }
   },
   "outputs": [],
   "source": [
    "#initialize model\n",
    "model.initialize()"
   ]
  },
  {
   "cell_type": "markdown",
   "metadata": {},
   "source": [
    "## Initialize Inflow Chemistry"
   ]
  },
  {
   "cell_type": "code",
   "execution_count": null,
   "metadata": {
    "execution": {
     "iopub.execute_input": "2024-08-06T04:56:23.333481Z",
     "iopub.status.busy": "2024-08-06T04:56:23.333481Z",
     "iopub.status.idle": "2024-08-06T04:56:23.343721Z",
     "shell.execute_reply": "2024-08-06T04:56:23.343721Z"
    }
   },
   "outputs": [],
   "source": [
    "wellchem = mf6rtm.ChemStress('chdtail')\n",
    "sol_spd = [2]\n",
    "wellchem.set_spd(sol_spd)\n",
    "model.set_chem_stress(wellchem)\n"
   ]
  },
  {
   "cell_type": "code",
   "execution_count": null,
   "metadata": {
    "execution": {
     "iopub.execute_input": "2024-08-06T04:56:23.345728Z",
     "iopub.status.busy": "2024-08-06T04:56:23.344732Z",
     "iopub.status.idle": "2024-08-06T04:56:23.348395Z",
     "shell.execute_reply": "2024-08-06T04:56:23.348395Z"
    }
   },
   "outputs": [],
   "source": [
    "for i in range(len(chdspd)):\n",
    "    if i<3:\n",
    "        chdspd[i].extend(model.chdtail.data[0])\n",
    "    else:\n",
    "        chdspd[i].extend(np.zeros_like(model.chdtail.data[0]))\n",
    "print(chdspd)"
   ]
  },
  {
   "cell_type": "code",
   "execution_count": null,
   "metadata": {
    "execution": {
     "iopub.execute_input": "2024-08-06T04:56:23.350449Z",
     "iopub.status.busy": "2024-08-06T04:56:23.350449Z",
     "iopub.status.idle": "2024-08-06T04:56:23.353095Z",
     "shell.execute_reply": "2024-08-06T04:56:23.353095Z"
    }
   },
   "outputs": [],
   "source": [
    "model.sconc['Charge']\n",
    "model.components\n"
   ]
  },
  {
   "cell_type": "markdown",
   "metadata": {},
   "source": [
    "## Build MF6 model"
   ]
  },
  {
   "cell_type": "code",
   "execution_count": null,
   "metadata": {
    "execution": {
     "iopub.execute_input": "2024-08-06T04:56:23.354203Z",
     "iopub.status.busy": "2024-08-06T04:56:23.354203Z",
     "iopub.status.idle": "2024-08-06T04:56:23.366121Z",
     "shell.execute_reply": "2024-08-06T04:56:23.366121Z"
    }
   },
   "outputs": [],
   "source": [
    "def build_model(mup3d):\n",
    "\n",
    "    #####################        GWF model           #####################\n",
    "    gwfname = 'gwf'\n",
    "    sim_ws = mup3d.wd\n",
    "    sim = flopy.mf6.MFSimulation(sim_name=mup3d.name, sim_ws=sim_ws, exe_name='mf6')\n",
    "\n",
    "    # Instantiating MODFLOW 6 time discretization\n",
    "    flopy.mf6.ModflowTdis(sim, nper=nper, perioddata=tdis_rc, time_units=time_units)\n",
    "\n",
    "    # Instantiating MODFLOW 6 groundwater flow model\n",
    "    gwf = flopy.mf6.ModflowGwf(\n",
    "        sim,\n",
    "        modelname=gwfname,\n",
    "        save_flows=True,\n",
    "        model_nam_file=f\"{gwfname}.nam\",\n",
    "    )\n",
    "\n",
    "    # Instantiating MODFLOW 6 solver for flow model\n",
    "    imsgwf = flopy.mf6.ModflowIms(\n",
    "        sim,\n",
    "        complexity=\"complex\",\n",
    "        print_option=\"SUMMARY\",\n",
    "        outer_dvclose=hclose,\n",
    "        outer_maximum=nouter,\n",
    "        under_relaxation=\"NONE\",\n",
    "        inner_maximum=ninner,\n",
    "        inner_dvclose=hclose,\n",
    "        rcloserecord=rclose,\n",
    "        linear_acceleration=\"CG\",\n",
    "        scaling_method=\"NONE\",\n",
    "        reordering_method=\"NONE\",\n",
    "        relaxation_factor=relax,\n",
    "        filename=f\"{gwfname}.ims\",\n",
    "    )\n",
    "    sim.register_ims_package(imsgwf, [gwf.name])\n",
    "\n",
    "    # Instantiating MODFLOW 6 discretization package\n",
    "    dis = flopy.mf6.ModflowGwfdis(\n",
    "        gwf,\n",
    "        length_units=length_units,\n",
    "        nlay=nlay,\n",
    "        nrow=nrow,\n",
    "        ncol=ncol,\n",
    "        delr=delr,\n",
    "        delc=delc,\n",
    "        top=top,\n",
    "        botm=botm,\n",
    "        idomain=np.ones((nlay, nrow, ncol), dtype=int),\n",
    "        filename=f\"{gwfname}.dis\",\n",
    "    )\n",
    "    dis.set_all_data_external()\n",
    "\n",
    "    # Instantiating MODFLOW 6 node-property flow package\n",
    "    npf = flopy.mf6.ModflowGwfnpf(\n",
    "        gwf,\n",
    "        save_flows=True,\n",
    "        save_saturation = True,\n",
    "        icelltype=icelltype,\n",
    "        k=k11,\n",
    "        k33=k33,\n",
    "        save_specific_discharge=True,\n",
    "        filename=f\"{gwfname}.npf\",\n",
    "    )\n",
    "    npf.set_all_data_external()\n",
    "    # sto = flopy.mf6.ModflowGwfsto(gwf, ss=1e-6, sy=0.25)\n",
    "\n",
    "    # Instantiating MODFLOW 6 initial conditions package for flow model\n",
    "    flopy.mf6.ModflowGwfic(gwf, strt=strt, filename=f\"{gwfname}.ic\")\n",
    "\n",
    "    # Instantiating MODFLOW 6 constant head package\n",
    "    chd = flopy.mf6.ModflowGwfchd(\n",
    "        gwf,\n",
    "        maxbound=len(chdspd),\n",
    "        stress_period_data=chdspd,\n",
    "        auxiliary=mup3d.components,\n",
    "        save_flows=False,\n",
    "        pname=\"CHD\",\n",
    "        filename=f\"{gwfname}.chd\",\n",
    "    )\n",
    "    chd.set_all_data_external()\n",
    "\n",
    "    # Instantiating MODFLOW 6 output control package for flow model\n",
    "    oc_gwf = flopy.mf6.ModflowGwfoc(\n",
    "        gwf,\n",
    "        head_filerecord=f\"{gwfname}.hds\",\n",
    "        budget_filerecord=f\"{gwfname}.cbb\",\n",
    "        headprintrecord=[(\"COLUMNS\", 10, \"WIDTH\", 15, \"DIGITS\", 6, \"GENERAL\")],\n",
    "        saverecord=[(\"HEAD\", \"ALL\"), (\"BUDGET\", \"ALL\")],\n",
    "        printrecord=[(\"HEAD\", \"LAST\"), (\"BUDGET\", \"LAST\")],\n",
    "    )\n",
    "    \n",
    "    #####################           GWT model          #####################\n",
    "    for c in mup3d.components:\n",
    "        print(f'Setting model for component: {c}')\n",
    "        gwtname = c\n",
    "        \n",
    "        # Instantiating MODFLOW 6 groundwater transport package\n",
    "        gwt = flopy.mf6.MFModel(\n",
    "            sim,\n",
    "            model_type=\"gwt6\",\n",
    "            modelname=gwtname,\n",
    "            model_nam_file=f\"{gwtname}.nam\"\n",
    "        )\n",
    "\n",
    "        # create iterative model solution and register the gwt model with it\n",
    "        print('--- Building IMS package ---')\n",
    "        imsgwt = flopy.mf6.ModflowIms(\n",
    "            sim,\n",
    "            print_option=\"SUMMARY\",\n",
    "            outer_dvclose=hclose,\n",
    "            outer_maximum=nouter,\n",
    "            under_relaxation=\"NONE\",\n",
    "            inner_maximum=ninner,\n",
    "            inner_dvclose=hclose,\n",
    "            rcloserecord=rclose,\n",
    "            linear_acceleration=\"BICGSTAB\",\n",
    "            scaling_method=\"NONE\",\n",
    "            reordering_method=\"NONE\",\n",
    "            relaxation_factor=relax,\n",
    "            filename=f\"{gwtname}.ims\",\n",
    "        )\n",
    "        sim.register_ims_package(imsgwt, [gwt.name])\n",
    "\n",
    "        print('--- Building DIS package ---')\n",
    "        dis = gwf.dis\n",
    "\n",
    "        # create grid object\n",
    "        dis = flopy.mf6.ModflowGwtdis(\n",
    "            gwt,\n",
    "            length_units=length_units,\n",
    "            nlay=nlay,\n",
    "            nrow=nrow,\n",
    "            ncol=ncol,\n",
    "            delr=delr,\n",
    "            delc=delc,\n",
    "            top=top,\n",
    "            botm=botm,\n",
    "            idomain=np.ones((nlay, nrow, ncol), dtype=int),\n",
    "            filename=f\"{gwtname}.dis\",\n",
    "        )\n",
    "        dis.set_all_data_external()\n",
    "\n",
    "         \n",
    "        ic = flopy.mf6.ModflowGwtic(gwt, strt=mup3d.sconc[c], filename=f\"{gwtname}.ic\")\n",
    "        ic.set_all_data_external()\n",
    "\n",
    "        # cncspd = {0: [[(0, 0, col), conc] for col, conc in zip(range(ncol), model.sconc[c][0,0,:])]}\n",
    "        cncspd = {0: [[(ly, 0, 0), model.sconc[c][ly,0,0]] for ly in range(3,nlay)]}\n",
    "\n",
    "        # print(cncspd)\n",
    "        cnc = flopy.mf6.ModflowGwtcnc(gwt,\n",
    "                                        # maxbound=len(cncspd),\n",
    "                                        stress_period_data=cncspd,\n",
    "                                        save_flows=True,\n",
    "                                        print_flows = True,\n",
    "                                        pname=\"CNC\",\n",
    "                                        filename=f\"{gwtname}.cnc\",\n",
    "                                        )\n",
    "        cnc.set_all_data_external()\n",
    "        # Instantiating MODFLOW 6 transport source-sink mixing package\n",
    "        sourcerecarray = ['chd', 'aux', f'{c}']\n",
    "        # sourcerecarray = [()]\n",
    "        ssm = flopy.mf6.ModflowGwtssm(\n",
    "            gwt, \n",
    "            sources=sourcerecarray, \n",
    "            save_flows=True,\n",
    "            print_flows=True,\n",
    "\n",
    "            filename=f\"{gwtname}.ssm\"\n",
    "        )\n",
    "        ssm.set_all_data_external()\n",
    "        # Instantiating MODFLOW 6 transport adv package\n",
    "        print('--- Building ADV package ---')\n",
    "        adv = flopy.mf6.ModflowGwtadv(\n",
    "            gwt,\n",
    "            scheme=\"tvd\",\n",
    "        )\n",
    "\n",
    "        # Instantiating MODFLOW 6 transport dispersion package\n",
    "        alpha_l = np.ones(shape=(nlay, nrow, ncol))*dispersivity  # Longitudinal dispersivity ($m$)\n",
    "        ath1 = np.ones(shape=(nlay, nrow, ncol))*dispersivity  # Transverse horizontal dispersivity ($m$)\n",
    "        atv = np.ones(shape=(nlay, nrow, ncol))*disp_tr_vert  # Transverse vertical dispersivity ($m$)\n",
    "\n",
    "        print('--- Building DSP package ---')\n",
    "        dsp = flopy.mf6.ModflowGwtdsp(\n",
    "            gwt,\n",
    "            xt3d_off=True,\n",
    "            alh=alpha_l,\n",
    "            ath1=ath1,\n",
    "            atv = atv,\n",
    "            # diffc = diffc,\n",
    "            filename=f\"{gwtname}.dsp\",\n",
    "        )\n",
    "        dsp.set_all_data_external()\n",
    "\n",
    "        # Instantiating MODFLOW 6 transport mass storage package (formerly \"reaction\" package in MT3DMS)\n",
    "        print('--- Building MST package ---')\n",
    "\n",
    "        first_order_decay = None\n",
    "\n",
    "        mst = flopy.mf6.ModflowGwtmst(\n",
    "            gwt,\n",
    "            porosity=prsity,\n",
    "            first_order_decay=first_order_decay,\n",
    "            filename=f\"{gwtname}.mst\",\n",
    "        )\n",
    "        mst.set_all_data_external()\n",
    "\n",
    "        print('--- Building OC package ---')\n",
    "\n",
    "        # Instantiating MODFLOW 6 transport output control package\n",
    "        oc_gwt = flopy.mf6.ModflowGwtoc(\n",
    "            gwt,\n",
    "            budget_filerecord=f\"{gwtname}.cbb\",\n",
    "            concentration_filerecord=f\"{gwtname}.ucn\",\n",
    "            concentrationprintrecord=[(\"COLUMNS\", 10, \"WIDTH\", 15, \"DIGITS\", 10, \"GENERAL\")\n",
    "                                        ],\n",
    "            saverecord=[(\"CONCENTRATION\", \"ALL\"), \n",
    "                        (\"BUDGET\", \"ALL\")\n",
    "                        ],\n",
    "            printrecord=[(\"CONCENTRATION\", \"ALL\"), \n",
    "                            (\"BUDGET\", \"ALL\")\n",
    "                            ],\n",
    "        )\n",
    "\n",
    "        # Instantiating MODFLOW 6 flow-transport exchange mechanism\n",
    "        flopy.mf6.ModflowGwfgwt(\n",
    "            sim,\n",
    "            exgtype=\"GWF6-GWT6\",\n",
    "            exgmnamea=gwfname,\n",
    "            exgmnameb=gwtname,\n",
    "            filename=f\"{gwtname}.gwfgwt\",\n",
    "        )\n",
    "\n",
    "    sim.write_simulation()\n",
    "    utils.prep_bins(sim_ws, src_path=os.path.join('..','bin'))\n",
    "    \n",
    "    return sim"
   ]
  },
  {
   "cell_type": "code",
   "execution_count": null,
   "metadata": {
    "execution": {
     "iopub.execute_input": "2024-08-06T04:56:23.368173Z",
     "iopub.status.busy": "2024-08-06T04:56:23.368173Z",
     "iopub.status.idle": "2024-08-06T04:56:25.673643Z",
     "shell.execute_reply": "2024-08-06T04:56:25.673643Z"
    }
   },
   "outputs": [],
   "source": [
    "sim = build_model(model)"
   ]
  },
  {
   "cell_type": "code",
   "execution_count": null,
   "metadata": {
    "execution": {
     "iopub.execute_input": "2024-08-06T04:56:25.676655Z",
     "iopub.status.busy": "2024-08-06T04:56:25.675653Z",
     "iopub.status.idle": "2024-08-06T04:56:52.289926Z",
     "shell.execute_reply": "2024-08-06T04:56:52.289926Z"
    }
   },
   "outputs": [],
   "source": [
    "mf6rtm.solve(model.wd)"
   ]
  },
  {
   "cell_type": "code",
   "execution_count": null,
   "metadata": {
    "execution": {
     "iopub.execute_input": "2024-08-06T04:56:52.291047Z",
     "iopub.status.busy": "2024-08-06T04:56:52.291047Z",
     "iopub.status.idle": "2024-08-06T04:56:52.294575Z",
     "shell.execute_reply": "2024-08-06T04:56:52.294575Z"
    }
   },
   "outputs": [],
   "source": [
    "def get_lst_budget(ws='.', comp = '', start_datetime=None):\n",
    "    budgetkey  = 'MASS BUDGET FOR ENTIRE MODEL'\n",
    "    lst = flopy.utils.Mf6ListBudget(os.path.join(ws,f\"{comp}.lst\"), budgetkey = budgetkey)\n",
    "    inc,cum = lst.get_dataframes(start_datetime=start_datetime)\n",
    "    inc.columns = inc.columns.map(lambda x: x.lower().replace(\"_\",\"-\"))\n",
    "    cum.columns = cum.columns.map(lambda x: x.lower().replace(\"_\", \"-\"))\n",
    "    inc.index.name = \"time\"\n",
    "    cum.index.name = \"time\"\n",
    "    return inc, cum"
   ]
  },
  {
   "cell_type": "code",
   "execution_count": null,
   "metadata": {
    "execution": {
     "iopub.execute_input": "2024-08-06T04:56:52.296694Z",
     "iopub.status.busy": "2024-08-06T04:56:52.295684Z",
     "iopub.status.idle": "2024-08-06T04:56:52.515559Z",
     "shell.execute_reply": "2024-08-06T04:56:52.515559Z"
    }
   },
   "outputs": [],
   "source": [
    "inc, cum = get_lst_budget(ws = os.path.join(model.wd), comp = 'K')\n",
    "inc"
   ]
  },
  {
   "cell_type": "markdown",
   "metadata": {},
   "source": [
    "## Plots"
   ]
  },
  {
   "cell_type": "code",
   "execution_count": null,
   "metadata": {
    "execution": {
     "iopub.execute_input": "2024-08-06T04:56:52.517662Z",
     "iopub.status.busy": "2024-08-06T04:56:52.516671Z",
     "iopub.status.idle": "2024-08-06T04:56:52.842741Z",
     "shell.execute_reply": "2024-08-06T04:56:52.842118Z"
    }
   },
   "outputs": [],
   "source": [
    "wd = os.path.join(f'{prefix}', f'pht3d')\n",
    "# dx = 0.01\n",
    "simdf = pd.read_csv(os.path.join(wd, 'out.dat'), sep = '\\t', skipinitialspace=True, index_col=[0])\n",
    "simdf.drop(simdf.columns[len(simdf.columns)-1], axis=1, inplace=True)\n",
    "\n",
    "simdf.loc[:, 'x'] = simdf['cell'] * delr\n",
    "\n",
    "simapi = pd.read_csv(os.path.join(model.wd,'sout.csv'), sep = ',', skipinitialspace=True, index_col=[0])\n",
    "simapi.loc[:, 'x'] = (simapi['cell'] + 1)*delr\n",
    "\n",
    "#offset index of simapi by tstep\n",
    "simapi.index = simapi.index + tstep\n",
    "#simapi drop S-2 column\n",
    "simapi.drop(columns = ['S-2'], inplace = True)\n",
    "simapi\n",
    "\n",
    "\n",
    "# get all ucn files in wd\n",
    "ucn_files = [f for f in os.listdir(wd) if f.lower().endswith('.ucn')]\n",
    "ucn_files\n",
    "\n",
    "# get file that ends in py\n",
    "pht3dpy = [f for f in os.listdir(wd) if f.endswith('py')]\n",
    "\n",
    "#read pht3dpy file\n",
    "ucndic = {}\n",
    "pht3dpy = os.path.join(wd, pht3dpy[0])\n",
    "with open(pht3dpy, 'r') as f:\n",
    "    # print(f.read())\n",
    "    for l in f:\n",
    "        n =re.findall(r'\\d+', l.split()[-1])[-1]\n",
    "        ucndic[l.split()[0].replace('_', \"\")] = f\"PHT3D{n}.UCN\"\n",
    "        \n",
    "for k,v in ucndic.items():\n",
    "    ucn = flopy.utils.HeadFile(os.path.join(wd, v),text=f\"concentration\")\n",
    "    results = ucn.get_alldata()\n",
    "    ucndic[k] = results\n",
    "timespht3d = ucn.get_times()\n",
    "    \n",
    "for var in simapi.columns:\n",
    "    closest_match = find_closest_match(var, ucndic)\n",
    "    if closest_match:\n",
    "        ucndic[var] = ucndic.pop(closest_match)\n",
    "        # print(f\"Closest match to {var}: {closest_match}\")\n",
    "simapi.iloc[1:,:-7]\n",
    "\n",
    "ucndic['K'].shape"
   ]
  },
  {
   "cell_type": "code",
   "execution_count": null,
   "metadata": {
    "execution": {
     "iopub.execute_input": "2024-08-06T04:56:52.844746Z",
     "iopub.status.busy": "2024-08-06T04:56:52.844746Z",
     "iopub.status.idle": "2024-08-06T04:56:53.393545Z",
     "shell.execute_reply": "2024-08-06T04:56:53.393283Z"
    }
   },
   "outputs": [],
   "source": [
    "wd = os.path.join(f'{prefix}', f'mf6rtm')\n",
    "# get all ucn files in wd\n",
    "ucn_files = [f for f in os.listdir(wd) if f.lower().endswith('.ucn')]\n",
    "ucn_files\n",
    "\n",
    "ucndic_mf6 = {}\n",
    "for k in ucn_files:\n",
    "    ucn = flopy.utils.HeadFile(os.path.join(wd, k),text=f\"concentration\")\n",
    "    results = ucn.get_alldata()\n",
    "    ucndic_mf6[f'{k.split(\".\")[0]}'] = results\n",
    "times = ucn.get_times()"
   ]
  },
  {
   "cell_type": "code",
   "execution_count": null,
   "metadata": {
    "execution": {
     "iopub.execute_input": "2024-08-06T04:56:53.395552Z",
     "iopub.status.busy": "2024-08-06T04:56:53.394589Z",
     "iopub.status.idle": "2024-08-06T04:56:54.031154Z",
     "shell.execute_reply": "2024-08-06T04:56:54.031154Z"
    }
   },
   "outputs": [],
   "source": [
    "#get common keys from ucndic and ucndic_mf6\n",
    "common_keys = set(ucndic.keys()).intersection(ucndic_mf6.keys())\n",
    "common_keys\n",
    "\n",
    "pncol=2\n",
    "variables = common_keys\n",
    "\n",
    "pnrow = calc_rows_from_ncol(variables, pncol)\n",
    "\n",
    "\n",
    "\n",
    "fig, axs = plt.subplots(pnrow,pncol, figsize = (10, 10))\n",
    "for var, ax in zip(common_keys, axs.flatten()):\n",
    "    ax.plot([x/365 for x in timespht3d], ucndic[var][:,0,0,0], label = f'{prefix} - PHT3D')\n",
    "    ax.plot([x/365 for x in times[1:]], ucndic_mf6[var][1:,0,0,0]/1000, label = f'{prefix} - mf6rtm')\n",
    "\n",
    "    #get min and max of y axis\n",
    "    xmin, xmax = ax.get_ylim()\n",
    "    # ax.set_ylim(xmin*.8, xmax*1.2)\n",
    "\n",
    "    ax.set_xlabel('time (yr)')\n",
    "    if var not in ['pH', 'pe']:\n",
    "        ax.set_ylabel('C (mol L3$^{-3}$)')\n",
    "    ax.set_title(f'{var}')\n",
    "    ax.ticklabel_format(useOffset=False)\n",
    "    ax.legend()\n",
    "fig.tight_layout()"
   ]
  },
  {
   "cell_type": "code",
   "execution_count": null,
   "metadata": {},
   "outputs": [],
   "source": []
  },
  {
   "cell_type": "code",
   "execution_count": null,
   "metadata": {
    "execution": {
     "iopub.execute_input": "2024-08-06T04:56:54.033161Z",
     "iopub.status.busy": "2024-08-06T04:56:54.033161Z",
     "iopub.status.idle": "2024-08-06T04:56:55.199864Z",
     "shell.execute_reply": "2024-08-06T04:56:55.199864Z"
    }
   },
   "outputs": [],
   "source": [
    "pncol=2\n",
    "variables = simapi.iloc[:,1:-7 ].columns #dissolved only\n",
    "\n",
    "pnrow = calc_rows_from_ncol(variables, pncol)\n",
    "\n",
    "\n",
    "\n",
    "fig, axs = plt.subplots(pnrow,pncol, figsize = (10, 20))\n",
    "for var, ax in zip(simapi.iloc[:,1:-7 ].columns, axs.flatten()):\n",
    "\n",
    "    df = simapi[simapi['cell'] == 0.].copy()\n",
    "    t = df.index/365\n",
    "\n",
    "    ax.scatter([x/365 for x in timespht3d], ucndic[var][:,0,0,0], label = f'PHT3D',\n",
    "               facecolors='none', edgecolors='r',)\n",
    "    ax.plot(t, df.loc[:, var].values, label = f'MF6RTM', \n",
    "                zorder = 10)\n",
    "    #get min and max of y axis\n",
    "    xmin, xmax = ax.get_ylim()\n",
    "    # ax.set_ylim(xmin*.9, xmax*1.1)\n",
    "\n",
    "    ax.set_xlabel('time (yr)')\n",
    "    if var not in ['pH', 'pe']:\n",
    "        ax.set_ylabel('C (mol L$^{-3}$)')\n",
    "    ax.set_title(f'{var}')\n",
    "    ax.ticklabel_format(useOffset=False)\n",
    "    ax.legend()\n",
    "fig.tight_layout()"
   ]
  },
  {
   "cell_type": "code",
   "execution_count": null,
   "metadata": {
    "execution": {
     "iopub.execute_input": "2024-08-06T04:56:55.202906Z",
     "iopub.status.busy": "2024-08-06T04:56:55.202906Z",
     "iopub.status.idle": "2024-08-06T04:56:56.839181Z",
     "shell.execute_reply": "2024-08-06T04:56:56.839181Z"
    }
   },
   "outputs": [],
   "source": [
    "pncol=2\n",
    "variables = simapi.iloc[:,1:-7 ].columns #dissolved only\n",
    "\n",
    "pnrow = calc_rows_from_ncol(variables, pncol)\n",
    "\n",
    "\n",
    "\n",
    "fig, axs = plt.subplots(pnrow,pncol, figsize = (10, 20))\n",
    "for var, ax in zip(simapi.iloc[:,1:-7 ].columns, axs.flatten()):\n",
    "    # print(ucndic[var][:,-1,0,-1])\n",
    "    # ax.plot(simdf.x.unique(), simdf.loc[perlen, var], label = 'Engesgaard1992 - PHT3D')\n",
    "    df = simapi[simapi['cell'] == 249.].copy()\n",
    "    t = df.index/365\n",
    "\n",
    "    ax.scatter([x/365 for x in timespht3d][::2], ucndic[var][:,0,-1,-1][::2], label = f'PHT3D',\n",
    "               facecolors='none', edgecolors='r',)\n",
    "    ax.plot(t, df.loc[:, var], label = f'MF6RTM', \n",
    "                zorder = 10)\n",
    "    #get min and max of y axis\n",
    "    xmin, xmax = ax.get_ylim()\n",
    "    # ax.set_ylim(xmin*.9, xmax*1.1)\n",
    "\n",
    "    ax.set_xlabel('time (yr)')\n",
    "    if var not in ['pH', 'pe']:\n",
    "        ax.set_ylabel('C (mol L$^{-3}$)')\n",
    "    ax.set_title(f'{var}')\n",
    "    ax.ticklabel_format(useOffset=False)\n",
    "    ax.legend()\n",
    "fig.tight_layout()\n",
    "fig.savefig('ex3.png')"
   ]
  },
  {
   "cell_type": "code",
   "execution_count": null,
   "metadata": {
    "execution": {
     "iopub.execute_input": "2024-08-06T04:56:56.842185Z",
     "iopub.status.busy": "2024-08-06T04:56:56.842185Z",
     "iopub.status.idle": "2024-08-06T04:56:57.319286Z",
     "shell.execute_reply": "2024-08-06T04:56:57.319286Z"
    }
   },
   "outputs": [],
   "source": [
    "variables = simapi.iloc[:, -7: -1].columns #dissolved only\n",
    "pncol=2\n",
    "pnrow = calc_rows_from_ncol(variables, pncol)\n",
    "\n",
    "\n",
    "\n",
    "fig, axs = plt.subplots(pnrow,pncol, figsize = (10, 8))\n",
    "for var, ax in zip(variables, axs.flatten()):\n",
    "    # print(ucndic[var][:,-1,0,-1])\n",
    "    # ax.plot(simdf.x.unique(), simdf.loc[perlen, var], label = 'Engesgaard1992 - PHT3D')\n",
    "    df = simapi[simapi['cell'] == simapi['cell'].max()].copy()\n",
    "    t = df.index/365\n",
    "    ax.plot([x/365 for x in timespht3d], ucndic[var][:,0,-1,-1], label = f'PHT3D')\n",
    "\n",
    "\n",
    "    ax.scatter(t[::50], df.loc[:, var][::50], label = f'MF6RTM', edgecolors='r', facecolors='none', zorder = 10)\n",
    "    ax.set_xlabel('time (yr)')\n",
    "    if var not in ['pH', 'pe']:\n",
    "        ax.set_ylabel('C (mol L$^{-3}$)')\n",
    "    #get min and max of y axis\n",
    "    xmin, xmax = ax.get_ylim()\n",
    "    ax.set_ylim(xmin*.8, xmax*1.2) \n",
    "    \n",
    "    ax.set_title(f'{var}')\n",
    "    ax.ticklabel_format(useOffset=False)\n",
    "    ax.legend()\n",
    "fig.tight_layout()"
   ]
  },
  {
   "cell_type": "code",
   "execution_count": null,
   "metadata": {
    "execution": {
     "iopub.execute_input": "2024-08-06T04:56:57.321290Z",
     "iopub.status.busy": "2024-08-06T04:56:57.320290Z",
     "iopub.status.idle": "2024-08-06T04:56:58.809749Z",
     "shell.execute_reply": "2024-08-06T04:56:58.809749Z"
    }
   },
   "outputs": [],
   "source": [
    "t = 2000\n",
    "v = 'Ca'\n",
    "# simapi.loc[t, v].values\n",
    "# vmin = np.min(simapi.loc[t, v].values)\n",
    "# vmax =  np.max(simapi.loc[t, v].values)\n",
    "# levels = np.linspace(vmin, vmax, 4)\n",
    "extent=[0, Lx, botm[-1], top]\n",
    "fmt = '%1.2e'\n",
    "# arr  = np.reshape(simapi.loc[t, v].values, (nlay, nrow, ncol))\n",
    "arr = ucndic_mf6[v]\n",
    "# arr = arr[1:]\n",
    "# ucndic[var][:,-1,0,-1]\n",
    "fig, axs = plt.subplots(1,1,figsize=(10, 5))\n",
    "ax = axs\n",
    "ax.set_title(f'{v} @ time: {t/365:.1f} yrs')\n",
    "im1 = ax.imshow(arr[-1,:,0,:]/1000, aspect = 'auto', extent=extent)\n",
    "cbar = plt.colorbar(im1, ax=ax, label = 'C (mol L$^{-3}$)')\n",
    "\n",
    "# add contour labels\n",
    "cntr1 = ax.contour(arr[-1,:,0,:]/1000, levels = 10, colors='k', \n",
    "                   linestyles = 'dashed', linewidths = 1, extent=extent)  \n",
    "#add contour labels\n",
    "ax.clabel(cntr1, inline=True, fontsize=5, fmt=fmt)\n",
    "\n",
    "cntr2 = ax.contour(ucndic[v][-1,0,:,:], levels = 10, colors='r',\n",
    "                   linestyles = 'dotted',  linewidths = 1, extent=extent) \n",
    "ax.clabel(cntr2, inline=True, fontsize=5, fmt=fmt)\n",
    "\n",
    "\n",
    "ax.set_xlabel('x (m)')\n",
    "ax.set_ylabel('z (m)')\n",
    "h1,_ = cntr1.legend_elements()\n",
    "h2,_ = cntr2.legend_elements()\n",
    "ax.legend([h1[0], h2[0]], [f'MF6RTM', f'PHT3D'])\n",
    "fig.tight_layout()\n",
    "fig.savefig(os.path.join(f'{prefix}_{v}_{t}.png'), dpi=600)"
   ]
  },
  {
   "cell_type": "code",
   "execution_count": null,
   "metadata": {
    "execution": {
     "iopub.execute_input": "2024-08-06T04:56:58.812806Z",
     "iopub.status.busy": "2024-08-06T04:56:58.812806Z",
     "iopub.status.idle": "2024-08-06T04:56:58.816730Z",
     "shell.execute_reply": "2024-08-06T04:56:58.816730Z"
    }
   },
   "outputs": [],
   "source": [
    "arr.shape[3]"
   ]
  },
  {
   "cell_type": "code",
   "execution_count": null,
   "metadata": {
    "execution": {
     "iopub.execute_input": "2024-08-06T04:56:58.818739Z",
     "iopub.status.busy": "2024-08-06T04:56:58.818739Z",
     "iopub.status.idle": "2024-08-06T04:56:58.976085Z",
     "shell.execute_reply": "2024-08-06T04:56:58.975055Z"
    }
   },
   "outputs": [],
   "source": [
    "fmt = '%1.2e'\n",
    "\n",
    "fig, axs = plt.subplots(1,1,figsize=(10, 5))\n",
    "ax = axs\n",
    "im2 = ax.imshow(ucndic['K'][-1,0,:,:], aspect = 'auto')\n",
    "cbar = plt.colorbar(im2, ax=ax)\n",
    "cntr2 = plt.contour(ucndic[v][-1,0,:,:], levels = 10, colors='r',\n",
    "                   linestyles = 'dotted',  linewidths = 1) \n",
    "plt.clabel(cntr2, inline=True, fontsize=10, fmt=fmt)\n"
   ]
  },
  {
   "cell_type": "code",
   "execution_count": null,
   "metadata": {
    "execution": {
     "iopub.execute_input": "2024-08-06T04:56:58.980357Z",
     "iopub.status.busy": "2024-08-06T04:56:58.979335Z",
     "iopub.status.idle": "2024-08-06T04:56:59.159451Z",
     "shell.execute_reply": "2024-08-06T04:56:59.158764Z"
    }
   },
   "outputs": [],
   "source": [
    "#plot heads of gwf model from mf6 sim with flopy\n",
    "hds = flopy.utils.HeadFile(os.path.join(model.wd, 'gwf.hds'))\n",
    "headmf6 = hds.get_alldata()\n",
    "\n",
    "# plot with flopy\n",
    "fig = plt.figure(figsize=(10, 5))\n",
    "ax = fig.add_subplot(1, 1, 1)\n",
    "ax.set_title('Head')\n",
    "im = ax.imshow(headmf6[-1, :, 0, :], aspect = 'auto')\n",
    "cbar = plt.colorbar(im, ax=ax)\n",
    "#add contours   \n",
    "levels = np.linspace(headmf6[-1, :, 0, :].min(), headmf6[-1, :, 0, :].max(), 10)\n",
    "cntr = ax.contour(headmf6[-1, :, 0, :], levels = levels, colors='k', linestyles = 'dashed', linewidths = 1)\n",
    "ax.clabel(cntr, inline=True, fontsize=10, fmt='%1.1f')\n",
    "plt.show()\n"
   ]
  },
  {
   "cell_type": "code",
   "execution_count": null,
   "metadata": {
    "execution": {
     "iopub.execute_input": "2024-08-06T04:56:59.160507Z",
     "iopub.status.busy": "2024-08-06T04:56:59.160507Z",
     "iopub.status.idle": "2024-08-06T04:56:59.302770Z",
     "shell.execute_reply": "2024-08-06T04:56:59.302770Z"
    }
   },
   "outputs": [],
   "source": [
    "#plot the heads from pht3d model\n",
    "wd = os.path.join(f'{prefix}',f'pht3d')\n",
    "\n",
    "hds = flopy.utils.HeadFile(os.path.join(wd, f'walter1994.head'))\n",
    "head = hds.get_alldata()\n",
    "head.shape\n",
    "\n",
    "#plot heads\n",
    "fig = plt.figure(figsize=(10, 5))\n",
    "ax = fig.add_subplot(1, 1, 1)\n",
    "ax.set_title('Head')\n",
    "im = ax.imshow(head[-1, 0, :, :], aspect = 'auto')\n",
    "cbar = plt.colorbar(im, ax=ax)\n",
    "#add contours\n",
    "levels = np.linspace(head[0, 0, :, :].min(), head[0, 0, :, :].max(), 10)\n",
    "cntr = ax.contour(head[0, 0, :, :], levels = levels, colors='k', linestyles = 'dashed', linewidths = 0.5)\n",
    "\n",
    "levels = np.linspace(headmf6[-1, :, 0, :].min(), headmf6[-1, :, 0, :].max(), 10)\n",
    "cntr = ax.contour(headmf6[-1, :, 0, :], levels = levels, colors='w', linestyles = 'dotted', linewidths = 0.5)\n",
    "ax.clabel(cntr, inline=True, fontsize=10, fmt='%1.1f')\n"
   ]
  }
 ],
 "metadata": {
  "kernelspec": {
   "display_name": "mf6rtm",
   "language": "python",
   "name": "python3"
  },
  "language_info": {
   "codemirror_mode": {
    "name": "ipython",
    "version": 3
   },
   "file_extension": ".py",
   "mimetype": "text/x-python",
   "name": "python",
   "nbconvert_exporter": "python",
   "pygments_lexer": "ipython3",
   "version": "3.10.14"
  }
 },
 "nbformat": 4,
 "nbformat_minor": 2
}
