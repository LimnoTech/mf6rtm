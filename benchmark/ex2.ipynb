{
 "cells": [
  {
   "cell_type": "markdown",
   "metadata": {},
   "source": [
    "# Example 2: Walter 1994 in 1D. Migration of precipitation/dissolution fronts\n",
    "\n",
    "This test problem is a one-dimensional, purely inorganic redox problem that was first presented by Walter et al. (1994). It  was subsequently used as a benchmark problem by Guerin and Zheng (1998). It demonstrates the evolution of some important geochemical processes that occur when acidic mine tailings leach into an anaerobic carbonate aquifer. Aqueous complexation and dissolution/precipitation are all considered as equilibrium reactions. If the reaction network defined by Walter et al. (1994) is used, the simulation includes 17 aqueous components, 15 of which are transported, 54 aqueous species and six minerals."
   ]
  },
  {
   "cell_type": "code",
   "execution_count": null,
   "metadata": {
    "execution": {
     "iopub.execute_input": "2024-08-06T04:56:09.746787Z",
     "iopub.status.busy": "2024-08-06T04:56:09.745788Z",
     "iopub.status.idle": "2024-08-06T04:56:10.704873Z",
     "shell.execute_reply": "2024-08-06T04:56:10.704873Z"
    }
   },
   "outputs": [],
   "source": [
    "from pathlib import Path\n",
    "import os\n",
    "from modflowapi.extensions import ApiSimulation\n",
    "from modflowapi import Callbacks\n",
    "# from workflow import *\n",
    "from datetime import datetime\n",
    "import sys\n",
    "import pandas as pd\n",
    "import numpy as np\n",
    "import matplotlib.pyplot as plt\n",
    "\n",
    "#add mf6rtm path to the system\n",
    "import flopy\n",
    "from mf6rtm import utils\n",
    "from mf6rtm import mf6rtm\n",
    "import re\n",
    "import difflib\n",
    "\n",
    "prefix = 'ex2'\n",
    "DT_FMT = \"%Y-%m-%d %H:%M:%S\"\n",
    "dataws = os.path.join(\"data\")\n",
    "databasews = os.path.join(\"database\")\n",
    "\n",
    "\n",
    "#stuff to compare outputs from pht3d and mf6rtm\n",
    "\n",
    "def find_closest_match(query, dictionary):\n",
    "    closest_match = difflib.get_close_matches(query, dictionary.keys(), n=1)\n",
    "    if closest_match:\n",
    "        return closest_match[0]\n",
    "    else:\n",
    "        return None\n",
    "    \n",
    "def calc_rows_from_ncol(variables, ncols=4):\n",
    "    '''\n",
    "    Calculates number of rows for subplots\n",
    "    from ncols and len of variables to plot.\n",
    "\n",
    "    Parameters:\n",
    "        variables (list or sequence): list of variables to plot\n",
    "        ncols (int): number of columns to plot\n",
    "    '''\n",
    "    n_subplots = len(variables)\n",
    "    # calculate number of rows\n",
    "    nrows = n_subplots // ncols + (n_subplots % ncols > 0)\n",
    "    return nrows"
   ]
  },
  {
   "cell_type": "markdown",
   "metadata": {},
   "source": [
    "## Flow and Transport Setup"
   ]
  },
  {
   "cell_type": "code",
   "execution_count": null,
   "metadata": {
    "execution": {
     "iopub.execute_input": "2024-08-06T04:56:10.707218Z",
     "iopub.status.busy": "2024-08-06T04:56:10.707218Z",
     "iopub.status.idle": "2024-08-06T04:56:10.712542Z",
     "shell.execute_reply": "2024-08-06T04:56:10.712542Z"
    }
   },
   "outputs": [],
   "source": [
    "### Model params and setup\n",
    "\n",
    "# General\n",
    "length_units = \"meters\"\n",
    "time_units = \"days\"\n",
    "\n",
    "# Model discretization\n",
    "nlay = 1  # Number of layers\n",
    "Lx = 0.4 #m\n",
    "ncol = 80 # Number of columns\n",
    "nrow = 1  # Number of rows\n",
    "delr = Lx/ncol #10.0  # Column width ($m$)\n",
    "delc = 1.0  # Row width ($m$)\n",
    "top = 1.  # Top of the model ($m$)\n",
    "# botm = 0.0  # Layer bottom elevations ($m$)\n",
    "zbotm = 0.\n",
    "botm = np.linspace(top, zbotm, nlay + 1)[1:]\n",
    "\n",
    "#tdis\n",
    "nper = 1  # Number of periods\n",
    "tstep = 1  # Time step ($days$)\n",
    "perlen = 24  # Simulation time ($days$)\n",
    "nstp = perlen/tstep #100.0\n",
    "dt0 = perlen / nstp\n",
    "tdis_rc = []\n",
    "tdis_rc.append((perlen, nstp, 1.0))\n",
    "\n",
    "#injection\n",
    "q = 0.007 #injection rate m3/d\n",
    "wel_spd = [[(0,0,0), q]]\n",
    "\n",
    "\n",
    "#hydraulic properties\n",
    "prsity = 0.35  # Porosity\n",
    "k11 = 1.0  # Horizontal hydraulic conductivity ($m/d$)\n",
    "k33 = k11  # Vertical hydraulic conductivity ($m/d$)\n",
    "strt = np.ones((nlay, nrow, ncol), dtype=float)*1\n",
    "# two chd one for tailings and conc and other one for hds \n",
    "\n",
    "# two chd one for tailings and conc and other one for hds \n",
    "r_hd = 1\n",
    "strt = np.ones((nlay, nrow, ncol), dtype=float)\n",
    "\n",
    "chdspd = [[(i, 0, ncol-1), r_hd] for i in range(nlay)] # Constant head boundary $m$\n",
    "\n",
    "#transport\n",
    "dispersivity = 0.005 # Longitudinal dispersivity ($m$)\n",
    "disp_tr_vert = dispersivity*0.1 # Transverse vertical dispersivity ($m$)\n",
    "\n",
    "\n",
    "icelltype = 1  # Cell conversion type\n",
    "\n",
    "# Set solver parameter values (and related)\n",
    "nouter, ninner = 300, 600\n",
    "hclose, rclose, relax = 1e-6, 1e-6, 1.0"
   ]
  },
  {
   "cell_type": "markdown",
   "metadata": {},
   "source": [
    "## Initialize Chemistry in Domain"
   ]
  },
  {
   "cell_type": "code",
   "execution_count": null,
   "metadata": {
    "execution": {
     "iopub.execute_input": "2024-08-06T04:56:10.714914Z",
     "iopub.status.busy": "2024-08-06T04:56:10.714914Z",
     "iopub.status.idle": "2024-08-06T04:56:10.726954Z",
     "shell.execute_reply": "2024-08-06T04:56:10.726954Z"
    }
   },
   "outputs": [],
   "source": [
    "files = [f for f in os.listdir(dataws) if f.startswith(prefix)]\n",
    "\n",
    "solutionsdf = pd.read_csv(os.path.join(dataws,f\"{prefix}_solutions.csv\"), comment = '#',  index_col = 0)\n",
    "\n",
    "# solutions = utils.solution_csv_to_dict(os.path.join(dataws,f\"{prefix}_solutions.csv\"))\n",
    "solutions = utils.solution_df_to_dict(solutionsdf)\n",
    "\n",
    "#get postfix file\n",
    "solutionsdf"
   ]
  },
  {
   "cell_type": "code",
   "execution_count": null,
   "metadata": {
    "execution": {
     "iopub.execute_input": "2024-08-06T04:56:10.754100Z",
     "iopub.status.busy": "2024-08-06T04:56:10.754100Z",
     "iopub.status.idle": "2024-08-06T04:56:10.758627Z",
     "shell.execute_reply": "2024-08-06T04:56:10.758627Z"
    }
   },
   "outputs": [],
   "source": [
    "# get equilibrium phases file\n",
    "equilibrium_phases = utils.equilibrium_phases_csv_to_dict(os.path.join(dataws, f'{prefix}_equilibrium_phases.csv'))\n",
    "equilibrium_phases\n",
    "\n",
    "\n",
    "# equlibrium phases is a dictionary with keys as the phase number, values is another dictionary with phase name and an array of saturation indices as element 0 and concentrations as element 1. multiply the concentrations by 2\n",
    "for key, value in equilibrium_phases.items():\n",
    "    for k, v in value.items():\n",
    "        v[-1] = mf6rtm.concentration_volbulk_to_volwater( v[-1], prsity)\n",
    "equilibrium_phases"
   ]
  },
  {
   "cell_type": "code",
   "execution_count": null,
   "metadata": {
    "execution": {
     "iopub.execute_input": "2024-08-06T04:56:10.760632Z",
     "iopub.status.busy": "2024-08-06T04:56:10.760632Z",
     "iopub.status.idle": "2024-08-06T04:56:10.764613Z",
     "shell.execute_reply": "2024-08-06T04:56:10.764613Z"
    }
   },
   "outputs": [],
   "source": [
    "#assign solutions to grid\n",
    "sol_ic = np.ones((nlay, nrow, ncol), dtype=float)\n",
    "\n",
    "#add solutions to clss\n",
    "solution = mf6rtm.Solutions(solutions)\n",
    "solution.set_ic(sol_ic)\n",
    "\n",
    "#create equilibrium phases class\n",
    "equilibrium_phases = mf6rtm.EquilibriumPhases(equilibrium_phases)\n",
    "eqp_ic = 1\n",
    "\n",
    "equilibrium_phases.set_ic(eqp_ic)\n",
    "\n",
    "#create model class\n",
    "model = mf6rtm.Mup3d(prefix,solution, nlay, nrow, ncol)\n",
    "\n",
    "#set model workspace\n",
    "model.set_wd(os.path.join(f'{prefix}', f'mf6rtm'))\n",
    "\n",
    "#set database\n",
    "database = os.path.join(databasews, f'pht3d_datab_walter1994.dat')\n",
    "model.set_database(database)\n",
    "\n",
    "#include equilibrium phases in model class\n",
    "model.set_equilibrium_phases(equilibrium_phases)\n",
    "\n",
    "postfix = os.path.join(dataws, f'{prefix}_postfix.phqr')\n",
    "model.set_postfix(postfix)"
   ]
  },
  {
   "cell_type": "code",
   "execution_count": null,
   "metadata": {
    "execution": {
     "iopub.execute_input": "2024-08-06T04:56:10.766658Z",
     "iopub.status.busy": "2024-08-06T04:56:10.766658Z",
     "iopub.status.idle": "2024-08-06T04:56:10.768681Z",
     "shell.execute_reply": "2024-08-06T04:56:10.768681Z"
    }
   },
   "outputs": [],
   "source": [
    "model.set_charge_offset(0.0)"
   ]
  },
  {
   "cell_type": "code",
   "execution_count": null,
   "metadata": {
    "execution": {
     "iopub.execute_input": "2024-08-06T04:56:10.770793Z",
     "iopub.status.busy": "2024-08-06T04:56:10.769687Z",
     "iopub.status.idle": "2024-08-06T04:56:10.809586Z",
     "shell.execute_reply": "2024-08-06T04:56:10.809586Z"
    }
   },
   "outputs": [],
   "source": [
    "#initialize model\n",
    "model.initialize()"
   ]
  },
  {
   "cell_type": "markdown",
   "metadata": {},
   "source": [
    "## Initialize Inflow Chemistry"
   ]
  },
  {
   "cell_type": "code",
   "execution_count": null,
   "metadata": {
    "execution": {
     "iopub.execute_input": "2024-08-06T04:56:10.811590Z",
     "iopub.status.busy": "2024-08-06T04:56:10.811590Z",
     "iopub.status.idle": "2024-08-06T04:56:10.822452Z",
     "shell.execute_reply": "2024-08-06T04:56:10.822452Z"
    }
   },
   "outputs": [],
   "source": [
    "wellchem = mf6rtm.ChemStress('wel')\n",
    "sol_spd = [2]\n",
    "wellchem.set_spd(sol_spd)\n",
    "model.set_chem_stress(wellchem)\n"
   ]
  },
  {
   "cell_type": "code",
   "execution_count": null,
   "metadata": {},
   "outputs": [],
   "source": []
  },
  {
   "cell_type": "code",
   "execution_count": null,
   "metadata": {
    "execution": {
     "iopub.execute_input": "2024-08-06T04:56:10.824035Z",
     "iopub.status.busy": "2024-08-06T04:56:10.824035Z",
     "iopub.status.idle": "2024-08-06T04:56:10.827050Z",
     "shell.execute_reply": "2024-08-06T04:56:10.827050Z"
    }
   },
   "outputs": [],
   "source": [
    "for i in range(len(wel_spd)):\n",
    "    wel_spd[i].extend(model.wel.data[i])\n",
    "print(wel_spd)"
   ]
  },
  {
   "cell_type": "markdown",
   "metadata": {},
   "source": [
    "## Build MF6 model"
   ]
  },
  {
   "cell_type": "code",
   "execution_count": null,
   "metadata": {
    "execution": {
     "iopub.execute_input": "2024-08-06T04:56:10.829060Z",
     "iopub.status.busy": "2024-08-06T04:56:10.829060Z",
     "iopub.status.idle": "2024-08-06T04:56:10.844112Z",
     "shell.execute_reply": "2024-08-06T04:56:10.844112Z"
    }
   },
   "outputs": [],
   "source": [
    "def build_model(mup3d):\n",
    "\n",
    "    #####################        GWF model           #####################\n",
    "    gwfname = 'gwf'\n",
    "    sim_ws = mup3d.wd\n",
    "    sim = flopy.mf6.MFSimulation(sim_name=mup3d.name, sim_ws=sim_ws, exe_name='mf6')\n",
    "\n",
    "    # Instantiating MODFLOW 6 time discretization\n",
    "    flopy.mf6.ModflowTdis(sim, nper=nper, perioddata=tdis_rc, time_units=time_units)\n",
    "\n",
    "    # Instantiating MODFLOW 6 groundwater flow model\n",
    "    gwf = flopy.mf6.ModflowGwf(\n",
    "        sim,\n",
    "        modelname=gwfname,\n",
    "        save_flows=True,\n",
    "        model_nam_file=f\"{gwfname}.nam\",\n",
    "    )\n",
    "\n",
    "    # Instantiating MODFLOW 6 solver for flow model\n",
    "    imsgwf = flopy.mf6.ModflowIms(\n",
    "        sim,\n",
    "        complexity=\"complex\",\n",
    "        print_option=\"SUMMARY\",\n",
    "        outer_dvclose=hclose,\n",
    "        outer_maximum=nouter,\n",
    "        under_relaxation=\"NONE\",\n",
    "        inner_maximum=ninner,\n",
    "        inner_dvclose=hclose,\n",
    "        rcloserecord=rclose,\n",
    "        linear_acceleration=\"CG\",\n",
    "        scaling_method=\"NONE\",\n",
    "        reordering_method=\"NONE\",\n",
    "        relaxation_factor=relax,\n",
    "        filename=f\"{gwfname}.ims\",\n",
    "    )\n",
    "    sim.register_ims_package(imsgwf, [gwf.name])\n",
    "\n",
    "    # Instantiating MODFLOW 6 discretization package\n",
    "    dis = flopy.mf6.ModflowGwfdis(\n",
    "        gwf,\n",
    "        length_units=length_units,\n",
    "        nlay=nlay,\n",
    "        nrow=nrow,\n",
    "        ncol=ncol,\n",
    "        delr=delr,\n",
    "        delc=delc,\n",
    "        top=top,\n",
    "        botm=botm,\n",
    "        idomain=np.ones((nlay, nrow, ncol), dtype=int),\n",
    "        filename=f\"{gwfname}.dis\",\n",
    "    )\n",
    "    dis.set_all_data_external()\n",
    "\n",
    "    # Instantiating MODFLOW 6 node-property flow package\n",
    "    npf = flopy.mf6.ModflowGwfnpf(\n",
    "        gwf,\n",
    "        save_flows=True,\n",
    "        save_saturation = True,\n",
    "        icelltype=icelltype,\n",
    "        k=k11,\n",
    "        k33=k33,\n",
    "        save_specific_discharge=True,\n",
    "        filename=f\"{gwfname}.npf\",\n",
    "    )\n",
    "    npf.set_all_data_external()\n",
    "    # sto = flopy.mf6.ModflowGwfsto(gwf, ss=1e-6, sy=0.25)\n",
    "\n",
    "    # Instantiating MODFLOW 6 initial conditions package for flow model\n",
    "    flopy.mf6.ModflowGwfic(gwf, strt=strt, filename=f\"{gwfname}.ic\")\n",
    "    \n",
    "    wel = flopy.mf6.ModflowGwfwel(\n",
    "            gwf,\n",
    "            stress_period_data=wel_spd,\n",
    "            save_flows = True,\n",
    "            auxiliary = model.components,\n",
    "            pname = 'wel',\n",
    "            filename=f\"{gwfname}.wel\"\n",
    "        )\n",
    "    wel.set_all_data_external()\n",
    "\n",
    "    # Instantiating MODFLOW 6 constant head package\n",
    "    chd = flopy.mf6.ModflowGwfchd(\n",
    "        gwf,\n",
    "        maxbound=len(chdspd),\n",
    "        stress_period_data=chdspd,\n",
    "        # auxiliary=mup3d.components,\n",
    "        save_flows=False,\n",
    "        pname=\"CHD\",\n",
    "        filename=f\"{gwfname}.chd\",\n",
    "    )\n",
    "    chd.set_all_data_external()\n",
    "\n",
    "    # for i in range(len(chdspd_tail)):\n",
    "    #     chdspd_tail[i].extend(model.chdtail.data[0])\n",
    "    # # Instantiating MODFLOW 6 constant head package\n",
    "    # chd_tail = flopy.mf6.ModflowGwfchd(\n",
    "    #     gwf,\n",
    "    #     maxbound=len(chdspd_tail),\n",
    "    #     stress_period_data=chdspd_tail,\n",
    "    #     auxiliary=mup3d.components,\n",
    "    #     save_flows=True,\n",
    "    #     pname=\"CHDTAIL\",\n",
    "    #     filename=f\"{gwfname}.chdtail\",\n",
    "    # )\n",
    "    # chd_tail.set_all_data_external()\n",
    "\n",
    "    # Instantiating MODFLOW 6 output control package for flow model\n",
    "    oc_gwf = flopy.mf6.ModflowGwfoc(\n",
    "        gwf,\n",
    "        head_filerecord=f\"{gwfname}.hds\",\n",
    "        budget_filerecord=f\"{gwfname}.cbb\",\n",
    "        headprintrecord=[(\"COLUMNS\", 10, \"WIDTH\", 15, \"DIGITS\", 6, \"GENERAL\")],\n",
    "        saverecord=[(\"HEAD\", \"ALL\"), (\"BUDGET\", \"ALL\")],\n",
    "        printrecord=[(\"HEAD\", \"LAST\"), (\"BUDGET\", \"LAST\")],\n",
    "    )\n",
    "    \n",
    "    #####################           GWT model          #####################\n",
    "    for c in mup3d.components:\n",
    "        print(f'Setting model for component: {c}')\n",
    "        gwtname = c\n",
    "        \n",
    "        # Instantiating MODFLOW 6 groundwater transport package\n",
    "        gwt = flopy.mf6.MFModel(\n",
    "            sim,\n",
    "            model_type=\"gwt6\",\n",
    "            modelname=gwtname,\n",
    "            model_nam_file=f\"{gwtname}.nam\"\n",
    "        )\n",
    "\n",
    "        # create iterative model solution and register the gwt model with it\n",
    "        print('--- Building IMS package ---')\n",
    "        imsgwt = flopy.mf6.ModflowIms(\n",
    "            sim,\n",
    "            print_option=\"SUMMARY\",\n",
    "            outer_dvclose=hclose,\n",
    "            outer_maximum=nouter,\n",
    "            under_relaxation=\"NONE\",\n",
    "            inner_maximum=ninner,\n",
    "            inner_dvclose=hclose,\n",
    "            rcloserecord=rclose,\n",
    "            linear_acceleration=\"BICGSTAB\",\n",
    "            scaling_method=\"NONE\",\n",
    "            reordering_method=\"NONE\",\n",
    "            relaxation_factor=relax,\n",
    "            filename=f\"{gwtname}.ims\",\n",
    "        )\n",
    "        sim.register_ims_package(imsgwt, [gwt.name])\n",
    "\n",
    "        print('--- Building DIS package ---')\n",
    "        dis = gwf.dis\n",
    "\n",
    "        # create grid object\n",
    "        dis = flopy.mf6.ModflowGwtdis(\n",
    "            gwt,\n",
    "            length_units=length_units,\n",
    "            nlay=nlay,\n",
    "            nrow=nrow,\n",
    "            ncol=ncol,\n",
    "            delr=delr,\n",
    "            delc=delc,\n",
    "            top=top,\n",
    "            botm=botm,\n",
    "            idomain=np.ones((nlay, nrow, ncol), dtype=int),\n",
    "            filename=f\"{gwtname}.dis\",\n",
    "        )\n",
    "        dis.set_all_data_external()\n",
    "\n",
    "         \n",
    "        ic = flopy.mf6.ModflowGwtic(gwt, strt=mup3d.sconc[c], filename=f\"{gwtname}.ic\")\n",
    "        ic.set_all_data_external()\n",
    "\n",
    "        # # cncspd = {0: [[(0, 0, col), conc] for col, conc in zip(range(ncol), model.sconc[c][0,0,:])]}\n",
    "        # cncspd = {0: [[(ly, 0, 0), model.sconc[c][ly,0,0]] for ly in range(3,nlay)]}\n",
    "\n",
    "        # # print(cncspd)\n",
    "        # cnc = flopy.mf6.ModflowGwtcnc(gwt,\n",
    "        #                                 # maxbound=len(cncspd),\n",
    "        #                                 stress_period_data=cncspd,\n",
    "        #                                 save_flows=True,\n",
    "        #                                 print_flows = True,\n",
    "        #                                 pname=\"CNC\",\n",
    "        #                                 filename=f\"{gwtname}.cnc\",\n",
    "        #                                 )\n",
    "        # cnc.set_all_data_external()\n",
    "        # Instantiating MODFLOW 6 transport source-sink mixing package\n",
    "        sourcerecarray = ['wel', 'aux', f'{c}']\n",
    "        # sourcerecarray = [()]\n",
    "        ssm = flopy.mf6.ModflowGwtssm(\n",
    "            gwt, \n",
    "            sources=sourcerecarray, \n",
    "            save_flows=True,\n",
    "            print_flows=True,\n",
    "\n",
    "            filename=f\"{gwtname}.ssm\"\n",
    "        )\n",
    "        ssm.set_all_data_external()\n",
    "        # Instantiating MODFLOW 6 transport adv package\n",
    "        print('--- Building ADV package ---')\n",
    "        adv = flopy.mf6.ModflowGwtadv(\n",
    "            gwt,\n",
    "            scheme=\"tvd\",\n",
    "        )\n",
    "\n",
    "        # Instantiating MODFLOW 6 transport dispersion package\n",
    "        alpha_l = np.ones(shape=(nlay, nrow, ncol))*dispersivity  # Longitudinal dispersivity ($m$)\n",
    "        ath1 = np.ones(shape=(nlay, nrow, ncol))*dispersivity*0.1 # Transverse horizontal dispersivity ($m$)\n",
    "        atv = np.ones(shape=(nlay, nrow, ncol))**dispersivity*0.1   # Transverse vertical dispersivity ($m$)\n",
    "\n",
    "        print('--- Building DSP package ---')\n",
    "        dsp = flopy.mf6.ModflowGwtdsp(\n",
    "            gwt,\n",
    "            xt3d_off=True,\n",
    "            alh=alpha_l,\n",
    "            ath1=ath1,\n",
    "            atv = atv,\n",
    "            # diffc = diffc,\n",
    "            filename=f\"{gwtname}.dsp\",\n",
    "        )\n",
    "        dsp.set_all_data_external()\n",
    "\n",
    "        # Instantiating MODFLOW 6 transport mass storage package (formerly \"reaction\" package in MT3DMS)\n",
    "        print('--- Building MST package ---')\n",
    "\n",
    "        first_order_decay = None\n",
    "\n",
    "        mst = flopy.mf6.ModflowGwtmst(\n",
    "            gwt,\n",
    "            porosity=prsity,\n",
    "            first_order_decay=first_order_decay,\n",
    "            filename=f\"{gwtname}.mst\",\n",
    "        )\n",
    "        mst.set_all_data_external()\n",
    "\n",
    "        print('--- Building OC package ---')\n",
    "\n",
    "        # Instantiating MODFLOW 6 transport output control package\n",
    "        oc_gwt = flopy.mf6.ModflowGwtoc(\n",
    "            gwt,\n",
    "            budget_filerecord=f\"{gwtname}.cbb\",\n",
    "            concentration_filerecord=f\"{gwtname}.ucn\",\n",
    "            concentrationprintrecord=[(\"COLUMNS\", 10, \"WIDTH\", 15, \"DIGITS\", 10, \"GENERAL\")\n",
    "                                        ],\n",
    "            saverecord=[(\"CONCENTRATION\", \"ALL\"), \n",
    "                        (\"BUDGET\", \"ALL\")\n",
    "                        ],\n",
    "            printrecord=[(\"CONCENTRATION\", \"ALL\"), \n",
    "                            (\"BUDGET\", \"ALL\")\n",
    "                            ],\n",
    "        )\n",
    "\n",
    "        # Instantiating MODFLOW 6 flow-transport exchange mechanism\n",
    "        flopy.mf6.ModflowGwfgwt(\n",
    "            sim,\n",
    "            exgtype=\"GWF6-GWT6\",\n",
    "            exgmnamea=gwfname,\n",
    "            exgmnameb=gwtname,\n",
    "            filename=f\"{gwtname}.gwfgwt\",\n",
    "        )\n",
    "\n",
    "    sim.write_simulation()\n",
    "    utils.prep_bins(sim_ws, src_path=os.path.join('..','bin'))\n",
    "    \n",
    "    return sim"
   ]
  },
  {
   "cell_type": "code",
   "execution_count": null,
   "metadata": {
    "execution": {
     "iopub.execute_input": "2024-08-06T04:56:10.846118Z",
     "iopub.status.busy": "2024-08-06T04:56:10.846118Z",
     "iopub.status.idle": "2024-08-06T04:56:11.790283Z",
     "shell.execute_reply": "2024-08-06T04:56:11.790283Z"
    }
   },
   "outputs": [],
   "source": [
    "sim = build_model(model)"
   ]
  },
  {
   "cell_type": "code",
   "execution_count": null,
   "metadata": {
    "execution": {
     "iopub.execute_input": "2024-08-06T04:56:11.792296Z",
     "iopub.status.busy": "2024-08-06T04:56:11.792296Z",
     "iopub.status.idle": "2024-08-06T04:56:17.406412Z",
     "shell.execute_reply": "2024-08-06T04:56:17.406412Z"
    }
   },
   "outputs": [],
   "source": [
    "model.run_mup3d(sim, reaction=True)\n"
   ]
  },
  {
   "cell_type": "code",
   "execution_count": null,
   "metadata": {
    "execution": {
     "iopub.execute_input": "2024-08-06T04:56:17.408465Z",
     "iopub.status.busy": "2024-08-06T04:56:17.408465Z",
     "iopub.status.idle": "2024-08-06T04:56:17.412142Z",
     "shell.execute_reply": "2024-08-06T04:56:17.412142Z"
    }
   },
   "outputs": [],
   "source": [
    "def get_lst_budget(ws='.', comp = '', start_datetime=None):\n",
    "    budgetkey  = 'MASS BUDGET FOR ENTIRE MODEL'\n",
    "    lst = flopy.utils.Mf6ListBudget(os.path.join(ws,f\"{comp}.lst\"), budgetkey = budgetkey)\n",
    "    inc,cum = lst.get_dataframes(start_datetime=start_datetime)\n",
    "    inc.columns = inc.columns.map(lambda x: x.lower().replace(\"_\",\"-\"))\n",
    "    cum.columns = cum.columns.map(lambda x: x.lower().replace(\"_\", \"-\"))\n",
    "    inc.index.name = \"time\"\n",
    "    cum.index.name = \"time\"\n",
    "    return inc, cum"
   ]
  },
  {
   "cell_type": "code",
   "execution_count": null,
   "metadata": {
    "execution": {
     "iopub.execute_input": "2024-08-06T04:56:17.414145Z",
     "iopub.status.busy": "2024-08-06T04:56:17.414145Z",
     "iopub.status.idle": "2024-08-06T04:56:17.459137Z",
     "shell.execute_reply": "2024-08-06T04:56:17.459137Z"
    }
   },
   "outputs": [],
   "source": [
    "inc, cum = get_lst_budget(ws = os.path.join(model.wd), comp = 'K')\n",
    "inc"
   ]
  },
  {
   "cell_type": "markdown",
   "metadata": {},
   "source": [
    "## Plots"
   ]
  },
  {
   "cell_type": "code",
   "execution_count": null,
   "metadata": {
    "execution": {
     "iopub.execute_input": "2024-08-06T04:56:17.462172Z",
     "iopub.status.busy": "2024-08-06T04:56:17.461163Z",
     "iopub.status.idle": "2024-08-06T04:56:17.492155Z",
     "shell.execute_reply": "2024-08-06T04:56:17.492155Z"
    }
   },
   "outputs": [],
   "source": [
    "wd = os.path.join(f'{prefix}', f'pht3d')\n",
    "# dx = 0.01\n",
    "simdf = pd.read_csv(os.path.join(wd, 'out.dat'), sep = '\\t', skipinitialspace=True, index_col=[0])\n",
    "simdf.drop(simdf.columns[len(simdf.columns)-1], axis=1, inplace=True)\n",
    "\n",
    "simdf.loc[:, 'x'] = simdf['cell'] * delr\n",
    "\n",
    "simapi = pd.read_csv(os.path.join(model.wd,'sout.csv'), sep = ',', skipinitialspace=True, index_col=[0])\n",
    "simapi.loc[:, 'x'] = (simapi['cell'] + 1)*delr\n",
    "\n",
    "#offset index of simapi by tstep\n",
    "simapi.index = simapi.index + tstep\n",
    "\n",
    "simapi\n",
    "\n",
    "# get all ucn files in wd\n",
    "ucn_files = [f for f in os.listdir(wd) if f.lower().endswith('.ucn')]\n",
    "ucn_files\n",
    "\n",
    "# get file that ends in py\n",
    "pht3dpy = [f for f in os.listdir(wd) if f.endswith('py')]\n",
    "\n",
    "#read pht3dpy file\n",
    "ucndic = {}\n",
    "pht3dpy = os.path.join(wd, pht3dpy[0])\n",
    "with open(pht3dpy, 'r') as f:\n",
    "    # print(f.read())\n",
    "    for l in f:\n",
    "        n =re.findall(r'\\d+', l.split()[-1])[-1]\n",
    "        ucndic[l.split()[0].replace('_', \"\")] = f\"PHT3D{n}.UCN\"\n",
    "        \n",
    "for k,v in ucndic.items():\n",
    "    ucn = flopy.utils.HeadFile(os.path.join(wd, v),text=f\"concentration\")\n",
    "    results = ucn.get_alldata()\n",
    "    ucndic[k] = results\n",
    "timespht3d = ucn.get_times()\n",
    "    \n",
    "for var in simapi.columns:\n",
    "    closest_match = find_closest_match(var, ucndic)\n",
    "    if closest_match:\n",
    "        ucndic[var] = ucndic.pop(closest_match)\n",
    "\n"
   ]
  },
  {
   "cell_type": "code",
   "execution_count": null,
   "metadata": {
    "execution": {
     "iopub.execute_input": "2024-08-06T04:56:17.494514Z",
     "iopub.status.busy": "2024-08-06T04:56:17.494514Z",
     "iopub.status.idle": "2024-08-06T04:56:19.187252Z",
     "shell.execute_reply": "2024-08-06T04:56:19.187252Z"
    }
   },
   "outputs": [],
   "source": [
    "simdf = pd.read_csv(os.path.join(wd, 'out.dat'), sep = '\\t', skipinitialspace=True, index_col=[0])\n",
    "simdf.drop(simdf.columns[len(simdf.columns)-1], axis=1, inplace=True)\n",
    "\n",
    "simdf.loc[:, 'x'] = simdf['cell'] * delr\n",
    "# simdf.drop(columns = 'H', inplace = True)\n",
    "\n",
    "simapi = pd.read_csv(os.path.join(model.wd,'sout.csv'), sep = ',', skipinitialspace=True, index_col=[0])\n",
    "simapi.loc[:, 'x'] = (simapi['cell'] + 1)*delr\n",
    "simapi.index = [round(i, 2) for i in simapi.index]\n",
    "simapi = simapi[simdf.columns]\n",
    "\n",
    "vars_to_plot = ['Calcite', 'Ca',  'C4', 'Siderite', 'Fe2', 'Fe3', 'Gibbsite',  'Al', 'S6','Gypsum',  'pH', 'pe']\n",
    "plot_cols = 3\n",
    "plot_rows = calc_rows_from_ncol(vars_to_plot, ncols=plot_cols)\n",
    "fig, axs = plt.subplots(plot_rows,plot_cols, figsize = (12, 15))\n",
    "\n",
    "colors = ['r', 'g', 'b']\n",
    "times_to_plot = [6., 12., 24.]\n",
    "for var, ax in zip(vars_to_plot, axs.flatten()):\n",
    "\n",
    "    for t in times_to_plot:\n",
    "        ax.plot(simapi.x.unique(), simapi.loc[t, var].values,label = f'{round(t)} days', c = colors[times_to_plot.index(t)])\n",
    "        ax.scatter(simdf.x.unique(), simdf.loc[t, var], edgecolors=colors[times_to_plot.index(t)], \n",
    "                   facecolors='none', s=20)\n",
    "        if var.startswith('Fe'):\n",
    "            ax.set_yscale('log')\n",
    "    ax.set_xlabel('distance (m)')\n",
    "    if var not in ['pH', 'pe'] and len(var) < 4:\n",
    "        ax.set_ylabel('C (mol L$^{-1}$)')\n",
    "    elif len(var) > 3:\n",
    "        ax.set_ylabel(f'{var} (mol)')\n",
    "    ax.set_title(f'{var}')\n",
    "    #add legend in only one subplot\n",
    "    if var == vars_to_plot[0]:\n",
    "        ax.legend(loc = 'lower right')\n",
    "\n",
    "fig.tight_layout()\n",
    "fig.savefig(os.path.join(f'{prefix}.png'))"
   ]
  }
 ],
 "metadata": {
  "kernelspec": {
   "display_name": "mf6rtm",
   "language": "python",
   "name": "python3"
  },
  "language_info": {
   "codemirror_mode": {
    "name": "ipython",
    "version": 3
   },
   "file_extension": ".py",
   "mimetype": "text/x-python",
   "name": "python",
   "nbconvert_exporter": "python",
   "pygments_lexer": "ipython3",
   "version": "3.10.14"
  }
 },
 "nbformat": 4,
 "nbformat_minor": 2
}
