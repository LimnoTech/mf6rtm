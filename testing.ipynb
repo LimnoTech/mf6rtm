{
 "cells": [
  {
   "cell_type": "markdown",
   "metadata": {},
   "source": [
    "# TESTS"
   ]
  },
  {
   "cell_type": "code",
   "execution_count": 1,
   "metadata": {},
   "outputs": [],
   "source": [
    "from pathlib import Path\n",
    "import os\n",
    "import modflowapi\n",
    "from modflowapi import Callbacks\n",
    "from workflow import *\n",
    "from datetime import datetime\n",
    "\n",
    "DT_FMT = \"%Y-%m-%d %H:%M:%S\"\n"
   ]
  },
  {
   "cell_type": "code",
   "execution_count": 2,
   "metadata": {},
   "outputs": [
    {
     "name": "stdout",
     "output_type": "stream",
     "text": [
      "--- Building IMS package ---\n",
      "--- Building DIS package ---\n",
      "--- Building ADV package ---\n",
      "--- Building DSP package ---\n",
      "--- Building MST package ---\n",
      "building FMI and OC ...\n",
      "writing simulation...\n",
      "  writing simulation name file...\n",
      "  writing simulation tdis package...\n",
      "  writing solution package ims_-1...\n",
      "  writing solution package ims_0...\n",
      "  writing package sodium.gwfgwt...\n",
      "  writing model gwf...\n",
      "    writing model name file...\n",
      "    writing package dis...\n",
      "    writing package npf...\n",
      "    writing package ic...\n",
      "    writing package chd...\n",
      "    writing package wel...\n",
      "INFORMATION: maxbound in ('gwf6', 'wel', 'dimensions') changed to 1 based on size of stress_period_data\n",
      "    writing package oc...\n",
      "  writing model sodium...\n",
      "    writing model name file...\n",
      "    writing package dis...\n",
      "    writing package ic...\n",
      "    writing package ssm...\n",
      "    writing package adv...\n",
      "    writing package dsp...\n",
      "    writing package mst...\n",
      "    writing package oc...\n"
     ]
    }
   ],
   "source": [
    "sim = build_model(ws = 'model', sim_name = 'engesgaard1992', spls = ['sodium'])\n"
   ]
  },
  {
   "cell_type": "code",
   "execution_count": 3,
   "metadata": {},
   "outputs": [],
   "source": [
    "# sim_ws = os.path.join('model', '1dtest', 'chloride')\n",
    "sim_ws = Path(\"model/engesgaard1992/\")\n",
    "dll = Path(\"bin/win/libmf6\")"
   ]
  },
  {
   "cell_type": "code",
   "execution_count": 4,
   "metadata": {},
   "outputs": [],
   "source": [
    "def try_get_value(address, mf6):\n",
    "    try:\n",
    "        res = mf6.get_value(address)\n",
    "        return res\n",
    "    except:\n",
    "        res = 'failed'\n",
    "        return res"
   ]
  },
  {
   "cell_type": "code",
   "execution_count": 4,
   "metadata": {},
   "outputs": [],
   "source": [
    "mf6 = modflowapi.ModflowApi(dll, working_directory = sim_ws)\n",
    "mf6.initialize()\n",
    "# current_time = mf6.get_current_time()\n",
    "# end_time = mf6.get_end_time()\n",
    "# all_vars = mf6.get_input_var_names() \n",
    "\n",
    "# var_add = \n",
    "\n",
    "# try:\n",
    "#     mf6.finalize()\n",
    "#     success=True\n",
    "# except:\n",
    "#     raise RuntimeError"
   ]
  },
  {
   "cell_type": "code",
   "execution_count": 4,
   "metadata": {},
   "outputs": [],
   "source": [
    "# current_time, end_time\n",
    "\n",
    "# all_vars\n",
    "# df_vars = pd.DataFrame(all_vars)[0].str.split('/', expand=True)\n",
    "# df_vars['addr'] = all_vars\n",
    "# df_vars.to_csv('vars.csv')"
   ]
  },
  {
   "cell_type": "code",
   "execution_count": 13,
   "metadata": {},
   "outputs": [],
   "source": [
    "val = mf6.get_value(mf6.get_var_address(\"x\", 'SODIUM'))\n",
    "val += 1\n",
    "\n",
    "# val = val + 1\n",
    "val += 1\n",
    "# mf6.get_value(mf6.get_var_address(\"x\", 'SODIUM')) = val"
   ]
  },
  {
   "cell_type": "code",
   "execution_count": 14,
   "metadata": {},
   "outputs": [
    {
     "data": {
      "text/plain": [
       "array([3., 3., 3., 3., 3., 3., 3., 3., 3., 3., 3., 3., 3., 3., 3., 3., 3.,\n",
       "       3., 3., 3., 3., 3., 3., 3., 3., 3., 3., 3., 3., 3., 3., 3., 3., 3.,\n",
       "       3., 3., 3., 3., 3., 3., 3., 3., 3., 3., 3., 3., 3., 3., 3., 3.])"
      ]
     },
     "execution_count": 14,
     "metadata": {},
     "output_type": "execute_result"
    }
   ],
   "source": [
    "mf6.finalize()\n",
    "val"
   ]
  },
  {
   "cell_type": "code",
   "execution_count": 4,
   "metadata": {},
   "outputs": [
    {
     "ename": "",
     "evalue": "",
     "output_type": "error",
     "traceback": [
      "\u001b[1;31mThe Kernel crashed while executing code in the the current cell or a previous cell. Please review the code in the cell(s) to identify a possible cause of the failure. Click <a href='https://aka.ms/vscodeJupyterKernelCrash'>here</a> for more info. View Jupyter <a href='command:jupyter.viewOutput'>log</a> for further details."
     ]
    }
   ],
   "source": [
    "\n",
    "mf6 = modflowapi.ModflowApi(dll, working_directory = sim_ws)\n",
    "mf6.initialize()\n",
    "\n",
    "sim_start = datetime.now()\n",
    "print(\"...starting transport solution at {0}\".format(sim_start.strftime(DT_FMT)))\n",
    "# reset the node tracking containers\n",
    "\n",
    "# get the current sim time\n",
    "ctime = mf6.get_current_time()\n",
    "ctimes = [0.0]\n",
    "# get the ending sim time\n",
    "etime = mf6.get_end_time()\n",
    "# max number of solution iterations\n",
    "max_iter = mf6.get_value(mf6.get_var_address(\"MXITER\", \"SLN_1\"))\n",
    "num_fails = 0\n",
    "# let's do it!\n",
    "while ctime < etime:\n",
    "    sol_start = datetime.now()\n",
    "    # length of the current solve time\n",
    "    dt = mf6.get_time_step()\n",
    "    # prep the current time step\n",
    "    mf6.prepare_time_step(dt)\n",
    "    kiter = 0\n",
    "    # prep to solve\n",
    "    mf6.prepare_solve(1)\n",
    "    # the one-based stress period number\n",
    "    stress_period = mf6.get_value(mf6.get_var_address(\"KPER\", \"TDIS\"))[0]\n",
    "    time_step = mf6.get_value(mf6.get_var_address(\"KSTP\", \"TDIS\"))[0]\n",
    "\n",
    "    # solve until converged\n",
    "    while kiter < max_iter:\n",
    "        # apply whatever change we want here\n",
    "        # val = mf6.get_value(mf6.get_var_address(\"x\", 'SODIUM'))\n",
    "        # val += 1\n",
    "        convg = mf6.solve(1)\n",
    "        if convg:\n",
    "            td = (datetime.now() - sol_start).total_seconds() / 60.0\n",
    "            print(\"transport stress period,time step {0},{1} converged with {2} iters, took {3:10.5G} mins\".format(stress_period, time_step, kiter,td))\n",
    "            break\n",
    "        kiter += 1\n",
    "\n",
    "    if not convg:\n",
    "        td = (datetime.now() - sol_start).total_seconds() / 60.0\n",
    "        print(\"transport stress period,time step {0},{1} did not converged, {2} iters, took {3:10.5G} mins\".format(\n",
    "            stress_period, time_step, kiter, td))\n",
    "        num_fails += 1\n",
    "mf6.finalize()\n"
   ]
  },
  {
   "cell_type": "code",
   "execution_count": 7,
   "metadata": {},
   "outputs": [
    {
     "data": {
      "text/plain": [
       "0.24"
      ]
     },
     "execution_count": 7,
     "metadata": {},
     "output_type": "execute_result"
    }
   ],
   "source": []
  },
  {
   "cell_type": "code",
   "execution_count": 3,
   "metadata": {},
   "outputs": [],
   "source": [
    "def callback_function(sim, callback_step):\n",
    "    \"\"\"\n",
    "    A demonstration function that dynamically adjusts recharge\n",
    "    and pumping in a modflow-6 model through the MODFLOW-API\n",
    "\n",
    "    Parameters\n",
    "    ----------\n",
    "    sim : modflowapi.ApiSimulation\n",
    "        A simulation object for the solution group that is\n",
    "        currently being solved\n",
    "    step : enumeration\n",
    "        modflowapi.Callbacks enumeration object that indicates\n",
    "        the part of the solution modflow is currently in.\n",
    "    \"\"\"\n",
    "    ml = sim.get_model()\n",
    "    if callback_step == Callbacks.initialize:\n",
    "        print(sim.models)\n",
    "\n",
    "    # if callback_step == Callbacks.stress_period_start:\n",
    "    #     # adjust recharge for stress periods 7 through 12\n",
    "    #     if sim.kper <= 6:\n",
    "    #         rcha = ml.rcha_0\n",
    "    #         spd = rcha.stress_period_data\n",
    "    #         print(f\"updating recharge: stress_period={ml.kper}\")\n",
    "    #         spd[\"recharge\"] += 0.40 * sim.kper\n",
    "\n",
    "    if callback_step == Callbacks.timestep_start:\n",
    "        print(\n",
    "            f\"Testing: stress_period={ml.kper}, timestep={ml.kstp}\", ml.kstp\n",
    "        )\n",
    "        if ml.kstp != 2:\n",
    "            ml.wel.stress_period_data[\"q\"] *= 1/ml.kstp\n",
    "            # ml.wel.stress_period_data['CONCENTRATION'] = 100000000\n",
    "            # print('..........................', ml.wel.stress_period_data['CONCENTRATION'])\n",
    "        else:\n",
    "            ml.wel.stress_period_data['q'] = 0\n",
    "        # if ml.kstp ==2:\n",
    "            \n",
    "    if callback_step == Callbacks.iteration_start:\n",
    "        # we can implement complex solutions to boundary conditions here!\n",
    "        pass\n",
    "    # return wel\n",
    "\n",
    "# modflowapi.run_simulation(dll, sim_ws, callback_function, verbose=True)\n"
   ]
  },
  {
   "cell_type": "code",
   "execution_count": 4,
   "metadata": {},
   "outputs": [
    {
     "name": "stdout",
     "output_type": "stream",
     "text": [
      "--- Building IMS package ---\n",
      "--- Building DIS package ---\n",
      "--- Building ADV package ---\n",
      "--- Building DSP package ---\n",
      "--- Building MST package ---\n",
      "building FMI and OC ...\n",
      "writing simulation...\n",
      "  writing simulation name file...\n",
      "  writing simulation tdis package...\n",
      "  writing solution package ims_-1...\n",
      "  writing solution package ims_0...\n",
      "  writing package engesgaard1992.gwfgwt...\n",
      "  writing model gwf...\n",
      "    writing model name file...\n",
      "    writing package dis...\n",
      "    writing package npf...\n",
      "    writing package ic...\n",
      "    writing package chd...\n",
      "    writing package wel...\n",
      "INFORMATION: maxbound in ('gwf6', 'wel', 'dimensions') changed to 1 based on size of stress_period_data\n",
      "    writing package oc...\n",
      "  writing model chloride...\n",
      "    writing model name file...\n",
      "    writing package dis...\n",
      "    writing package ic...\n",
      "    writing package ssm...\n",
      "    writing package adv...\n",
      "    writing package dsp...\n",
      "    writing package mst...\n",
      "    writing package oc...\n",
      "MODFLOW-6 API Version 6.5.0.dev0+prt-dev\n",
      "Initializing MODFLOW-6 simulation\n",
      "[GWF, 1 Layer, 1 Row, 50 Column model\n",
      "Packages accessible include: \n",
      "  ArrayPackage objects:\n",
      "    dis: <class 'modflowapi.extensions.pakbase.ApiDisPackage'>\n",
      "    npf: <class 'modflowapi.extensions.pakbase.ApiNpfPackage'>\n",
      "    sto: <class 'modflowapi.extensions.pakbase.ApiStoPackage'>\n",
      "    ic: <class 'modflowapi.extensions.pakbase.ApiIcPackage'>\n",
      "  ListPackage objects:\n",
      "    wel: <class 'modflowapi.extensions.pakbase.ApiWelPackage'>\n",
      "    chd: <class 'modflowapi.extensions.pakbase.ApiChdPackage'>\n",
      "  AdvancedPackage objects:\n",
      "    buy: <class 'modflowapi.extensions.pakbase.ApiBuyPackage'>\n",
      "    vsc: <class 'modflowapi.extensions.pakbase.ApiVscPackage'>\n",
      "    gnc: <class 'modflowapi.extensions.pakbase.ApiGncPackage'>\n",
      "    hfb: <class 'modflowapi.extensions.pakbase.ApiHfbPackage'>\n",
      "    csub: <class 'modflowapi.extensions.pakbase.ApiCsubPackage'>\n",
      "    mvr: <class 'modflowapi.extensions.pakbase.ApiMvrPackage'>\n",
      ", CHLORIDE, 1 Layer, 1 Row, 50 Column model\n",
      "Packages accessible include: \n",
      "  ArrayPackage objects:\n",
      "    dis: <class 'modflowapi.extensions.pakbase.ApiDisPackage'>\n",
      "    ic: <class 'modflowapi.extensions.pakbase.ApiIcPackage'>\n",
      "    mst: <class 'modflowapi.extensions.pakbase.ApiMstPackage'>\n",
      "    adv: <class 'modflowapi.extensions.pakbase.ApiAdvPackage'>\n",
      "  ListPackage objects:\n",
      "  AdvancedPackage objects:\n",
      "    fmi: <class 'modflowapi.extensions.pakbase.ApiFmiPackage'>\n",
      "    dsp: <class 'modflowapi.extensions.pakbase.ApiDspPackage'>\n",
      "    ssm: <class 'modflowapi.extensions.pakbase.ApiSsmPackage'>\n",
      "    mvt: <class 'modflowapi.extensions.pakbase.ApiMvtPackage'>\n",
      "]\n",
      "Solving: Stress Period 1; Timestep 1\n",
      "Testing: stress_period=0, timestep=0 0\n",
      "Testing: stress_period=0, timestep=0 0\n"
     ]
    },
    {
     "name": "stderr",
     "output_type": "stream",
     "text": [
      "c:\\Users\\portega\\anaconda3\\envs\\mf6rtm\\lib\\site-packages\\modflowapi\\extensions\\apimodel.py:371: DeprecationWarning: Conversion of an array with ndim > 0 to a scalar is deprecated, and will error in future. Ensure you extract a single element from your array before performing this operation. (Deprecated NumPy 1.25.)\n",
      "  nodeuser = np.arange(nodes).astype(int)\n"
     ]
    },
    {
     "ename": "AttributeError",
     "evalue": "'ApiModel' object has no attribute 'wel'",
     "output_type": "error",
     "traceback": [
      "\u001b[1;31m---------------------------------------------------------------------------\u001b[0m",
      "\u001b[1;31mAttributeError\u001b[0m                            Traceback (most recent call last)",
      "Cell \u001b[1;32mIn[4], line 2\u001b[0m\n\u001b[0;32m      1\u001b[0m sim \u001b[38;5;241m=\u001b[39m build_model(ws \u001b[38;5;241m=\u001b[39m \u001b[38;5;124m'\u001b[39m\u001b[38;5;124mmodel\u001b[39m\u001b[38;5;124m'\u001b[39m, sim_name \u001b[38;5;241m=\u001b[39m \u001b[38;5;124m'\u001b[39m\u001b[38;5;124mengesgaard1992\u001b[39m\u001b[38;5;124m'\u001b[39m, sp \u001b[38;5;241m=\u001b[39m \u001b[38;5;124m'\u001b[39m\u001b[38;5;124mchloride\u001b[39m\u001b[38;5;124m'\u001b[39m)\n\u001b[1;32m----> 2\u001b[0m \u001b[43mmodflowapi\u001b[49m\u001b[38;5;241;43m.\u001b[39;49m\u001b[43mrun_simulation\u001b[49m\u001b[43m(\u001b[49m\u001b[43mdll\u001b[49m\u001b[43m,\u001b[49m\u001b[43m \u001b[49m\u001b[43msim\u001b[49m\u001b[38;5;241;43m.\u001b[39;49m\u001b[43msimulation_data\u001b[49m\u001b[38;5;241;43m.\u001b[39;49m\u001b[43mmfpath\u001b[49m\u001b[38;5;241;43m.\u001b[39;49m\u001b[43mget_sim_path\u001b[49m\u001b[43m(\u001b[49m\u001b[43m)\u001b[49m\u001b[43m,\u001b[49m\u001b[43m \u001b[49m\u001b[43mcallback_function\u001b[49m\u001b[43m,\u001b[49m\u001b[43m \u001b[49m\u001b[43mverbose\u001b[49m\u001b[38;5;241;43m=\u001b[39;49m\u001b[38;5;28;43;01mTrue\u001b[39;49;00m\u001b[43m)\u001b[49m\n\u001b[0;32m      3\u001b[0m \u001b[38;5;66;03m# simgwt = build_gwt_model(sim, gwf_name = 'gwf_1dtest', sp = 'chloride')\u001b[39;00m\n\u001b[0;32m      4\u001b[0m \u001b[38;5;66;03m# run_model(simgwt)\u001b[39;00m\n\u001b[0;32m      5\u001b[0m plot_heads(sim)\n",
      "File \u001b[1;32mc:\\Users\\portega\\anaconda3\\envs\\mf6rtm\\lib\\site-packages\\modflowapi\\extensions\\runner.py:92\u001b[0m, in \u001b[0;36mrun_simulation\u001b[1;34m(dll, sim_path, callback, verbose, _develop)\u001b[0m\n\u001b[0;32m     89\u001b[0m     callback(sim_grp, Callbacks\u001b[38;5;241m.\u001b[39mstress_period_start)\n\u001b[0;32m     91\u001b[0m kiter \u001b[38;5;241m=\u001b[39m \u001b[38;5;241m0\u001b[39m\n\u001b[1;32m---> 92\u001b[0m \u001b[43mcallback\u001b[49m\u001b[43m(\u001b[49m\u001b[43msim_grp\u001b[49m\u001b[43m,\u001b[49m\u001b[43m \u001b[49m\u001b[43mCallbacks\u001b[49m\u001b[38;5;241;43m.\u001b[39;49m\u001b[43mtimestep_start\u001b[49m\u001b[43m)\u001b[49m\n\u001b[0;32m     94\u001b[0m \u001b[38;5;28;01mif\u001b[39;00m sim_grp\u001b[38;5;241m.\u001b[39mats_period[\u001b[38;5;241m0\u001b[39m]:\n\u001b[0;32m     95\u001b[0m     mindt \u001b[38;5;241m=\u001b[39m sim_grp\u001b[38;5;241m.\u001b[39mats_period[\u001b[38;5;241m-\u001b[39m\u001b[38;5;241m1\u001b[39m]\n",
      "Cell \u001b[1;32mIn[3], line 32\u001b[0m, in \u001b[0;36mcallback_function\u001b[1;34m(sim, callback_step)\u001b[0m\n\u001b[0;32m     28\u001b[0m \u001b[38;5;28mprint\u001b[39m(\n\u001b[0;32m     29\u001b[0m     \u001b[38;5;124mf\u001b[39m\u001b[38;5;124m\"\u001b[39m\u001b[38;5;124mTesting: stress_period=\u001b[39m\u001b[38;5;132;01m{\u001b[39;00mml\u001b[38;5;241m.\u001b[39mkper\u001b[38;5;132;01m}\u001b[39;00m\u001b[38;5;124m, timestep=\u001b[39m\u001b[38;5;132;01m{\u001b[39;00mml\u001b[38;5;241m.\u001b[39mkstp\u001b[38;5;132;01m}\u001b[39;00m\u001b[38;5;124m\"\u001b[39m, ml\u001b[38;5;241m.\u001b[39mkstp\n\u001b[0;32m     30\u001b[0m )\n\u001b[0;32m     31\u001b[0m \u001b[38;5;28;01mif\u001b[39;00m ml\u001b[38;5;241m.\u001b[39mkstp \u001b[38;5;241m!=\u001b[39m \u001b[38;5;241m2\u001b[39m:\n\u001b[1;32m---> 32\u001b[0m     \u001b[43mml\u001b[49m\u001b[38;5;241;43m.\u001b[39;49m\u001b[43mwel\u001b[49m\u001b[38;5;241m.\u001b[39mstress_period_data[\u001b[38;5;124m\"\u001b[39m\u001b[38;5;124mq\u001b[39m\u001b[38;5;124m\"\u001b[39m] \u001b[38;5;241m*\u001b[39m\u001b[38;5;241m=\u001b[39m \u001b[38;5;241m1\u001b[39m\u001b[38;5;241m/\u001b[39mml\u001b[38;5;241m.\u001b[39mkstp\n\u001b[0;32m     33\u001b[0m     \u001b[38;5;66;03m# ml.wel.stress_period_data['CONCENTRATION'] = 100000000\u001b[39;00m\n\u001b[0;32m     34\u001b[0m     \u001b[38;5;66;03m# print('..........................', ml.wel.stress_period_data['CONCENTRATION'])\u001b[39;00m\n\u001b[0;32m     35\u001b[0m \u001b[38;5;28;01melse\u001b[39;00m:\n\u001b[0;32m     36\u001b[0m     ml\u001b[38;5;241m.\u001b[39mwel\u001b[38;5;241m.\u001b[39mstress_period_data[\u001b[38;5;124m'\u001b[39m\u001b[38;5;124mq\u001b[39m\u001b[38;5;124m'\u001b[39m] \u001b[38;5;241m=\u001b[39m \u001b[38;5;241m0\u001b[39m\n",
      "File \u001b[1;32mc:\\Users\\portega\\anaconda3\\envs\\mf6rtm\\lib\\site-packages\\modflowapi\\extensions\\apimodel.py:229\u001b[0m, in \u001b[0;36mApiModel.__getattr__\u001b[1;34m(self, item)\u001b[0m\n\u001b[0;32m    226\u001b[0m         pkg_list\u001b[38;5;241m.\u001b[39mappend(package)\n\u001b[0;32m    228\u001b[0m \u001b[38;5;28;01mif\u001b[39;00m \u001b[38;5;28mlen\u001b[39m(pkg_list) \u001b[38;5;241m==\u001b[39m \u001b[38;5;241m0\u001b[39m:\n\u001b[1;32m--> 229\u001b[0m     \u001b[38;5;28;01mreturn\u001b[39;00m \u001b[38;5;28;43msuper\u001b[39;49m\u001b[43m(\u001b[49m\u001b[43m)\u001b[49m\u001b[38;5;241;43m.\u001b[39;49m\u001b[38;5;21;43m__getattribute__\u001b[39;49m\u001b[43m(\u001b[49m\u001b[43mitem\u001b[49m\u001b[43m)\u001b[49m\n\u001b[0;32m    230\u001b[0m \u001b[38;5;28;01melif\u001b[39;00m \u001b[38;5;28mlen\u001b[39m(pkg_list) \u001b[38;5;241m==\u001b[39m \u001b[38;5;241m1\u001b[39m:\n\u001b[0;32m    231\u001b[0m     \u001b[38;5;28;01mreturn\u001b[39;00m pkg_list[\u001b[38;5;241m0\u001b[39m]\n",
      "\u001b[1;31mAttributeError\u001b[0m: 'ApiModel' object has no attribute 'wel'"
     ]
    }
   ],
   "source": [
    "sim = build_model(ws = 'model', sim_name = 'engesgaard1992', sp = 'chloride')\n",
    "modflowapi.run_simulation(dll, sim.simulation_data.mfpath.get_sim_path(), callback_function, verbose=True)\n",
    "# simgwt = build_gwt_model(sim, gwf_name = 'gwf_1dtest', sp = 'chloride')\n",
    "# run_model(simgwt)\n",
    "plot_heads(sim)\n",
    "plot_concentrations(sim)"
   ]
  },
  {
   "cell_type": "code",
   "execution_count": null,
   "metadata": {},
   "outputs": [],
   "source": []
  }
 ],
 "metadata": {
  "kernelspec": {
   "display_name": "mf6rtm",
   "language": "python",
   "name": "python3"
  },
  "language_info": {
   "codemirror_mode": {
    "name": "ipython",
    "version": 3
   },
   "file_extension": ".py",
   "mimetype": "text/x-python",
   "name": "python",
   "nbconvert_exporter": "python",
   "pygments_lexer": "ipython3",
   "version": "3.10.14"
  }
 },
 "nbformat": 4,
 "nbformat_minor": 2
}
