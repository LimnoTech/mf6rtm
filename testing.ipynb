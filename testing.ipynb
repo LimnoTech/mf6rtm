{
 "cells": [
  {
   "cell_type": "markdown",
   "metadata": {},
   "source": [
    "# TESTS"
   ]
  },
  {
   "cell_type": "code",
   "execution_count": null,
   "metadata": {},
   "outputs": [],
   "source": [
    "from pathlib import Path\n",
    "import os\n",
    "import modflowapi\n",
    "from modflowapi import Callbacks\n",
    "from workflow import *\n",
    "from datetime import datetime\n",
    "\n",
    "DT_FMT = \"%Y-%m-%d %H:%M:%S\"\n"
   ]
  },
  {
   "cell_type": "code",
   "execution_count": null,
   "metadata": {},
   "outputs": [],
   "source": [
    "sim = build_model(ws = 'model', sim_name = 'engesgaard1992', spls = ['sodium'])\n"
   ]
  },
  {
   "cell_type": "code",
   "execution_count": null,
   "metadata": {},
   "outputs": [],
   "source": [
    "# sim_ws = os.path.join('model', '1dtest', 'chloride')\n",
    "sim_ws = Path(\"model/engesgaard1992/\")\n",
    "dll = Path(\"bin/win/libmf6\")"
   ]
  },
  {
   "cell_type": "code",
   "execution_count": null,
   "metadata": {},
   "outputs": [],
   "source": [
    "def try_get_value(address, mf6):\n",
    "    try:\n",
    "        res = mf6.get_value(address)\n",
    "        return res\n",
    "    except:\n",
    "        res = 'failed'\n",
    "        return res"
   ]
  },
  {
   "cell_type": "code",
   "execution_count": null,
   "metadata": {},
   "outputs": [],
   "source": [
    "mf6 = modflowapi.ModflowApi(dll, working_directory = sim_ws)\n",
    "mf6.initialize()\n",
    "# current_time = mf6.get_current_time()\n",
    "# end_time = mf6.get_end_time()\n",
    "all_vars = mf6.get_input_var_names() \n",
    "\n",
    "# var_add = \n",
    "\n",
    "# try:\n",
    "#     mf6.finalize()\n",
    "#     success=True\n",
    "# except:\n",
    "#     raise RuntimeError"
   ]
  },
  {
   "cell_type": "code",
   "execution_count": null,
   "metadata": {},
   "outputs": [],
   "source": [
    "# current_time, end_time\n",
    "\n",
    "# all_vars\n",
    "df_vars = pd.DataFrame(all_vars)[0].str.split('/', expand=True)\n",
    "df_vars['addr'] = all_vars\n",
    "df_vars.to_csv('vars.csv')"
   ]
  },
  {
   "cell_type": "code",
   "execution_count": null,
   "metadata": {},
   "outputs": [],
   "source": [
    "val = mf6.get_value(mf6.get_var_address(\"x\", 'SODIUM'))\n",
    "val += 1\n",
    "\n",
    "# val = val + 1\n",
    "val += 1\n",
    "# mf6.get_value(mf6.get_var_address(\"x\", 'SODIUM')) = val"
   ]
  },
  {
   "cell_type": "code",
   "execution_count": null,
   "metadata": {},
   "outputs": [],
   "source": [
    "mf6.finalize()\n",
    "val"
   ]
  },
  {
   "cell_type": "code",
   "execution_count": null,
   "metadata": {},
   "outputs": [],
   "source": [
    "\n",
    "mf6 = modflowapi.ModflowApi(dll, working_directory = sim_ws)\n",
    "mf6.initialize()\n",
    "\n",
    "sim_start = datetime.now()\n",
    "print(\"...starting transport solution at {0}\".format(sim_start.strftime(DT_FMT)))\n",
    "# reset the node tracking containers\n",
    "\n",
    "# get the current sim time\n",
    "ctime = mf6.get_current_time()\n",
    "ctimes = [0.0]\n",
    "# get the ending sim time\n",
    "etime = mf6.get_end_time()\n",
    "# max number of solution iterations\n",
    "max_iter = mf6.get_value(mf6.get_var_address(\"MXITER\", \"SLN_1\"))\n",
    "num_fails = 0\n",
    "# let's do it!\n",
    "while ctime < etime:\n",
    "    sol_start = datetime.now()\n",
    "    # length of the current solve time\n",
    "    dt = mf6.get_time_step()\n",
    "    # prep the current time step\n",
    "    mf6.prepare_time_step(dt)\n",
    "    kiter = 0\n",
    "    # prep to solve\n",
    "    mf6.prepare_solve(1)\n",
    "    # the one-based stress period number\n",
    "    stress_period = mf6.get_value(mf6.get_var_address(\"KPER\", \"TDIS\"))[0]\n",
    "    time_step = mf6.get_value(mf6.get_var_address(\"KSTP\", \"TDIS\"))[0]\n",
    "\n",
    "    # solve until converged\n",
    "    while kiter < max_iter:\n",
    "        # apply whatever change we want here\n",
    "        # val = mf6.get_value(mf6.get_var_address(\"x\", 'SODIUM'))\n",
    "        # val += 1\n",
    "        convg = mf6.solve(1)\n",
    "        if convg:\n",
    "            td = (datetime.now() - sol_start).total_seconds() / 60.0\n",
    "            print(\"transport stress period,time step {0},{1} converged with {2} iters, took {3:10.5G} mins\".format(stress_period, time_step, kiter,td))\n",
    "            break\n",
    "        kiter += 1\n",
    "\n",
    "    if not convg:\n",
    "        td = (datetime.now() - sol_start).total_seconds() / 60.0\n",
    "        print(\"transport stress period,time step {0},{1} did not converged, {2} iters, took {3:10.5G} mins\".format(\n",
    "            stress_period, time_step, kiter, td))\n",
    "        num_fails += 1\n",
    "mf6.finalize()\n"
   ]
  },
  {
   "cell_type": "code",
   "execution_count": null,
   "metadata": {},
   "outputs": [],
   "source": []
  },
  {
   "cell_type": "code",
   "execution_count": null,
   "metadata": {},
   "outputs": [],
   "source": [
    "def callback_function(sim, callback_step):\n",
    "    \"\"\"\n",
    "    A demonstration function that dynamically adjusts recharge\n",
    "    and pumping in a modflow-6 model through the MODFLOW-API\n",
    "\n",
    "    Parameters\n",
    "    ----------\n",
    "    sim : modflowapi.ApiSimulation\n",
    "        A simulation object for the solution group that is\n",
    "        currently being solved\n",
    "    step : enumeration\n",
    "        modflowapi.Callbacks enumeration object that indicates\n",
    "        the part of the solution modflow is currently in.\n",
    "    \"\"\"\n",
    "    ml = sim.get_model()\n",
    "    if callback_step == Callbacks.initialize:\n",
    "        print(sim.models)\n",
    "\n",
    "    # if callback_step == Callbacks.stress_period_start:\n",
    "    #     # adjust recharge for stress periods 7 through 12\n",
    "    #     if sim.kper <= 6:\n",
    "    #         rcha = ml.rcha_0\n",
    "    #         spd = rcha.stress_period_data\n",
    "    #         print(f\"updating recharge: stress_period={ml.kper}\")\n",
    "    #         spd[\"recharge\"] += 0.40 * sim.kper\n",
    "\n",
    "    if callback_step == Callbacks.timestep_start:\n",
    "        print(\n",
    "            f\"Testing: stress_period={ml.kper}, timestep={ml.kstp}\", ml.kstp\n",
    "        )\n",
    "        if ml.kstp != 2:\n",
    "            ml.wel.stress_period_data[\"q\"] *= 1/ml.kstp\n",
    "            # ml.wel.stress_period_data['CONCENTRATION'] = 100000000\n",
    "            # print('..........................', ml.wel.stress_period_data['CONCENTRATION'])\n",
    "        else:\n",
    "            ml.wel.stress_period_data['q'] = 0\n",
    "        # if ml.kstp ==2:\n",
    "            \n",
    "    if callback_step == Callbacks.iteration_start:\n",
    "        # we can implement complex solutions to boundary conditions here!\n",
    "        pass\n",
    "    # return wel\n",
    "\n",
    "# modflowapi.run_simulation(dll, sim_ws, callback_function, verbose=True)\n"
   ]
  },
  {
   "cell_type": "code",
   "execution_count": null,
   "metadata": {},
   "outputs": [],
   "source": [
    "ucn = flopy.utils.HeadFile(os.path.join(\"model\",'engesgaard1992',\"sodium.ucn\"),text=\"concentration\")\n",
    "carr = ucn.get_alldata()"
   ]
  },
  {
   "cell_type": "code",
   "execution_count": null,
   "metadata": {},
   "outputs": [],
   "source": [
    "# carr[0][0]\n",
    "carr[-1,0,0,:]"
   ]
  }
 ],
 "metadata": {
  "kernelspec": {
   "display_name": "mf6rtm",
   "language": "python",
   "name": "python3"
  },
  "language_info": {
   "codemirror_mode": {
    "name": "ipython",
    "version": 3
   },
   "file_extension": ".py",
   "mimetype": "text/x-python",
   "name": "python",
   "nbconvert_exporter": "python",
   "pygments_lexer": "ipython3",
   "version": "3.10.14"
  }
 },
 "nbformat": 4,
 "nbformat_minor": 2
}
