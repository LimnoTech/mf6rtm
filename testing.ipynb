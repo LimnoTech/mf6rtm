{
 "cells": [
  {
   "cell_type": "markdown",
   "metadata": {},
   "source": [
    "# TESTS"
   ]
  },
  {
   "cell_type": "code",
   "execution_count": 1,
   "metadata": {},
   "outputs": [],
   "source": [
    "from pathlib import Path\n",
    "import os\n",
    "import modflowapi\n",
    "from modflowapi import Callbacks\n",
    "from workflow import *\n",
    "from datetime import datetime\n",
    "\n",
    "DT_FMT = \"%Y-%m-%d %H:%M:%S\"\n"
   ]
  },
  {
   "cell_type": "code",
   "execution_count": null,
   "metadata": {},
   "outputs": [],
   "source": [
    "sim = build_model(ws = 'model', sim_name = 'engesgaard1992', spls = ['sodium'])\n"
   ]
  },
  {
   "cell_type": "code",
   "execution_count": null,
   "metadata": {},
   "outputs": [],
   "source": [
    "# sim_ws = os.path.join('model', '1dtest', 'chloride')\n",
    "sim_ws = Path(\"model/engesgaard1992/\")\n",
    "dll = Path(\"bin/win/libmf6\")"
   ]
  },
  {
   "cell_type": "code",
   "execution_count": null,
   "metadata": {},
   "outputs": [],
   "source": [
    "def try_get_value(address, mf6):\n",
    "    try:\n",
    "        res = mf6.get_value(address)\n",
    "        return res\n",
    "    except:\n",
    "        res = 'failed'\n",
    "        return res"
   ]
  },
  {
   "cell_type": "code",
   "execution_count": null,
   "metadata": {},
   "outputs": [],
   "source": [
    "mf6 = modflowapi.ModflowApi(dll, working_directory = sim_ws)\n",
    "mf6.initialize()\n",
    "# current_time = mf6.get_current_time()\n",
    "# end_time = mf6.get_end_time()\n",
    "all_vars = mf6.get_input_var_names() \n",
    "\n",
    "# var_add = \n",
    "\n",
    "# try:\n",
    "#     mf6.finalize()\n",
    "#     success=True\n",
    "# except:\n",
    "#     raise RuntimeError"
   ]
  },
  {
   "cell_type": "code",
   "execution_count": null,
   "metadata": {},
   "outputs": [],
   "source": [
    "# current_time, end_time\n",
    "\n",
    "# all_vars\n",
    "df_vars = pd.DataFrame(all_vars)[0].str.split('/', expand=True)\n",
    "df_vars['addr'] = all_vars\n",
    "df_vars.to_csv('vars.csv')"
   ]
  },
  {
   "cell_type": "code",
   "execution_count": null,
   "metadata": {},
   "outputs": [],
   "source": [
    "val = mf6.get_value(mf6.get_var_address(\"x\", 'SODIUM'))\n",
    "val += 1\n",
    "\n",
    "# val = val + 1\n",
    "val += 1\n",
    "# mf6.get_value(mf6.get_var_address(\"x\", 'SODIUM')) = val"
   ]
  },
  {
   "cell_type": "code",
   "execution_count": null,
   "metadata": {},
   "outputs": [],
   "source": [
    "mf6.finalize()\n",
    "val"
   ]
  },
  {
   "cell_type": "code",
   "execution_count": null,
   "metadata": {},
   "outputs": [],
   "source": [
    "\n",
    "mf6 = modflowapi.ModflowApi(dll, working_directory = sim_ws)\n",
    "mf6.initialize()\n",
    "\n",
    "sim_start = datetime.now()\n",
    "print(\"...starting transport solution at {0}\".format(sim_start.strftime(DT_FMT)))\n",
    "# reset the node tracking containers\n",
    "\n",
    "# get the current sim time\n",
    "ctime = mf6.get_current_time()\n",
    "ctimes = [0.0]\n",
    "# get the ending sim time\n",
    "etime = mf6.get_end_time()\n",
    "# max number of solution iterations\n",
    "max_iter = mf6.get_value(mf6.get_var_address(\"MXITER\", \"SLN_1\"))\n",
    "num_fails = 0\n",
    "# let's do it!\n",
    "while ctime < etime:\n",
    "    sol_start = datetime.now()\n",
    "    # length of the current solve time\n",
    "    dt = mf6.get_time_step()\n",
    "    # prep the current time step\n",
    "    mf6.prepare_time_step(dt)\n",
    "    kiter = 0\n",
    "    # prep to solve\n",
    "    mf6.prepare_solve(1)\n",
    "    # the one-based stress period number\n",
    "    stress_period = mf6.get_value(mf6.get_var_address(\"KPER\", \"TDIS\"))[0]\n",
    "    time_step = mf6.get_value(mf6.get_var_address(\"KSTP\", \"TDIS\"))[0]\n",
    "\n",
    "    # solve until converged\n",
    "    while kiter < max_iter:\n",
    "        # apply whatever change we want here\n",
    "        # val = mf6.get_value(mf6.get_var_address(\"x\", 'SODIUM'))\n",
    "        # val += 1\n",
    "        convg = mf6.solve(1)\n",
    "        if convg:\n",
    "            td = (datetime.now() - sol_start).total_seconds() / 60.0\n",
    "            print(\"transport stress period,time step {0},{1} converged with {2} iters, took {3:10.5G} mins\".format(stress_period, time_step, kiter,td))\n",
    "            break\n",
    "        kiter += 1\n",
    "\n",
    "    if not convg:\n",
    "        td = (datetime.now() - sol_start).total_seconds() / 60.0\n",
    "        print(\"transport stress period,time step {0},{1} did not converged, {2} iters, took {3:10.5G} mins\".format(\n",
    "            stress_period, time_step, kiter, td))\n",
    "        num_fails += 1\n",
    "mf6.finalize()\n"
   ]
  },
  {
   "cell_type": "code",
   "execution_count": null,
   "metadata": {},
   "outputs": [],
   "source": []
  },
  {
   "cell_type": "code",
   "execution_count": null,
   "metadata": {},
   "outputs": [],
   "source": [
    "def callback_function(sim, callback_step):\n",
    "    \"\"\"\n",
    "    A demonstration function that dynamically adjusts recharge\n",
    "    and pumping in a modflow-6 model through the MODFLOW-API\n",
    "\n",
    "    Parameters\n",
    "    ----------\n",
    "    sim : modflowapi.ApiSimulation\n",
    "        A simulation object for the solution group that is\n",
    "        currently being solved\n",
    "    step : enumeration\n",
    "        modflowapi.Callbacks enumeration object that indicates\n",
    "        the part of the solution modflow is currently in.\n",
    "    \"\"\"\n",
    "    ml = sim.get_model()\n",
    "    if callback_step == Callbacks.initialize:\n",
    "        print(sim.models)\n",
    "\n",
    "    # if callback_step == Callbacks.stress_period_start:\n",
    "    #     # adjust recharge for stress periods 7 through 12\n",
    "    #     if sim.kper <= 6:\n",
    "    #         rcha = ml.rcha_0\n",
    "    #         spd = rcha.stress_period_data\n",
    "    #         print(f\"updating recharge: stress_period={ml.kper}\")\n",
    "    #         spd[\"recharge\"] += 0.40 * sim.kper\n",
    "\n",
    "    if callback_step == Callbacks.timestep_start:\n",
    "        print(\n",
    "            f\"Testing: stress_period={ml.kper}, timestep={ml.kstp}\", ml.kstp\n",
    "        )\n",
    "        if ml.kstp != 2:\n",
    "            ml.wel.stress_period_data[\"q\"] *= 1/ml.kstp\n",
    "            # ml.wel.stress_period_data['CONCENTRATION'] = 100000000\n",
    "            # print('..........................', ml.wel.stress_period_data['CONCENTRATION'])\n",
    "        else:\n",
    "            ml.wel.stress_period_data['q'] = 0\n",
    "        # if ml.kstp ==2:\n",
    "            \n",
    "    if callback_step == Callbacks.iteration_start:\n",
    "        # we can implement complex solutions to boundary conditions here!\n",
    "        pass\n",
    "    # return wel\n",
    "\n",
    "# modflowapi.run_simulation(dll, sim_ws, callback_function, verbose=True)\n"
   ]
  },
  {
   "cell_type": "code",
   "execution_count": null,
   "metadata": {},
   "outputs": [],
   "source": [
    "ucn = flopy.utils.HeadFile(os.path.join(\"model\",'engesgaard1992',\"sodium.ucn\"),text=\"concentration\")\n",
    "carr = ucn.get_alldata()"
   ]
  },
  {
   "cell_type": "code",
   "execution_count": null,
   "metadata": {},
   "outputs": [],
   "source": [
    "# carr[0][0]\n",
    "carr[-1,0,0,:]"
   ]
  },
  {
   "cell_type": "markdown",
   "metadata": {},
   "source": [
    "# PHREEQCRM TEST"
   ]
  },
  {
   "cell_type": "code",
   "execution_count": 1,
   "metadata": {},
   "outputs": [],
   "source": [
    "import phreeqcrm\n",
    "import numpy as np\n",
    "import os\n",
    "import sys"
   ]
  },
  {
   "cell_type": "code",
   "execution_count": 2,
   "metadata": {},
   "outputs": [],
   "source": [
    "nxyz = 20\n",
    "nthreads = 1\n",
    "phreeqc_rm = phreeqcrm.PhreeqcRM(nxyz, nthreads)"
   ]
  },
  {
   "cell_type": "code",
   "execution_count": 3,
   "metadata": {},
   "outputs": [],
   "source": [
    "status = phreeqc_rm.SetComponentH2O(False)\n",
    "phreeqc_rm.UseSolutionDensityVolume(False)\n",
    "status = phreeqc_rm.SetFilePrefix(\"SimpleAdvect_py\")\n",
    "phreeqc_rm.OpenFiles()\n",
    "poro = np.full((nxyz), 0.2)\n",
    "status = phreeqc_rm.SetPorosity(poro)"
   ]
  },
  {
   "cell_type": "code",
   "execution_count": 4,
   "metadata": {},
   "outputs": [],
   "source": [
    "print_chemistry_mask = np.full((nxyz), 1)\n",
    "status = phreeqc_rm.SetPrintChemistryMask(print_chemistry_mask)\n",
    "nchem = phreeqc_rm.GetChemistryCellCount()"
   ]
  },
  {
   "cell_type": "code",
   "execution_count": 5,
   "metadata": {},
   "outputs": [],
   "source": [
    "# Load database\n",
    "databasews = os.path.join(\"database\", \"phreeqc.dat\")\n",
    "status = phreeqc_rm.LoadDatabase(databasews)\n",
    "status = phreeqc_rm.RunFile(True, True, True, \"advect.pqi\")\n",
    "# Clear contents of workers and utility\n",
    "input = \"DELETE; -all\"\n",
    "status = phreeqc_rm.RunString(True, False, True, input)\n",
    "\n",
    "ncomps = phreeqc_rm.FindComponents()\n",
    "ncomps\n",
    "\n",
    "components = phreeqc_rm.GetComponents()\n",
    "components\n",
    "\n",
    "for comp in components:\n",
    "    phreeqc_rm.OutputMessage(comp)\n",
    "phreeqc_rm.OutputMessage(\"\\n\")\n",
    "\n",
    "ic1 = [-1] * nxyz * 7 \n",
    "ic1\n",
    "for i in range(nxyz):\n",
    "    ic1[i]            =  1  # Solution 1\n",
    "    ic1[nxyz + i]     = -1  # Equilibrium phases none\n",
    "    ic1[2 * nxyz + i] =  1  # Exchange 1\n",
    "    ic1[3 * nxyz + i] = -1  # Surface none\n",
    "    ic1[4 * nxyz + i] = -1  # Gas phase none\n",
    "    ic1[5 * nxyz + i] = -1  # Solid solutions none\n",
    "    ic1[6 * nxyz + i] = -1  # Kinetics none\n",
    "\n",
    "status = phreeqc_rm.InitialPhreeqc2Module(ic1)\n",
    "\n",
    "# Initial equilibration of cells\n",
    "time = 0.0\n",
    "time_step = 0.0\n",
    "status = phreeqc_rm.SetTime(time)\n",
    "status = phreeqc_rm.SetTimeStep(time_step)\n",
    "status = phreeqc_rm.RunCells()\n"
   ]
  },
  {
   "cell_type": "code",
   "execution_count": 6,
   "metadata": {},
   "outputs": [],
   "source": [
    "status\n",
    "c_dbl_vect = phreeqc_rm.GetConcentrations()"
   ]
  },
  {
   "cell_type": "code",
   "execution_count": 7,
   "metadata": {},
   "outputs": [
    {
     "data": {
      "text/plain": [
       "array([ 1.11564766e+05,  1.11564766e+05,  1.11564766e+05,  1.11564766e+05,\n",
       "        1.11564766e+05,  1.11564766e+05,  1.11564766e+05,  1.11564766e+05,\n",
       "        1.11564766e+05,  1.11564766e+05,  1.11564766e+05,  1.11564766e+05,\n",
       "        1.11564766e+05,  1.11564766e+05,  1.11564766e+05,  1.11564766e+05,\n",
       "        1.11564766e+05,  1.11564766e+05,  1.11564766e+05,  1.11564766e+05,\n",
       "        8.85500618e+05,  8.85500618e+05,  8.85500618e+05,  8.85500618e+05,\n",
       "        8.85500618e+05,  8.85500618e+05,  8.85500618e+05,  8.85500618e+05,\n",
       "        8.85500618e+05,  8.85500618e+05,  8.85500618e+05,  8.85500618e+05,\n",
       "        8.85500618e+05,  8.85500618e+05,  8.85500618e+05,  8.85500618e+05,\n",
       "        8.85500618e+05,  8.85500618e+05,  8.85500618e+05,  8.85500618e+05,\n",
       "       -3.38515228e-13, -3.38515228e-13, -3.38515228e-13, -3.38515228e-13,\n",
       "       -3.38515228e-13, -3.38515228e-13, -3.38515228e-13, -3.38515228e-13,\n",
       "       -3.38515228e-13, -3.38515228e-13, -3.38515228e-13, -3.38515228e-13,\n",
       "       -3.38515228e-13, -3.38515228e-13, -3.38515228e-13, -3.38515228e-13,\n",
       "       -3.38515228e-13, -3.38515228e-13, -3.38515228e-13, -3.38515228e-13,\n",
       "        0.00000000e+00,  0.00000000e+00,  0.00000000e+00,  0.00000000e+00,\n",
       "        0.00000000e+00,  0.00000000e+00,  0.00000000e+00,  0.00000000e+00,\n",
       "        0.00000000e+00,  0.00000000e+00,  0.00000000e+00,  0.00000000e+00,\n",
       "        0.00000000e+00,  0.00000000e+00,  0.00000000e+00,  0.00000000e+00,\n",
       "        0.00000000e+00,  0.00000000e+00,  0.00000000e+00,  0.00000000e+00,\n",
       "        0.00000000e+00,  0.00000000e+00,  0.00000000e+00,  0.00000000e+00,\n",
       "        0.00000000e+00,  0.00000000e+00,  0.00000000e+00,  0.00000000e+00,\n",
       "        0.00000000e+00,  0.00000000e+00,  0.00000000e+00,  0.00000000e+00,\n",
       "        0.00000000e+00,  0.00000000e+00,  0.00000000e+00,  0.00000000e+00,\n",
       "        0.00000000e+00,  0.00000000e+00,  0.00000000e+00,  0.00000000e+00,\n",
       "        7.79693426e+00,  7.79693426e+00,  7.79693426e+00,  7.79693426e+00,\n",
       "        7.79693426e+00,  7.79693426e+00,  7.79693426e+00,  7.79693426e+00,\n",
       "        7.79693426e+00,  7.79693426e+00,  7.79693426e+00,  7.79693426e+00,\n",
       "        7.79693426e+00,  7.79693426e+00,  7.79693426e+00,  7.79693426e+00,\n",
       "        7.79693426e+00,  7.79693426e+00,  7.79693426e+00,  7.79693426e+00,\n",
       "        1.67576061e+01,  1.67576061e+01,  1.67576061e+01,  1.67576061e+01,\n",
       "        1.67576061e+01,  1.67576061e+01,  1.67576061e+01,  1.67576061e+01,\n",
       "        1.67576061e+01,  1.67576061e+01,  1.67576061e+01,  1.67576061e+01,\n",
       "        1.67576061e+01,  1.67576061e+01,  1.67576061e+01,  1.67576061e+01,\n",
       "        1.67576061e+01,  1.67576061e+01,  1.67576061e+01,  1.67576061e+01,\n",
       "        2.29208172e+01,  2.29208172e+01,  2.29208172e+01,  2.29208172e+01,\n",
       "        2.29208172e+01,  2.29208172e+01,  2.29208172e+01,  2.29208172e+01,\n",
       "        2.29208172e+01,  2.29208172e+01,  2.29208172e+01,  2.29208172e+01,\n",
       "        2.29208172e+01,  2.29208172e+01,  2.29208172e+01,  2.29208172e+01,\n",
       "        2.29208172e+01,  2.29208172e+01,  2.29208172e+01,  2.29208172e+01])"
      ]
     },
     "execution_count": 7,
     "metadata": {},
     "output_type": "execute_result"
    }
   ],
   "source": [
    "c_dbl_vect"
   ]
  },
  {
   "cell_type": "markdown",
   "metadata": {},
   "source": [
    "# Engesgaard 1992 - PHT3D"
   ]
  },
  {
   "cell_type": "code",
   "execution_count": 14,
   "metadata": {},
   "outputs": [
    {
     "data": {
      "text/html": [
       "<div>\n",
       "<style scoped>\n",
       "    .dataframe tbody tr th:only-of-type {\n",
       "        vertical-align: middle;\n",
       "    }\n",
       "\n",
       "    .dataframe tbody tr th {\n",
       "        vertical-align: top;\n",
       "    }\n",
       "\n",
       "    .dataframe thead th {\n",
       "        text-align: right;\n",
       "    }\n",
       "</style>\n",
       "<table border=\"1\" class=\"dataframe\">\n",
       "  <thead>\n",
       "    <tr style=\"text-align: right;\">\n",
       "      <th></th>\n",
       "      <th>cell</th>\n",
       "      <th>ph</th>\n",
       "      <th>pe</th>\n",
       "      <th>ca</th>\n",
       "      <th>cl</th>\n",
       "      <th>c4</th>\n",
       "      <th>mg</th>\n",
       "      <th>calcite</th>\n",
       "      <th>dolomite</th>\n",
       "      <th>dist</th>\n",
       "    </tr>\n",
       "    <tr>\n",
       "      <th>time_d</th>\n",
       "      <th></th>\n",
       "      <th></th>\n",
       "      <th></th>\n",
       "      <th></th>\n",
       "      <th></th>\n",
       "      <th></th>\n",
       "      <th></th>\n",
       "      <th></th>\n",
       "      <th></th>\n",
       "      <th></th>\n",
       "    </tr>\n",
       "  </thead>\n",
       "  <tbody>\n",
       "    <tr>\n",
       "      <th>0.01</th>\n",
       "      <td>1.0</td>\n",
       "      <td>9.7017</td>\n",
       "      <td>-6.5533</td>\n",
       "      <td>0.000131</td>\n",
       "      <td>0.001121</td>\n",
       "      <td>0.0</td>\n",
       "      <td>0.000515</td>\n",
       "      <td>0.000000</td>\n",
       "      <td>0.000045</td>\n",
       "      <td>0.01</td>\n",
       "    </tr>\n",
       "    <tr>\n",
       "      <th>0.01</th>\n",
       "      <td>2.0</td>\n",
       "      <td>9.8379</td>\n",
       "      <td>-6.7482</td>\n",
       "      <td>0.000165</td>\n",
       "      <td>0.000373</td>\n",
       "      <td>0.0</td>\n",
       "      <td>0.000130</td>\n",
       "      <td>0.000000</td>\n",
       "      <td>0.000057</td>\n",
       "      <td>0.02</td>\n",
       "    </tr>\n",
       "    <tr>\n",
       "      <th>0.01</th>\n",
       "      <td>3.0</td>\n",
       "      <td>9.9058</td>\n",
       "      <td>-6.8288</td>\n",
       "      <td>0.000125</td>\n",
       "      <td>0.000092</td>\n",
       "      <td>0.0</td>\n",
       "      <td>0.000046</td>\n",
       "      <td>0.000115</td>\n",
       "      <td>0.000000</td>\n",
       "      <td>0.03</td>\n",
       "    </tr>\n",
       "    <tr>\n",
       "      <th>0.01</th>\n",
       "      <td>4.0</td>\n",
       "      <td>9.9087</td>\n",
       "      <td>-6.8347</td>\n",
       "      <td>0.000123</td>\n",
       "      <td>0.000024</td>\n",
       "      <td>0.0</td>\n",
       "      <td>0.000012</td>\n",
       "      <td>0.000120</td>\n",
       "      <td>0.000000</td>\n",
       "      <td>0.04</td>\n",
       "    </tr>\n",
       "    <tr>\n",
       "      <th>0.01</th>\n",
       "      <td>5.0</td>\n",
       "      <td>9.9095</td>\n",
       "      <td>-6.8362</td>\n",
       "      <td>0.000123</td>\n",
       "      <td>0.000007</td>\n",
       "      <td>0.0</td>\n",
       "      <td>0.000003</td>\n",
       "      <td>0.000122</td>\n",
       "      <td>0.000000</td>\n",
       "      <td>0.05</td>\n",
       "    </tr>\n",
       "  </tbody>\n",
       "</table>\n",
       "</div>"
      ],
      "text/plain": [
       "        cell      ph      pe        ca        cl   c4        mg   calcite  \\\n",
       "time_d                                                                      \n",
       "0.01     1.0  9.7017 -6.5533  0.000131  0.001121  0.0  0.000515  0.000000   \n",
       "0.01     2.0  9.8379 -6.7482  0.000165  0.000373  0.0  0.000130  0.000000   \n",
       "0.01     3.0  9.9058 -6.8288  0.000125  0.000092  0.0  0.000046  0.000115   \n",
       "0.01     4.0  9.9087 -6.8347  0.000123  0.000024  0.0  0.000012  0.000120   \n",
       "0.01     5.0  9.9095 -6.8362  0.000123  0.000007  0.0  0.000003  0.000122   \n",
       "\n",
       "        dolomite  dist  \n",
       "time_d                  \n",
       "0.01    0.000045  0.01  \n",
       "0.01    0.000057  0.02  \n",
       "0.01    0.000000  0.03  \n",
       "0.01    0.000000  0.04  \n",
       "0.01    0.000000  0.05  "
      ]
     },
     "execution_count": 14,
     "metadata": {},
     "output_type": "execute_result"
    }
   ],
   "source": [
    "wd = os.path.join('benchmark', 'pht3d')\n",
    "dx = 0.01\n",
    "simdf = pd.read_csv(os.path.join(wd, 'out.dat'), sep = '\\t', skipinitialspace=True, index_col=[0])\n",
    "simdf.drop(simdf.columns[len(simdf.columns)-1], axis=1, inplace=True)\n",
    "simdf.columns = [col.lower() for col in simdf.columns]\n",
    "simdf.loc[:, 'dist'] = simdf['cell'] * dx \n",
    "# simdf.Dolomite\n",
    "simdf.head()\n"
   ]
  },
  {
   "cell_type": "code",
   "execution_count": 15,
   "metadata": {},
   "outputs": [
    {
     "data": {
      "text/plain": [
       "Index([  864.0,   864.0,   864.0,   864.0,   864.0,   864.0,   864.0,   864.0,\n",
       "         864.0,   864.0,\n",
       "       ...\n",
       "       20736.0, 20736.0, 20736.0, 20736.0, 20736.0, 20736.0, 20736.0, 20736.0,\n",
       "       20736.0, 20736.0],\n",
       "      dtype='float64', name='time_d', length=1200)"
      ]
     },
     "execution_count": 15,
     "metadata": {},
     "output_type": "execute_result"
    }
   ],
   "source": [
    "simdf.index * 86400"
   ]
  },
  {
   "cell_type": "code",
   "execution_count": 21,
   "metadata": {},
   "outputs": [
    {
     "data": {
      "text/plain": [
       "<Axes: xlabel='dist'>"
      ]
     },
     "execution_count": 21,
     "metadata": {},
     "output_type": "execute_result"
    },
    {
     "data": {
      "image/png": "[encoded data removed]",
      "text/plain": [
       "<Figure size 640x480 with 1 Axes>"
      ]
     },
     "metadata": {},
     "output_type": "display_data"
    }
   ],
   "source": [
    "simdf.loc[0.2, ['dist','mg']].pivot_table(index='dist', columns = 'time_d').plot() "
   ]
  }
 ],
 "metadata": {
  "kernelspec": {
   "display_name": "mf6rtm",
   "language": "python",
   "name": "python3"
  },
  "language_info": {
   "codemirror_mode": {
    "name": "ipython",
    "version": 3
   },
   "file_extension": ".py",
   "mimetype": "text/x-python",
   "name": "python",
   "nbconvert_exporter": "python",
   "pygments_lexer": "ipython3",
   "version": "3.10.14"
  }
 },
 "nbformat": 4,
 "nbformat_minor": 2
}
