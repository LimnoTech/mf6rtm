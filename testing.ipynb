{
 "cells": [
  {
   "cell_type": "markdown",
   "metadata": {},
   "source": [
    "# TESTS"
   ]
  },
  {
   "cell_type": "code",
   "execution_count": 1,
   "metadata": {},
   "outputs": [],
   "source": [
    "from pathlib import Path\n",
    "import os\n",
    "import modflowapi\n",
    "from modflowapi import Callbacks\n",
    "from workflow import *\n",
    "from datetime import datetime\n",
    "\n",
    "DT_FMT = \"%Y-%m-%d %H:%M:%S\"\n"
   ]
  },
  {
   "cell_type": "code",
   "execution_count": 4,
   "metadata": {},
   "outputs": [
    {
     "name": "stdout",
     "output_type": "stream",
     "text": [
      "Setting model for component: chloride\n",
      "--- Building IMS package ---\n",
      "--- Building DIS package ---\n",
      "--- Building ADV package ---\n",
      "--- Building DSP package ---\n",
      "--- Building MST package ---\n",
      "building FMI and OC ...\n",
      "writing simulation...\n",
      "  writing simulation name file...\n",
      "  writing simulation tdis package...\n",
      "  writing solution package ims_-1...\n",
      "  writing solution package ims_0...\n",
      "  writing package chloride.gwfgwt...\n",
      "  writing model gwf...\n",
      "    writing model name file...\n",
      "    writing package dis...\n",
      "    writing package npf...\n",
      "    writing package ic...\n",
      "    writing package chd...\n",
      "    writing package wel...\n",
      "INFORMATION: maxbound in ('gwf6', 'wel', 'dimensions') changed to 1 based on size of stress_period_data\n",
      "    writing package oc...\n",
      "  writing model chloride...\n",
      "    writing model name file...\n",
      "    writing package dis...\n",
      "    writing package ic...\n",
      "    writing package ssm...\n",
      "    writing package adv...\n",
      "    writing package dsp...\n",
      "    writing package mst...\n",
      "    writing package oc...\n"
     ]
    }
   ],
   "source": [
    "sim = build_model(ws = 'model', sim_name = 'engesgaard1992')\n",
    "# strt\n"
   ]
  },
  {
   "cell_type": "code",
   "execution_count": null,
   "metadata": {},
   "outputs": [],
   "source": [
    "# sim_ws = os.path.join('model', '1dtest', 'chloride')\n",
    "sim_ws = Path(\"model/engesgaard1992/\")\n",
    "dll = Path(\"bin/win/libmf6\")"
   ]
  },
  {
   "cell_type": "code",
   "execution_count": null,
   "metadata": {},
   "outputs": [],
   "source": [
    "def try_get_value(address, mf6):\n",
    "    try:\n",
    "        res = mf6.get_value(address)\n",
    "        return res\n",
    "    except:\n",
    "        res = 'failed'\n",
    "        return res"
   ]
  },
  {
   "cell_type": "code",
   "execution_count": null,
   "metadata": {},
   "outputs": [],
   "source": [
    "mf6 = modflowapi.ModflowApi(dll, working_directory = sim_ws)\n",
    "mf6.initialize()\n",
    "# current_time = mf6.get_current_time()\n",
    "# end_time = mf6.get_end_time()\n",
    "all_vars = mf6.get_input_var_names() \n",
    "\n",
    "# var_add = \n",
    "\n",
    "# try:\n",
    "#     mf6.finalize()\n",
    "#     success=True\n",
    "# except:\n",
    "#     raise RuntimeError"
   ]
  },
  {
   "cell_type": "code",
   "execution_count": null,
   "metadata": {},
   "outputs": [],
   "source": [
    "# current_time, end_time\n",
    "\n",
    "# all_vars\n",
    "df_vars = pd.DataFrame(all_vars)[0].str.split('/', expand=True)\n",
    "df_vars['addr'] = all_vars\n",
    "df_vars.to_csv('vars.csv')"
   ]
  },
  {
   "cell_type": "code",
   "execution_count": null,
   "metadata": {},
   "outputs": [],
   "source": [
    "val = mf6.get_value(mf6.get_var_address(\"x\", 'SODIUM'))\n",
    "val += 1\n",
    "\n",
    "# val = val + 1\n",
    "val += 1\n",
    "# mf6.get_value(mf6.get_var_address(\"x\", 'SODIUM')) = val"
   ]
  },
  {
   "cell_type": "code",
   "execution_count": null,
   "metadata": {},
   "outputs": [],
   "source": [
    "mf6.finalize()\n",
    "val"
   ]
  },
  {
   "cell_type": "code",
   "execution_count": null,
   "metadata": {},
   "outputs": [],
   "source": [
    "\n",
    "mf6 = modflowapi.ModflowApi(dll, working_directory = sim_ws)\n",
    "mf6.initialize()\n",
    "\n",
    "sim_start = datetime.now()\n",
    "print(\"...starting transport solution at {0}\".format(sim_start.strftime(DT_FMT)))\n",
    "# reset the node tracking containers\n",
    "\n",
    "# get the current sim time\n",
    "ctime = mf6.get_current_time()\n",
    "ctimes = [0.0]\n",
    "# get the ending sim time\n",
    "etime = mf6.get_end_time()\n",
    "# max number of solution iterations\n",
    "max_iter = mf6.get_value(mf6.get_var_address(\"MXITER\", \"SLN_1\"))\n",
    "num_fails = 0\n",
    "# let's do it!\n",
    "while ctime < etime:\n",
    "    sol_start = datetime.now()\n",
    "    # length of the current solve time\n",
    "    dt = mf6.get_time_step()\n",
    "    # prep the current time step\n",
    "    mf6.prepare_time_step(dt)\n",
    "    kiter = 0\n",
    "    # prep to solve\n",
    "    mf6.prepare_solve(1)\n",
    "    # the one-based stress period number\n",
    "    stress_period = mf6.get_value(mf6.get_var_address(\"KPER\", \"TDIS\"))[0]\n",
    "    time_step = mf6.get_value(mf6.get_var_address(\"KSTP\", \"TDIS\"))[0]\n",
    "\n",
    "    # solve until converged\n",
    "    while kiter < max_iter:\n",
    "        # apply whatever change we want here\n",
    "        # val = mf6.get_value(mf6.get_var_address(\"x\", 'SODIUM'))\n",
    "        # val += 1\n",
    "        convg = mf6.solve(1)\n",
    "        if convg:\n",
    "            td = (datetime.now() - sol_start).total_seconds() / 60.0\n",
    "            print(\"transport stress period,time step {0},{1} converged with {2} iters, took {3:10.5G} mins\".format(stress_period, time_step, kiter,td))\n",
    "            break\n",
    "        kiter += 1\n",
    "\n",
    "    if not convg:\n",
    "        td = (datetime.now() - sol_start).total_seconds() / 60.0\n",
    "        print(\"transport stress period,time step {0},{1} did not converged, {2} iters, took {3:10.5G} mins\".format(\n",
    "            stress_period, time_step, kiter, td))\n",
    "        num_fails += 1\n",
    "mf6.finalize()\n"
   ]
  },
  {
   "cell_type": "code",
   "execution_count": null,
   "metadata": {},
   "outputs": [],
   "source": []
  },
  {
   "cell_type": "code",
   "execution_count": null,
   "metadata": {},
   "outputs": [],
   "source": [
    "def callback_function(sim, callback_step):\n",
    "    \"\"\"\n",
    "    A demonstration function that dynamically adjusts recharge\n",
    "    and pumping in a modflow-6 model through the MODFLOW-API\n",
    "\n",
    "    Parameters\n",
    "    ----------\n",
    "    sim : modflowapi.ApiSimulation\n",
    "        A simulation object for the solution group that is\n",
    "        currently being solved\n",
    "    step : enumeration\n",
    "        modflowapi.Callbacks enumeration object that indicates\n",
    "        the part of the solution modflow is currently in.\n",
    "    \"\"\"\n",
    "    ml = sim.get_model()\n",
    "    if callback_step == Callbacks.initialize:\n",
    "        print(sim.models)\n",
    "\n",
    "    # if callback_step == Callbacks.stress_period_start:\n",
    "    #     # adjust recharge for stress periods 7 through 12\n",
    "    #     if sim.kper <= 6:\n",
    "    #         rcha = ml.rcha_0\n",
    "    #         spd = rcha.stress_period_data\n",
    "    #         print(f\"updating recharge: stress_period={ml.kper}\")\n",
    "    #         spd[\"recharge\"] += 0.40 * sim.kper\n",
    "\n",
    "    if callback_step == Callbacks.timestep_start:\n",
    "        print(\n",
    "            f\"Testing: stress_period={ml.kper}, timestep={ml.kstp}\", ml.kstp\n",
    "        )\n",
    "        if ml.kstp != 2:\n",
    "            ml.wel.stress_period_data[\"q\"] *= 1/ml.kstp\n",
    "            # ml.wel.stress_period_data['CONCENTRATION'] = 100000000\n",
    "            # print('..........................', ml.wel.stress_period_data['CONCENTRATION'])\n",
    "        else:\n",
    "            ml.wel.stress_period_data['q'] = 0\n",
    "        # if ml.kstp ==2:\n",
    "            \n",
    "    if callback_step == Callbacks.iteration_start:\n",
    "        # we can implement complex solutions to boundary conditions here!\n",
    "        pass\n",
    "    # return wel\n",
    "\n",
    "# modflowapi.run_simulation(dll, sim_ws, callback_function, verbose=True)\n"
   ]
  },
  {
   "cell_type": "code",
   "execution_count": null,
   "metadata": {},
   "outputs": [],
   "source": [
    "ucn = flopy.utils.HeadFile(os.path.join(\"model\",'engesgaard1992',\"sodium.ucn\"),text=\"concentration\")\n",
    "carr = ucn.get_alldata()"
   ]
  },
  {
   "cell_type": "code",
   "execution_count": null,
   "metadata": {},
   "outputs": [],
   "source": [
    "# carr[0][0]\n",
    "carr[-1,0,0,:]"
   ]
  },
  {
   "cell_type": "markdown",
   "metadata": {},
   "source": [
    "# PHREEQCRM TEST"
   ]
  },
  {
   "cell_type": "code",
   "execution_count": 5,
   "metadata": {},
   "outputs": [],
   "source": [
    "import phreeqcrm\n",
    "import numpy as np\n",
    "import os\n",
    "import sys"
   ]
  },
  {
   "cell_type": "code",
   "execution_count": 6,
   "metadata": {},
   "outputs": [],
   "source": [
    "nxyz = 50\n",
    "nthreads = 1\n",
    "phreeqc_rm = phreeqcrm.PhreeqcRM(nxyz, nthreads)"
   ]
  },
  {
   "cell_type": "code",
   "execution_count": 7,
   "metadata": {},
   "outputs": [],
   "source": [
    "status = phreeqc_rm.SetComponentH2O(False)\n",
    "phreeqc_rm.UseSolutionDensityVolume(False)\n",
    "status = phreeqc_rm.SetFilePrefix(\"SimpleAdvect_py\")\n",
    "phreeqc_rm.OpenFiles()\n",
    "poro = np.full((nxyz), .1)\n",
    "status = phreeqc_rm.SetPorosity(poro)"
   ]
  },
  {
   "cell_type": "code",
   "execution_count": 8,
   "metadata": {},
   "outputs": [
    {
     "data": {
      "text/plain": [
       "(50,)"
      ]
     },
     "execution_count": 8,
     "metadata": {},
     "output_type": "execute_result"
    }
   ],
   "source": [
    "poro.shape"
   ]
  },
  {
   "cell_type": "code",
   "execution_count": 9,
   "metadata": {},
   "outputs": [],
   "source": [
    "print_chemistry_mask = np.full((nxyz), 1)\n",
    "status = phreeqc_rm.SetPrintChemistryMask(print_chemistry_mask)\n",
    "nchem = phreeqc_rm.GetChemistryCellCount()"
   ]
  },
  {
   "cell_type": "code",
   "execution_count": 10,
   "metadata": {},
   "outputs": [],
   "source": [
    "# Load database\n",
    "databasews = os.path.join(\"database\", \"pht3d_datab.dat\")\n",
    "status = phreeqc_rm.LoadDatabase(databasews)\n",
    "status = phreeqc_rm.RunFile(True, True, True, \"phinp.dat\")\n",
    "# Clear contents of workers and utility\n",
    "input = \"DELETE; -all\"\n",
    "status = phreeqc_rm.RunString(True, False, True, input)\n",
    "\n",
    "ncomps = phreeqc_rm.FindComponents()\n",
    "ncomps\n",
    "\n",
    "components = phreeqc_rm.GetComponents()\n",
    "components\n",
    "\n",
    "for comp in components:\n",
    "    phreeqc_rm.OutputMessage(comp)\n",
    "phreeqc_rm.OutputMessage(\"\\n\")\n",
    "\n",
    "ic1 = [-1] * nxyz * 7 \n",
    "ic1\n",
    "for i in range(nxyz):\n",
    "    ic1[i]            =  1  # Solution 1\n",
    "    ic1[nxyz + i]     = 1  # Equilibrium phases none\n",
    "    ic1[2 * nxyz + i] =  -1  # Exchange 1\n",
    "    ic1[3 * nxyz + i] = -1  # Surface none\n",
    "    ic1[4 * nxyz + i] = -1  # Gas phase none\n",
    "    ic1[5 * nxyz + i] = -1  # Solid solutions none\n",
    "    ic1[6 * nxyz + i] = -1  # Kinetics none\n",
    "\n",
    "status = phreeqc_rm.InitialPhreeqc2Module(ic1)\n",
    "\n",
    "# Initial equilibration of cells\n",
    "time = 0.0\n",
    "time_step = 0.0\n",
    "status = phreeqc_rm.SetTime(time)\n",
    "status = phreeqc_rm.SetTimeStep(time_step)\n",
    "status = phreeqc_rm.RunCells()\n"
   ]
  },
  {
   "cell_type": "code",
   "execution_count": null,
   "metadata": {},
   "outputs": [],
   "source": []
  },
  {
   "cell_type": "code",
   "execution_count": 11,
   "metadata": {},
   "outputs": [],
   "source": [
    "status\n",
    "\n",
    "c_dbl_vect = phreeqc_rm.GetConcentrations()\n"
   ]
  },
  {
   "cell_type": "code",
   "execution_count": 12,
   "metadata": {},
   "outputs": [
    {
     "data": {
      "text/plain": [
       "(350, ('H', 'O', 'Charge', 'C', 'Ca', 'Cl', 'Mg'))"
      ]
     },
     "execution_count": 12,
     "metadata": {},
     "output_type": "execute_result"
    }
   ],
   "source": [
    "#ncomp * ncell\n",
    "\n",
    "ncomps*nxyz, components\n"
   ]
  },
  {
   "cell_type": "code",
   "execution_count": 13,
   "metadata": {},
   "outputs": [
    {
     "data": {
      "text/plain": [
       "array([], dtype=float64)"
      ]
     },
     "execution_count": 13,
     "metadata": {},
     "output_type": "execute_result"
    }
   ],
   "source": [
    "phreeqc_rm.GetSpeciesNames()\n",
    "phreeqc_rm.GetSpeciesConcentrations()"
   ]
  },
  {
   "cell_type": "code",
   "execution_count": 14,
   "metadata": {},
   "outputs": [
    {
     "data": {
      "text/plain": [
       "('CH4',\n",
       " 'CO2',\n",
       " 'CO3-2',\n",
       " 'Ca+2',\n",
       " 'CaCO3',\n",
       " 'CaHCO3+',\n",
       " 'CaOH+',\n",
       " 'Cl-',\n",
       " 'H+',\n",
       " 'H2',\n",
       " 'H2O',\n",
       " 'H2O-0.01',\n",
       " 'HCO3-',\n",
       " 'Mg+2',\n",
       " 'MgCO3',\n",
       " 'MgHCO3+',\n",
       " 'MgOH+',\n",
       " 'O2',\n",
       " 'OH-')"
      ]
     },
     "execution_count": 14,
     "metadata": {},
     "output_type": "execute_result"
    }
   ],
   "source": [
    "phreeqc_rm.GetSpeciesNames()\n"
   ]
  },
  {
   "cell_type": "code",
   "execution_count": null,
   "metadata": {},
   "outputs": [],
   "source": []
  },
  {
   "cell_type": "code",
   "execution_count": 15,
   "metadata": {},
   "outputs": [
    {
     "data": {
      "text/plain": [
       "('Calcite', 'Dolomite')"
      ]
     },
     "execution_count": 15,
     "metadata": {},
     "output_type": "execute_result"
    }
   ],
   "source": [
    "phreeqc_rm.GetDatabaseFileName()\n",
    "components\n",
    "phreeqc_rm.GetEquilibriumPhases()\n",
    "# phreeqc_rm.SetConcentrations()"
   ]
  },
  {
   "cell_type": "code",
   "execution_count": 16,
   "metadata": {},
   "outputs": [
    {
     "data": {
      "text/plain": [
       "('H', 'O', 'Charge', 'C', 'Ca', 'Cl', 'Mg')"
      ]
     },
     "execution_count": 16,
     "metadata": {},
     "output_type": "execute_result"
    }
   ],
   "source": [
    "components"
   ]
  },
  {
   "cell_type": "code",
   "execution_count": 17,
   "metadata": {},
   "outputs": [],
   "source": [
    "# status\n",
    "c_dbl_vect = phreeqc_rm.GetConcentrations()"
   ]
  },
  {
   "cell_type": "code",
   "execution_count": 18,
   "metadata": {},
   "outputs": [
    {
     "name": "stdout",
     "output_type": "stream",
     "text": [
      "float64\n",
      "float64\n",
      "float64\n",
      "float64\n",
      "float64\n",
      "float64\n",
      "float64\n"
     ]
    }
   ],
   "source": [
    "nlay = 1  # Number of layers\n",
    "Lx = 0.5 #m\n",
    "ncol = 50  # Number of columns\n",
    "nrow = 1  \n",
    "\n",
    "n=nxyz\n",
    "\n",
    "conc = [c_dbl_vect[i:i + n] for i in range(0, len(c_dbl_vect), n)]\n",
    "\n",
    "sconc = {}\n",
    "for e, c in enumerate(components):\n",
    "    sconc[c] = np.reshape(conc[e], (nlay, nrow, ncol))\n",
    "sconc\n",
    "\n",
    "for c in components:\n",
    "    print(sconc[c].dtype)\n",
    "\n"
   ]
  },
  {
   "cell_type": "code",
   "execution_count": 19,
   "metadata": {},
   "outputs": [
    {
     "name": "stdout",
     "output_type": "stream",
     "text": [
      "Setting model for component: H\n",
      "--- Building IMS package ---\n",
      "--- Building DIS package ---\n",
      "--- Building ADV package ---\n",
      "--- Building DSP package ---\n",
      "--- Building MST package ---\n",
      "building FMI and OC ...\n",
      "Setting model for component: O\n",
      "--- Building IMS package ---\n",
      "--- Building DIS package ---\n",
      "--- Building ADV package ---\n",
      "--- Building DSP package ---\n",
      "--- Building MST package ---\n",
      "building FMI and OC ...\n",
      "Setting model for component: Charge\n",
      "--- Building IMS package ---\n",
      "--- Building DIS package ---\n",
      "--- Building ADV package ---\n",
      "--- Building DSP package ---\n",
      "--- Building MST package ---\n",
      "building FMI and OC ...\n",
      "Setting model for component: C\n",
      "--- Building IMS package ---\n",
      "--- Building DIS package ---\n",
      "--- Building ADV package ---\n",
      "--- Building DSP package ---\n",
      "--- Building MST package ---\n",
      "building FMI and OC ...\n",
      "Setting model for component: Ca\n",
      "--- Building IMS package ---\n",
      "--- Building DIS package ---\n",
      "--- Building ADV package ---\n",
      "--- Building DSP package ---\n",
      "--- Building MST package ---\n",
      "building FMI and OC ...\n",
      "Setting model for component: Cl\n",
      "--- Building IMS package ---\n",
      "--- Building DIS package ---\n",
      "--- Building ADV package ---\n",
      "--- Building DSP package ---\n",
      "--- Building MST package ---\n",
      "building FMI and OC ...\n",
      "Setting model for component: Mg\n",
      "--- Building IMS package ---\n",
      "--- Building DIS package ---\n",
      "--- Building ADV package ---\n",
      "--- Building DSP package ---\n",
      "--- Building MST package ---\n",
      "building FMI and OC ...\n",
      "writing simulation...\n",
      "  writing simulation name file...\n",
      "  writing simulation tdis package...\n",
      "  writing solution package ims_-1...\n",
      "  writing solution package ims_0...\n",
      "  writing solution package ims_1...\n",
      "  writing solution package ims_2...\n",
      "  writing solution package ims_3...\n",
      "  writing solution package ims_4...\n",
      "  writing solution package ims_5...\n",
      "  writing solution package ims_6...\n",
      "  writing package H.gwfgwt...\n",
      "  writing package O.gwfgwt...\n",
      "  writing package Charge.gwfgwt...\n",
      "  writing package C.gwfgwt...\n",
      "  writing package Ca.gwfgwt...\n",
      "  writing package Cl.gwfgwt...\n",
      "  writing package Mg.gwfgwt...\n",
      "  writing model gwf...\n",
      "    writing model name file...\n",
      "    writing package dis...\n",
      "    writing package npf...\n",
      "    writing package ic...\n",
      "    writing package chd...\n",
      "    writing package wel...\n",
      "INFORMATION: maxbound in ('gwf6', 'wel', 'dimensions') changed to 1 based on size of stress_period_data\n",
      "    writing package oc...\n",
      "  writing model H...\n",
      "    writing model name file...\n",
      "    writing package dis...\n",
      "    writing package ic...\n",
      "    writing package ssm...\n",
      "    writing package adv...\n",
      "    writing package dsp...\n",
      "    writing package mst...\n",
      "    writing package oc...\n",
      "  writing model O...\n",
      "    writing model name file...\n",
      "    writing package dis...\n",
      "    writing package ic...\n",
      "    writing package ssm...\n",
      "    writing package adv...\n",
      "    writing package dsp...\n",
      "    writing package mst...\n",
      "    writing package oc...\n",
      "  writing model Charge...\n",
      "    writing model name file...\n",
      "    writing package dis...\n",
      "    writing package ic...\n",
      "    writing package ssm...\n",
      "    writing package adv...\n",
      "    writing package dsp...\n",
      "    writing package mst...\n",
      "    writing package oc...\n",
      "  writing model C...\n",
      "    writing model name file...\n",
      "    writing package dis...\n",
      "    writing package ic...\n",
      "    writing package ssm...\n",
      "    writing package adv...\n",
      "    writing package dsp...\n",
      "    writing package mst...\n",
      "    writing package oc...\n",
      "  writing model Ca...\n",
      "    writing model name file...\n",
      "    writing package dis...\n",
      "    writing package ic...\n",
      "    writing package ssm...\n",
      "    writing package adv...\n",
      "    writing package dsp...\n",
      "    writing package mst...\n",
      "    writing package oc...\n",
      "  writing model Cl...\n",
      "    writing model name file...\n",
      "    writing package dis...\n",
      "    writing package ic...\n",
      "    writing package ssm...\n",
      "    writing package adv...\n",
      "    writing package dsp...\n",
      "    writing package mst...\n",
      "    writing package oc...\n",
      "  writing model Mg...\n",
      "    writing model name file...\n",
      "    writing package dis...\n",
      "    writing package ic...\n",
      "    writing package ssm...\n",
      "    writing package adv...\n",
      "    writing package dsp...\n",
      "    writing package mst...\n",
      "    writing package oc...\n"
     ]
    }
   ],
   "source": [
    "sim = build_model(ws = 'model', sim_name = 'engesgaard1992', spls = components, sconc=sconc)\n",
    "\n",
    "# strt"
   ]
  },
  {
   "cell_type": "code",
   "execution_count": null,
   "metadata": {},
   "outputs": [],
   "source": []
  },
  {
   "cell_type": "markdown",
   "metadata": {},
   "source": [
    "# Engesgaard 1992 - PHT3D"
   ]
  },
  {
   "cell_type": "code",
   "execution_count": null,
   "metadata": {},
   "outputs": [],
   "source": [
    "wd = os.path.join('benchmark', 'pht3d')\n",
    "dx = 0.01\n",
    "simdf = pd.read_csv(os.path.join(wd, 'out.dat'), sep = '\\t', skipinitialspace=True, index_col=[0])\n",
    "simdf.drop(simdf.columns[len(simdf.columns)-1], axis=1, inplace=True)\n",
    "# simdf.columns = [col.lower() for col in simdf.columns]\n",
    "simdf.loc[:, 'x'] = simdf['cell'] * dx \n",
    "simdf.head()\n"
   ]
  },
  {
   "cell_type": "code",
   "execution_count": null,
   "metadata": {},
   "outputs": [],
   "source": [
    "fig, axs = plt.subplots(4,2, figsize = (6.3, 8.3))\n",
    "t = 0.24\n",
    "for var, ax in zip(simdf.iloc[:,1:-1 ].columns, axs.flatten()):\n",
    "    ax.plot(simdf.x.unique(), simdf.loc[t, var])\n",
    "    ax.set_xlabel('distance (m)')\n",
    "    if var not in ['ph', 'pe']:\n",
    "        ax.set_ylabel('C (mol L$^{-1}$)')\n",
    "    ax.set_title(f'{var}')\n",
    "\n",
    "fig.tight_layout()"
   ]
  },
  {
   "cell_type": "code",
   "execution_count": null,
   "metadata": {},
   "outputs": [],
   "source": [
    "simdf.loc[0.24, ['x','calcite']].pivot_table(index='x', columns = 'time_d').plot() "
   ]
  },
  {
   "cell_type": "code",
   "execution_count": null,
   "metadata": {},
   "outputs": [],
   "source": [
    "simdf.loc[0.24, ['x','mg']].pivot_table(index='x', columns = 'time_d').plot() "
   ]
  },
  {
   "cell_type": "code",
   "execution_count": null,
   "metadata": {},
   "outputs": [],
   "source": []
  }
 ],
 "metadata": {
  "kernelspec": {
   "display_name": "mf6rtm",
   "language": "python",
   "name": "python3"
  },
  "language_info": {
   "codemirror_mode": {
    "name": "ipython",
    "version": 3
   },
   "file_extension": ".py",
   "mimetype": "text/x-python",
   "name": "python",
   "nbconvert_exporter": "python",
   "pygments_lexer": "ipython3",
   "version": "3.10.14"
  }
 },
 "nbformat": 4,
 "nbformat_minor": 2
}
