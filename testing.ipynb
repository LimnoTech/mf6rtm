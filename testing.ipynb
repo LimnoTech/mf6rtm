{
 "cells": [
  {
   "cell_type": "markdown",
   "metadata": {},
   "source": [
    "# TESTS"
   ]
  },
  {
   "cell_type": "code",
   "execution_count": null,
   "metadata": {},
   "outputs": [],
   "source": [
    "from pathlib import Path\n",
    "import os\n",
    "from modflowapi.extensions import ApiSimulation\n",
    "from modflowapi import Callbacks\n",
    "from workflow import *\n",
    "from datetime import datetime\n",
    "\n",
    "DT_FMT = \"%Y-%m-%d %H:%M:%S\"\n"
   ]
  },
  {
   "cell_type": "code",
   "execution_count": null,
   "metadata": {},
   "outputs": [],
   "source": []
  },
  {
   "cell_type": "code",
   "execution_count": null,
   "metadata": {},
   "outputs": [],
   "source": [
    "\n"
   ]
  },
  {
   "cell_type": "code",
   "execution_count": null,
   "metadata": {},
   "outputs": [],
   "source": [
    "mf, mt = build_mt3dms_model(sim_name, ws = ws)\n",
    "# run_mt3dms(mt)"
   ]
  },
  {
   "cell_type": "code",
   "execution_count": null,
   "metadata": {},
   "outputs": [],
   "source": [
    "# from shutil import which\n",
    "# print(which('/mf2005'))\n",
    "# ?flopy.modflow.Modflow\n",
    "\n",
    "# m"
   ]
  },
  {
   "cell_type": "code",
   "execution_count": null,
   "metadata": {},
   "outputs": [],
   "source": [
    "sim_names = ['mt3dms', 'mf6gwt', 'mf6gwtapi']\n",
    "ws = os.path.join('benchmark')\n",
    "\n",
    "fig, axs = plt.subplots(3, 1, figsize=(6.3,10.2))\n",
    "\n",
    "for sim_name, ax in zip(sim_names, axs.flatten()):\n",
    "    print(sim_name)\n",
    "    if sim_name == 'mt3dms':\n",
    "        ucname = 'MT3D001'\n",
    "    else:\n",
    "        ucname = 'tracer'\n",
    "    ucn = flopy.utils.HeadFile(os.path.join(ws, sim_name, f\"{ucname}.UCN\"),text=f\"concentration\")\n",
    "    results = ucn.get_alldata()\n",
    "    times = ucn.get_times()\n",
    "    r_tf = results[-1, 0, 0,:]\n",
    "    ax.plot(r_tf)"
   ]
  },
  {
   "cell_type": "code",
   "execution_count": null,
   "metadata": {},
   "outputs": [],
   "source": [
    "sim_names = ['mt3dms', 'mf6gwt', 'mf6gwtapi']\n",
    "ws = os.path.join('benchmark')\n",
    "\n",
    "x = np.arange(0.005,0.505,0.01)\n",
    "\n",
    "fig, axs = plt.subplots(1, 1, figsize=(6.3,3.3))\n",
    "ax = axs\n",
    "for e, sim_name in enumerate(sim_names):\n",
    "    if sim_name == 'mt3dms':\n",
    "        ucname = 'MT3D001'\n",
    "    else:\n",
    "        ucname = 'tracer'\n",
    "    ucn = flopy.utils.HeadFile(os.path.join(ws, sim_name, f\"{ucname}.UCN\"),text=f\"concentration\")\n",
    "    results = ucn.get_alldata()\n",
    "    times = ucn.get_times()\n",
    "    r_tf = results[-1, 0, 0,:]\n",
    "    ax.plot(x, r_tf, label = sim_name, linewidth= 5-e*1.5, alpha = 0.6+e/5)\n",
    "    ax.legend()\n",
    "    ax.set_ylabel('Conc mol (m$^{-3}$)')\n",
    "    ax.set_xlabel('Distance (m)')\n",
    "fig.tight_layout()"
   ]
  },
  {
   "cell_type": "code",
   "execution_count": null,
   "metadata": {},
   "outputs": [],
   "source": []
  },
  {
   "cell_type": "code",
   "execution_count": null,
   "metadata": {},
   "outputs": [],
   "source": [
    "sim_name = 'mf6gwt'\n",
    "ws = os.path.join('benchmark')\n",
    "ucn = flopy.utils.HeadFile(os.path.join(ws,sim_name, f\"tracer.UCN\"),text=f\"concentration\")\n",
    "# ucn = flopy.utils.UcnFile(os.path.join(ws,sim_name, f\"MT3D001.UCN\"))\n",
    "results = ucn.get_alldata()\n",
    "results\n",
    "times = ucn.get_times()\n",
    "\n",
    "# fig, axs = plt.subplots(1, 1, figsize=(6.3,3.2))\n",
    "ax = axs[1]\n",
    "r_tf = results[-1, 0, 0,:]\n",
    "ax.plot(r_tf)\n"
   ]
  },
  {
   "cell_type": "code",
   "execution_count": null,
   "metadata": {},
   "outputs": [],
   "source": [
    "sim_name = 'mf6gwtapi'\n",
    "ws = os.path.join('benchmark')\n",
    "ucn = flopy.utils.HeadFile(os.path.join(ws,sim_name, f\"tracer.UCN\"),text=f\"concentration\")\n",
    "# ucn = flopy.utils.UcnFile(os.path.join(ws,sim_name, f\"MT3D001.UCN\"))\n",
    "results = ucn.get_alldata()\n",
    "results\n",
    "times = ucn.get_times()\n",
    "\n",
    "fig, axs = plt.subplots(1, 1, figsize=(6.3,3.2))\n",
    "ax = axs\n",
    "r_tf = results[-1, 0, 0,:]\n",
    "ax.plot(r_tf)"
   ]
  },
  {
   "cell_type": "code",
   "execution_count": null,
   "metadata": {},
   "outputs": [],
   "source": [
    "sim_name = 'engesgaard1992'\n",
    "initsol_components, sconc_init = init_solution(init_file = 'initsol.dat')\n",
    "\n",
    "q = 0.259\n",
    "wel_rec = wel_array(q, sconc_init, aux = True)\n",
    "components, phreeqc_rm, sconc = initialize_phreeqcrm(sim_name)    \n",
    "\n",
    "\n",
    "sim = build_model(ws = 'model', sim_name = sim_name, spls = components, \n",
    "                    sconc=sconc, wel_rec=wel_rec, init_comp=sconc_init)\n",
    "\n",
    "\n",
    "# run_model(sim)\n",
    "# plot_heads(sim)\n",
    "# plot_concentrations(sim)\n",
    "\n",
    "sim_ws = Path(\"model/engesgaard1992/\")\n",
    "dll = Path(\"bin/win/libmf6\")\n",
    "resultsapi = mf6rtm_api_test(dll, sim_ws, components=components, phreeqc_rm=phreeqc_rm, reaction = False)"
   ]
  },
  {
   "cell_type": "code",
   "execution_count": null,
   "metadata": {},
   "outputs": [],
   "source": [
    "time = np.arange(0,0.24, 0.01)\n",
    "\n",
    "resultsapi = np.array(resultsapi)\n",
    "\n",
    "resultsapi.shape\n",
    "\n",
    "resultsapi[:,-1,-1]\n",
    "fig, axs = plt.subplots(1, 1, figsize=(6.3, 3.2))\n",
    "ax = axs\n",
    "\n",
    "ax.plot(time, resultsapi[:,-1,-1])"
   ]
  },
  {
   "cell_type": "code",
   "execution_count": null,
   "metadata": {},
   "outputs": [],
   "source": [
    "sim = build_model(ws = 'model', sim_name = sim_name, spls = components, \n",
    "                    sconc=sconc, wel_rec=wel_rec, init_comp=sconc_init)\n",
    "\n",
    "\n",
    "run_model(sim)\n"
   ]
  },
  {
   "cell_type": "code",
   "execution_count": null,
   "metadata": {},
   "outputs": [],
   "source": [
    "model_name = 'Mg'\n",
    "ucn = flopy.utils.HeadFile(os.path.join(\"model\",sim.name,f\"{model_name}.ucn\"),text=\"concentration\")\n",
    "results = ucn.get_alldata()\n",
    "fig, axs = plt.subplots(1, 1, figsize=(6.3, 3.2))\n",
    "ax = axs\n",
    "\n",
    "ax.plot(time, results[:,0,0,-2])\n",
    "# ax.set_ylim(0,200)"
   ]
  },
  {
   "cell_type": "code",
   "execution_count": null,
   "metadata": {},
   "outputs": [],
   "source": [
    "results[:,0,0,0]"
   ]
  },
  {
   "cell_type": "code",
   "execution_count": null,
   "metadata": {},
   "outputs": [],
   "source": [
    "# sim_ws = os.path.join('model', '1dtest', 'chloride')\n",
    "sim_ws = Path(\"model/engesgaard1992/\")\n",
    "dll = Path(\"bin/win/libmf6\")"
   ]
  },
  {
   "cell_type": "code",
   "execution_count": null,
   "metadata": {},
   "outputs": [],
   "source": [
    "def try_get_value(address, mf6):\n",
    "    try:\n",
    "        res = mf6.get_value(address)\n",
    "        return res\n",
    "    except:\n",
    "        res = 'failed'\n",
    "        return res"
   ]
  },
  {
   "cell_type": "code",
   "execution_count": null,
   "metadata": {},
   "outputs": [],
   "source": [
    "mf6 = modflowapi.ModflowApi(dll, working_directory = sim_ws)\n",
    "mf6.initialize()\n",
    "# current_time = mf6.get_current_time()\n",
    "# end_time = mf6.get_end_time()\n",
    "all_vars = mf6.get_input_var_names() \n",
    "mf6.get_subcomponent_count()\n",
    "# var_add = \n",
    "\n",
    "# try:\n",
    "#     mf6.finalize()\n",
    "#     success=True\n",
    "# except:\n",
    "#     raise RuntimeError"
   ]
  },
  {
   "cell_type": "code",
   "execution_count": null,
   "metadata": {},
   "outputs": [],
   "source": [
    "sim = ApiSimulation.load(mf6)\n",
    "len(ApiSimulation.load(mf6).solutions)"
   ]
  },
  {
   "cell_type": "code",
   "execution_count": null,
   "metadata": {},
   "outputs": [],
   "source": [
    "model = sim.get_model(sim.models[1].name)\n",
    "model.solution_id\n"
   ]
  },
  {
   "cell_type": "code",
   "execution_count": null,
   "metadata": {},
   "outputs": [],
   "source": [
    "# current_time, end_time\n",
    "\n",
    "# all_vars\n",
    "df_vars = pd.DataFrame(all_vars)[0].str.split('/', expand=True)\n",
    "df_vars['addr'] = all_vars\n",
    "# df_vars.to_csv('vars.csv')"
   ]
  },
  {
   "cell_type": "code",
   "execution_count": null,
   "metadata": {},
   "outputs": [],
   "source": [
    "welaux = mf6.get_value(mf6.get_var_address(\"AUXVAR\", 'GWF/WEL'))\n",
    "welaux[0][-1] = 0\n",
    "mf6.set_value('GWF/WEL/AUXVAR', welaux)\n",
    "# mf6.get_value(mf6.get_var_address(\"x\", 'SODIUM')) = val"
   ]
  },
  {
   "cell_type": "code",
   "execution_count": null,
   "metadata": {},
   "outputs": [],
   "source": [
    "mf6.get_value(mf6.get_var_address(\"AUXVAR\", 'GWF/WEL'))\n",
    "# mf6.finalize()"
   ]
  },
  {
   "cell_type": "code",
   "execution_count": null,
   "metadata": {},
   "outputs": [],
   "source": [
    "welaux = mf6.get_value(mf6.get_var_address(\"AUXVAR\", 'GWF/WEL'))\n",
    "welaux[0][-1] = 100\n",
    "# mf6.set_value(\"AUXVAR\", 'GWF/WEL')\n",
    "mf6.set_value('GWF/WEL/AUXVAR', welaux)"
   ]
  },
  {
   "cell_type": "code",
   "execution_count": null,
   "metadata": {},
   "outputs": [],
   "source": [
    "\n",
    "mf6 = modflowapi.ModflowApi(dll, working_directory = sim_ws)\n",
    "mf6.initialize()\n",
    "\n",
    "sim_start = datetime.now()\n",
    "print(\"...starting transport solution at {0}\".format(sim_start.strftime(DT_FMT)))\n",
    "# reset the node tracking containers\n",
    "\n",
    "# get the current sim time\n",
    "ctime = mf6.get_current_time()\n",
    "ctimes = [0.0]\n",
    "# get the ending sim time\n",
    "etime = mf6.get_end_time()\n",
    "# max number of solution iterations\n",
    "max_iter = mf6.get_value(mf6.get_var_address(\"MXITER\", \"SLN_1\"))\n",
    "num_fails = 0\n",
    "# let's do it!\n",
    "while ctime < etime:\n",
    "    sol_start = datetime.now()\n",
    "    # length of the current solve time\n",
    "    dt = mf6.get_time_step()\n",
    "    # prep the current time step\n",
    "    mf6.prepare_time_step(dt)\n",
    "    kiter = 0\n",
    "    # prep to solve\n",
    "    mf6.prepare_solve(1)\n",
    "    # the one-based stress period number\n",
    "    stress_period = mf6.get_value(mf6.get_var_address(\"KPER\", \"TDIS\"))[0]\n",
    "    time_step = mf6.get_value(mf6.get_var_address(\"KSTP\", \"TDIS\"))[0]\n",
    "\n",
    "    # solve until converged\n",
    "    while kiter < max_iter:\n",
    "        # apply whatever change we want here\n",
    "        # val = mf6.get_value(mf6.get_var_address(\"x\", 'SODIUM'))\n",
    "        # val += 1\n",
    "        convg = mf6.solve(1)\n",
    "        if convg:\n",
    "            td = (datetime.now() - sol_start).total_seconds() / 60.0\n",
    "            print(\"transport stress period,time step {0},{1} converged with {2} iters, took {3:10.5G} mins\".format(stress_period, time_step, kiter,td))\n",
    "            break\n",
    "        kiter += 1\n",
    "\n",
    "    if not convg:\n",
    "        td = (datetime.now() - sol_start).total_seconds() / 60.0\n",
    "        print(\"transport stress period,time step {0},{1} did not converged, {2} iters, took {3:10.5G} mins\".format(\n",
    "            stress_period, time_step, kiter, td))\n",
    "        num_fails += 1\n",
    "mf6.finalize()\n"
   ]
  },
  {
   "cell_type": "code",
   "execution_count": null,
   "metadata": {},
   "outputs": [],
   "source": []
  },
  {
   "cell_type": "code",
   "execution_count": null,
   "metadata": {},
   "outputs": [],
   "source": [
    "def callback_function(sim, callback_step):\n",
    "    \"\"\"\n",
    "    A demonstration function that dynamically adjusts recharge\n",
    "    and pumping in a modflow-6 model through the MODFLOW-API\n",
    "\n",
    "    Parameters\n",
    "    ----------\n",
    "    sim : modflowapi.ApiSimulation\n",
    "        A simulation object for the solution group that is\n",
    "        currently being solved\n",
    "    step : enumeration\n",
    "        modflowapi.Callbacks enumeration object that indicates\n",
    "        the part of the solution modflow is currently in.\n",
    "    \"\"\"\n",
    "    ml = sim.get_model()\n",
    "    if callback_step == Callbacks.initialize:\n",
    "        print(sim.models)\n",
    "\n",
    "    # if callback_step == Callbacks.stress_period_start:\n",
    "    #     # adjust recharge for stress periods 7 through 12\n",
    "    #     if sim.kper <= 6:\n",
    "    #         rcha = ml.rcha_0\n",
    "    #         spd = rcha.stress_period_data\n",
    "    #         print(f\"updating recharge: stress_period={ml.kper}\")\n",
    "    #         spd[\"recharge\"] += 0.40 * sim.kper\n",
    "\n",
    "    if callback_step == Callbacks.timestep_start:\n",
    "        print(\n",
    "            f\"Testing: stress_period={ml.kper}, timestep={ml.kstp}\", ml.kstp\n",
    "        )\n",
    "        if ml.kstp != 2:\n",
    "            ml.wel.stress_period_data[\"q\"] *= 1/ml.kstp\n",
    "            # ml.wel.stress_period_data['CONCENTRATION'] = 100000000\n",
    "            # print('..........................', ml.wel.stress_period_data['CONCENTRATION'])\n",
    "        else:\n",
    "            ml.wel.stress_period_data['q'] = 0\n",
    "        # if ml.kstp ==2:\n",
    "            \n",
    "    if callback_step == Callbacks.iteration_start:\n",
    "        # we can implement complex solutions to boundary conditions here!\n",
    "        pass\n",
    "    # return wel\n",
    "\n",
    "# modflowapi.run_simulation(dll, sim_ws, callback_function, verbose=True)\n"
   ]
  },
  {
   "cell_type": "code",
   "execution_count": null,
   "metadata": {},
   "outputs": [],
   "source": [
    "ucn = flopy.utils.HeadFile(os.path.join(\"model\",'engesgaard1992',\"sodium.ucn\"),text=\"concentration\")\n",
    "carr = ucn.get_alldata()"
   ]
  },
  {
   "cell_type": "code",
   "execution_count": null,
   "metadata": {},
   "outputs": [],
   "source": [
    "# carr[0][0]\n",
    "carr[-1,0,0,:]"
   ]
  },
  {
   "cell_type": "markdown",
   "metadata": {},
   "source": [
    "# PHREEQCRM TEST"
   ]
  },
  {
   "cell_type": "code",
   "execution_count": null,
   "metadata": {},
   "outputs": [],
   "source": [
    "import phreeqcrm\n",
    "import numpy as np\n",
    "import sys\n",
    "import pandas as pd\n",
    "from pathlib import Path\n",
    "import os\n",
    "import modflowapi\n",
    "from modflowapi import Callbacks\n",
    "from workflow import *\n",
    "from datetime import datetime\n"
   ]
  },
  {
   "cell_type": "code",
   "execution_count": null,
   "metadata": {},
   "outputs": [],
   "source": [
    "print_selected_output_on = True\n",
    "print_selected_output_on"
   ]
  },
  {
   "cell_type": "code",
   "execution_count": null,
   "metadata": {},
   "outputs": [],
   "source": [
    "nxyz = 50\n",
    "nthreads = 1\n",
    "phreeqc_rm = phreeqcrm.PhreeqcRM(nxyz, nthreads)\n",
    "\n",
    "status = phreeqc_rm.SetComponentH2O(False)\n",
    "phreeqc_rm.UseSolutionDensityVolume(False)\n",
    "status = phreeqc_rm.SetFilePrefix(\"engesgaard1992\")\n",
    "phreeqc_rm.OpenFiles()\n",
    "poro = np.full((nxyz), .1)\n",
    "status = phreeqc_rm.SetPorosity(poro)\n",
    "\n",
    "print_chemistry_mask = np.full((nxyz), 1)\n",
    "status = phreeqc_rm.SetPrintChemistryMask(print_chemistry_mask)\n",
    "nchem = phreeqc_rm.GetChemistryCellCount()\n",
    "nchem\n",
    "\n",
    "# init_file = 'phinp.dat'\n",
    "init_file = 'advect.pqi'\n",
    "\n",
    "# Load database\n",
    "databasews = os.path.join(\"database\", \"pht3d_datab.dat\")\n",
    "status = phreeqc_rm.LoadDatabase(databasews)\n",
    "status = phreeqc_rm.RunFile(True, True, True, init_file)# Clear contents of workers and utility\n",
    "input = \"DELETE; -all\"\n",
    "status = phreeqc_rm.RunString(True, False, True, input)\n",
    "\n",
    "ncomps = phreeqc_rm.FindComponents()\n",
    "ncomps\n",
    "\n",
    "components = phreeqc_rm.GetComponents()\n",
    "components\n",
    "\n",
    "for comp in components:\n",
    "    phreeqc_rm.OutputMessage(comp)\n",
    "phreeqc_rm.OutputMessage(\"\\n\")"
   ]
  },
  {
   "cell_type": "code",
   "execution_count": null,
   "metadata": {},
   "outputs": [],
   "source": []
  },
  {
   "cell_type": "code",
   "execution_count": null,
   "metadata": {},
   "outputs": [],
   "source": []
  },
  {
   "cell_type": "code",
   "execution_count": null,
   "metadata": {},
   "outputs": [],
   "source": []
  },
  {
   "cell_type": "code",
   "execution_count": null,
   "metadata": {},
   "outputs": [],
   "source": []
  },
  {
   "cell_type": "code",
   "execution_count": null,
   "metadata": {},
   "outputs": [],
   "source": [
    "\n",
    "\n",
    "for comp in components:\n",
    "    phreeqc_rm.OutputMessage(comp)\n",
    "phreeqc_rm.OutputMessage(\"\\n\")\n",
    "\n",
    "ic1 = [-1] * nxyz * 7 \n",
    "ic1\n",
    "for i in range(nxyz):\n",
    "    ic1[i]            =  1  # Solution 1\n",
    "    ic1[nxyz + i]     = 1  # Equilibrium phases none\n",
    "    ic1[2 * nxyz + i] =  -1  # Exchange 1\n",
    "    ic1[3 * nxyz + i] = -1  # Surface none\n",
    "    ic1[4 * nxyz + i] = -1  # Gas phase none\n",
    "    ic1[5 * nxyz + i] = -1  # Solid solutions none\n",
    "    ic1[6 * nxyz + i] = -1  # Kinetics none\n",
    "\n",
    "status = phreeqc_rm.InitialPhreeqc2Module(ic1)\n",
    "\n",
    "# Initial equilibration of cells\n",
    "time = 0.0\n",
    "time_step = 0.0\n",
    "status = phreeqc_rm.SetTime(time)\n",
    "status = phreeqc_rm.SetTimeStep(time_step)\n",
    "status = phreeqc_rm.RunCells()\n"
   ]
  },
  {
   "cell_type": "code",
   "execution_count": null,
   "metadata": {},
   "outputs": [],
   "source": [
    "status\n",
    "\n",
    "c_dbl_vect = phreeqc_rm.GetConcentrations()\n"
   ]
  },
  {
   "cell_type": "code",
   "execution_count": null,
   "metadata": {},
   "outputs": [],
   "source": [
    "#ncomp * ncell\n",
    "\n",
    "ncomps*nxyz, components\n"
   ]
  },
  {
   "cell_type": "code",
   "execution_count": null,
   "metadata": {},
   "outputs": [],
   "source": [
    "phreeqc_rm.GetSpeciesNames()\n",
    "phreeqc_rm.GetSpeciesConcentrations()"
   ]
  },
  {
   "cell_type": "code",
   "execution_count": null,
   "metadata": {},
   "outputs": [],
   "source": [
    "phreeqc_rm.GetSpeciesNames()\n"
   ]
  },
  {
   "cell_type": "code",
   "execution_count": null,
   "metadata": {},
   "outputs": [],
   "source": []
  },
  {
   "cell_type": "code",
   "execution_count": null,
   "metadata": {},
   "outputs": [],
   "source": [
    "phreeqc_rm.GetDatabaseFileName()\n",
    "components\n",
    "phreeqc_rm.GetEquilibriumPhases()\n",
    "# phreeqc_rm.SetConcentrations()"
   ]
  },
  {
   "cell_type": "code",
   "execution_count": null,
   "metadata": {},
   "outputs": [],
   "source": [
    "components"
   ]
  },
  {
   "cell_type": "code",
   "execution_count": null,
   "metadata": {},
   "outputs": [],
   "source": [
    "# status\n",
    "c_dbl_vect = phreeqc_rm.GetConcentrations()"
   ]
  },
  {
   "cell_type": "code",
   "execution_count": null,
   "metadata": {},
   "outputs": [],
   "source": [
    "nlay = 1  # Number of layers\n",
    "Lx = 0.5 #m\n",
    "ncol = 50  # Number of columns\n",
    "nrow = 1  \n",
    "\n",
    "n=nxyz\n",
    "\n",
    "conc = [c_dbl_vect[i:i + n] for i in range(0, len(c_dbl_vect), n)]\n",
    "\n",
    "sconc = {}\n",
    "for e, c in enumerate(components):\n",
    "    sconc[c] = np.reshape(conc[e], (nlay, nrow, ncol))\n",
    "sconc\n",
    "\n",
    "for c in components:\n",
    "    print(sconc[c].dtype)\n",
    "# sconc\n"
   ]
  },
  {
   "cell_type": "code",
   "execution_count": null,
   "metadata": {},
   "outputs": [],
   "source": [
    "ic1 = [-1] * 50 * 7 \n",
    "len(ic1)"
   ]
  },
  {
   "cell_type": "code",
   "execution_count": null,
   "metadata": {},
   "outputs": [],
   "source": [
    "# sim = build_model(ws = 'model', sim_name = 'engesgaard1992', spls = components, sconc=sconc)\n",
    "\n",
    "# strt"
   ]
  },
  {
   "cell_type": "code",
   "execution_count": null,
   "metadata": {},
   "outputs": [],
   "source": [
    "components"
   ]
  },
  {
   "cell_type": "code",
   "execution_count": null,
   "metadata": {},
   "outputs": [],
   "source": [
    "def flatten_list(xss):\n",
    "    return [x for xs in xss for x in xs]\n"
   ]
  },
  {
   "cell_type": "code",
   "execution_count": null,
   "metadata": {},
   "outputs": [],
   "source": [
    "# sim_ws = os.path.join('model', '1dtest', 'chloride')\n",
    "sim_ws = Path(\"model/engesgaard1992/\")\n",
    "dll = Path(\"bin/win/libmf6\")\n",
    "\n",
    "mf6 = modflowapi.ModflowApi(dll, working_directory = sim_ws)\n",
    "mf6.initialize()\n",
    "\n",
    "\n",
    "sim_start = datetime.now()\n",
    "print(\"...starting transport solution at {0}\".format(sim_start.strftime(DT_FMT)))\n",
    "# reset the node tracking containers\n",
    "\n",
    "# get the current sim time\n",
    "ctime = mf6.get_current_time()\n",
    "ctimes = [0.0]\n",
    "# get the ending sim time\n",
    "etime = mf6.get_end_time()\n",
    "# max number of solution iterations\n",
    "max_iter = mf6.get_value(mf6.get_var_address(\"MXITER\", \"SLN_2\"))\n",
    "num_fails = 0\n",
    "# let's do it!\n",
    "while ctime < etime:\n",
    "    sol_start = datetime.now()\n",
    "    # length of the current solve time\n",
    "    dt = mf6.get_time_step()\n",
    "    # prep the current time step\n",
    "    mf6.prepare_time_step(dt)\n",
    "    kiter = 0\n",
    "    # prep to solve\n",
    "    mf6.prepare_solve(1)\n",
    "    # the one-based stress period number\n",
    "    stress_period = mf6.get_value(mf6.get_var_address(\"KPER\", \"TDIS\"))[0]\n",
    "    time_step = mf6.get_value(mf6.get_var_address(\"KSTP\", \"TDIS\"))[0]\n",
    "\n",
    "    # array to store transported components\n",
    "    print(f'\\nGetting concentration arrays --- time step: {time_step} --- elapsed time: {ctime}')\n",
    "    mf6_conc_array = [mf6.get_value(mf6.get_var_address(\"X\", f'{c.upper()}')) for c in components]\n",
    "    c_dbl_vect = flatten_list(mf6_conc_array)\n",
    "\n",
    "    phreeqc_rm.SetScreenOn(True)\n",
    "    print_selected_output_on = (ctime == etime)\n",
    "    print_chemistry_on = (ctime == etime)\n",
    "    status = phreeqc_rm.SetSelectedOutputOn(True)\n",
    "    status = phreeqc_rm.SetPrintChemistryOn(print_chemistry_on, False, False) \n",
    "\n",
    "    status = phreeqc_rm.SetConcentrations(c_dbl_vect)  \n",
    "    message = 'Beginning reaction calculation               {} days\\n'.format(ctime)\n",
    "    phreeqc_rm.LogMessage(message)\n",
    "    phreeqc_rm.ScreenMessage(message)\n",
    "    status = phreeqc_rm.RunCells()\n",
    "\n",
    "    # Transfer data from PhreeqcRM for transport\n",
    "    #status = phreeqc_rm.GetConcentrations(c_dbl_vect)\n",
    "    c_dbl_vect = phreeqc_rm.GetConcentrations()\n",
    "\n",
    "    conc = [c_dbl_vect[i:i + n] for i in range(0, len(c_dbl_vect), n)]\n",
    "    sconc = {}\n",
    "    for e, c in enumerate(components):\n",
    "        sconc[c] = np.reshape(conc[e], (nlay, nrow, ncol))\n",
    "\n",
    "    # solve transport until converged\n",
    "    for c in components:\n",
    "        print(f'\\nSolving for component: {c}')\n",
    "        while kiter < max_iter:\n",
    "            # print(list(mf6_conc_array))\n",
    "            if c == 'mg':\n",
    "                mf6.set_value(f'{c.upper()}/X', sconc[c]+100)\n",
    "            else:\n",
    "                mf6.set_value(f'{c.upper()}/X', sconc[c])\n",
    "            convg = mf6.solve(1)\n",
    "            if convg:\n",
    "                td = (datetime.now() - sol_start).total_seconds() / 60.0\n",
    "                print(\"Transport stress period: {0} --- time step: {1} --- converged with {2} iters --- took {3:10.5G} mins\".format(stress_period, time_step, kiter,td))\n",
    "                break\n",
    "            kiter += 1\n",
    "\n",
    "    if not convg:\n",
    "        td = (datetime.now() - sol_start).total_seconds() / 60.0\n",
    "        print(\"transport stress period {0}, time step {1}, did not converged, {2} iters, took {3:10.5G} mins\".format(\n",
    "            stress_period, time_step, kiter, td))\n",
    "        num_fails += 1\n",
    "    try:\n",
    "        mf6.finalize_solve(1)\n",
    "    except:\n",
    "        pass\n",
    "    mf6.finalize_time_step()\n",
    "    # update the current time tracking\n",
    "    ctime = mf6.get_current_time()\n",
    "# sim = flopy.mf6.MFSimulation.load('engesgaard1992', 'mf6', 'mf6' , os.path.join('model', 'engesgaard1992'))\n",
    "# plot_concentrations(sim)\n",
    "sim_end = datetime.now()\n",
    "td = (sim_end - sim_start).total_seconds() / 60.0\n",
    "print(\"\\n...transport solution finished at {0}, took: {1:10.5G} mins\".format(sim_end.strftime(DT_FMT),td))\n",
    "if num_fails > 0:\n",
    "    print(\"...failed to converge {0} times\".format(num_fails))\n",
    "print(\"\\n\")\n",
    "status = phreeqc_rm.CloseFiles()\n",
    "status = phreeqc_rm.MpiWorkerBreak()\n",
    "mf6.finalize()"
   ]
  },
  {
   "cell_type": "code",
   "execution_count": null,
   "metadata": {},
   "outputs": [],
   "source": [
    "[c_dbl_vect[i:i + n] for i in range(0, len(c_dbl_vect), n)]\n",
    "sconc"
   ]
  },
  {
   "cell_type": "code",
   "execution_count": null,
   "metadata": {},
   "outputs": [],
   "source": [
    "sim = flopy.mf6.MFSimulation.load('engesgaard1992', 'mf6', 'mf6', sim_ws, verbosity_level=0)\n",
    "\n",
    "sim.model_names\n",
    "plot_concentrations(sim)"
   ]
  },
  {
   "cell_type": "code",
   "execution_count": null,
   "metadata": {},
   "outputs": [],
   "source": []
  },
  {
   "cell_type": "markdown",
   "metadata": {},
   "source": [
    "# Engesgaard 1992 - PHT3D"
   ]
  },
  {
   "cell_type": "code",
   "execution_count": null,
   "metadata": {},
   "outputs": [],
   "source": [
    "from pathlib import Path\n",
    "import os\n",
    "from modflowapi.extensions import ApiSimulation\n",
    "from modflowapi import Callbacks\n",
    "from workflow import *\n",
    "from datetime import datetime\n",
    "\n",
    "DT_FMT = \"%Y-%m-%d %H:%M:%S\"\n"
   ]
  },
  {
   "cell_type": "code",
   "execution_count": null,
   "metadata": {},
   "outputs": [],
   "source": [
    "wd = os.path.join('benchmark', 'pht3d')\n",
    "dx = 0.01\n",
    "simdf = pd.read_csv(os.path.join(wd, 'out.dat'), sep = '\\t', skipinitialspace=True, index_col=[0])\n",
    "simdf.drop(simdf.columns[len(simdf.columns)-1], axis=1, inplace=True)\n",
    "# simdf.columns = [col.lower() for col in simdf.columns]\n",
    "simdf.loc[:, 'x'] = simdf['cell'] * dx \n",
    "display(simdf)\n",
    "\n",
    "Lx = 0.5 #m\n",
    "ncol = 50  # Number of columns\n",
    "delr = Lx/ncol\n",
    "\n",
    "simapi = pd.read_csv(os.path.join( 'sout.csv'), sep = ',', skipinitialspace=True, index_col=[0])\n",
    "simapi.loc[:, 'x'] = (simapi['cell'] + 1)*delr\n",
    "\n",
    "simapi['time_d'] = list(simdf.index)*1\n",
    "simapi.index = simapi['time_d'] \n",
    "simapi"
   ]
  },
  {
   "cell_type": "code",
   "execution_count": null,
   "metadata": {},
   "outputs": [],
   "source": [
    "# list(simdf.index)*10"
   ]
  },
  {
   "cell_type": "code",
   "execution_count": null,
   "metadata": {},
   "outputs": [],
   "source": [
    "fig, axs = plt.subplots(4,2, figsize = (10, 10))\n",
    "t = 0.24\n",
    "for var, ax in zip(simdf.iloc[:,1:-1 ].columns, axs.flatten()):\n",
    "    # ax.plot(simdf.x.unique(), simdf.loc[t, var], label = 'Engesgaard1992 - PHT3D')\n",
    "    ax.plot(simapi.x.unique(), simapi.loc[t, var], label = 'Engesgaard1992 - MF6RTM')\n",
    "    ax.set_xlabel('distance (m)')\n",
    "    if var not in ['ph', 'pe']:\n",
    "        ax.set_ylabel('C (mol L$^{-1}$)')\n",
    "    ax.set_title(f'{var}')\n",
    "    ax.legend()\n",
    "fig.tight_layout()"
   ]
  },
  {
   "cell_type": "code",
   "execution_count": null,
   "metadata": {},
   "outputs": [],
   "source": [
    "simdf.loc[0.24, ['x','Calcite']].pivot_table(index='x', columns = 'time_d').plot();\n",
    "simdf.loc[0.24, ['x','Mg']].pivot_table(index='x', columns = 'time_d').plot() "
   ]
  },
  {
   "cell_type": "code",
   "execution_count": null,
   "metadata": {},
   "outputs": [],
   "source": [
    "# C_4 = loadtxt('PHT3D001.ACN')\n",
    "# Ca = loadtxt('PHT3D002.ACN')\n",
    "# Cl = loadtxt('PHT3D003.ACN')\n",
    "# Mg = loadtxt('PHT3D004.ACN')\n",
    "# pH = loadtxt('PHT3D005.ACN')\n",
    "# pe = loadtxt('PHT3D006.ACN')\n",
    "\n"
   ]
  },
  {
   "cell_type": "code",
   "execution_count": null,
   "metadata": {},
   "outputs": [],
   "source": [
    "ucn_dic = {'c':1,'ca':2, 'cl':3, 'mg':4, 'h':5, 'charge':6}\n",
    "\n",
    "comps = list(ucn_dic.keys())\n",
    "# comps.extend(['h2o'])\n",
    "\n",
    "# comps = [ 'h', 'c']\n",
    "\n",
    "for i in [0, 10, 15, 23]:\n",
    "    sim_ws = os.path.join('model', 'engesgaard1992api')\n",
    "    wd = os.path.join('benchmark', 'pht3d')\n",
    "\n",
    "    sim = flopy.mf6.MFSimulation.load('engesgaard1992api', 'mf6', 'mf6', sim_ws, verbosity_level=0)\n",
    "    nrow = len(comps)\n",
    "    fig, axs = plt.subplots(nrow, 1, figsize=(3.3,8.2))\n",
    "\n",
    "    for c, ax in zip(comps, axs.flatten()):\n",
    "        gwf = sim.get_model(c)\n",
    "\n",
    "        ucn = flopy.utils.HeadFile(os.path.join(\"model\",sim.name,f\"{c}.ucn\"),text=\"concentration\")\n",
    "        results = ucn.get_alldata()\n",
    "        times = gwf.output.concentration().get_times()\n",
    "\n",
    "        ucn_pht = flopy.utils.HeadFile(os.path.join(wd,f\"PHT3D00{ucn_dic[c]}.ucn\"),text=\"concentration\")\n",
    "        results_pht = ucn_pht.get_alldata()\n",
    "        times_pht = ucn_pht.get_times()\n",
    "        \n",
    "        # ax.plot(np.log(concentration_m3_to_l(results[i, 0, 0,:])), label = 'mf6api')\n",
    "        ax.set_title(f\"{c}\")\n",
    "        # ax.plot(times, concentration_m3_to_l(results[:, 0, 0,-1]), label = 'mf6api')\n",
    "        # ax.plot(times_pht, results_pht[:, 0, 0,25], label = 'pht3d')\n",
    "        ax.plot(results_pht[i, 0, 0,:], label = 'pht3d')\n",
    "        if c in ['h3', 'charge']:\n",
    "            # ax.plot(np.log(results_pht[i, 0, 0,:]), label = 'pht3d')\n",
    "            ax.plot(np.log(concentration_m3_to_l(results[i, 0, 0,:])), label = 'mf6api')\n",
    "            # print(np.log(results_pht[i, 0, 0,:]))\n",
    "        else:\n",
    "            ax.plot(concentration_m3_to_l(results[i, 0, 0,:]), label = 'mf6api')\n",
    "        ax.set_ylabel('Conc (mol/L)')\n",
    "        ax.set_xlabel('Time')\n",
    "        ax.legend()\n",
    "    fig.tight_layout()\n",
    "    plt.show()"
   ]
  },
  {
   "cell_type": "code",
   "execution_count": null,
   "metadata": {},
   "outputs": [],
   "source": [
    "comps"
   ]
  },
  {
   "cell_type": "markdown",
   "metadata": {},
   "source": [
    "# Engesgaard 1992 - MF6RTM"
   ]
  },
  {
   "cell_type": "code",
   "execution_count": null,
   "metadata": {},
   "outputs": [],
   "source": [
    "sim_ws = os.path.join('model', 'engesgaard1992')\n",
    "sim = flopy.mf6.MFSimulation.load('engesgaard1992', 'mf6', 'mf6', sim_ws, verbosity_level=0)\n",
    "\n",
    "comp = sim.model_names[1:]\n",
    "comp = [c.capitalize() for c in comp if c !='o']\n",
    "comp\n",
    "\n",
    "dist_arr = np.arange(0, 50*dx, dx)\n",
    "gwf = sim.get_model('gwf')\n",
    "\n",
    "fig, axs = plt.subplots(2, 3, figsize=(6.3,3.2))\n",
    "for ax, c in zip(axs.flatten(), comp):\n",
    "        ucn = flopy.utils.HeadFile(os.path.join(\"model\",sim.name,f\"{c}.ucn\"),text=f\"concentration\")\n",
    "        results = ucn.get_alldata()\n",
    "        # results = gwf.output.concentration().get_alldata()\n",
    "        times = gwf.output.concentration().get_times()\n",
    "\n",
    "        tf = times[-1]\n",
    "        r_tf = results[0, 0, 0,:]\n",
    "        ax.plot(dist_arr, r_tf)\n",
    "\n",
    "fig.tight_layout()"
   ]
  },
  {
   "cell_type": "code",
   "execution_count": null,
   "metadata": {},
   "outputs": [],
   "source": [
    "comp"
   ]
  },
  {
   "cell_type": "code",
   "execution_count": null,
   "metadata": {},
   "outputs": [],
   "source": [
    "dist_arr = np.arange(0, 50*dx, dx)\n",
    "plt.plot(dist_arr, results[-1, 0, 0,:])\n",
    "len(dist_arr)"
   ]
  }
 ],
 "metadata": {
  "kernelspec": {
   "display_name": "mf6rtm",
   "language": "python",
   "name": "python3"
  },
  "language_info": {
   "codemirror_mode": {
    "name": "ipython",
    "version": 3
   },
   "file_extension": ".py",
   "mimetype": "text/x-python",
   "name": "python",
   "nbconvert_exporter": "python",
   "pygments_lexer": "ipython3",
   "version": "3.10.14"
  }
 },
 "nbformat": 4,
 "nbformat_minor": 2
}
