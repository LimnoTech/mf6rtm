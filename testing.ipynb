{
 "cells": [
  {
   "cell_type": "markdown",
   "metadata": {},
   "source": [
    "# TESTS"
   ]
  },
  {
   "cell_type": "code",
   "execution_count": 16,
   "metadata": {},
   "outputs": [],
   "source": [
    "from pathlib import Path\n",
    "import os\n",
    "import modflowapi\n",
    "from modflowapi import Callbacks\n",
    "from workflow import *\n",
    "from datetime import datetime\n",
    "\n",
    "DT_FMT = \"%Y-%m-%d %H:%M:%S\"\n"
   ]
  },
  {
   "cell_type": "code",
   "execution_count": null,
   "metadata": {},
   "outputs": [],
   "source": []
  },
  {
   "cell_type": "code",
   "execution_count": null,
   "metadata": {},
   "outputs": [],
   "source": []
  },
  {
   "cell_type": "code",
   "execution_count": 4,
   "metadata": {},
   "outputs": [],
   "source": [
    "# sim = build_model(ws = 'model', sim_name = 'engesgaard1992')\n",
    "# strt\n"
   ]
  },
  {
   "cell_type": "code",
   "execution_count": 5,
   "metadata": {},
   "outputs": [],
   "source": [
    "# sim_ws = os.path.join('model', '1dtest', 'chloride')\n",
    "sim_ws = Path(\"model/engesgaard1992/\")\n",
    "dll = Path(\"bin/win/libmf6\")"
   ]
  },
  {
   "cell_type": "code",
   "execution_count": null,
   "metadata": {},
   "outputs": [],
   "source": [
    "def try_get_value(address, mf6):\n",
    "    try:\n",
    "        res = mf6.get_value(address)\n",
    "        return res\n",
    "    except:\n",
    "        res = 'failed'\n",
    "        return res"
   ]
  },
  {
   "cell_type": "code",
   "execution_count": 11,
   "metadata": {},
   "outputs": [],
   "source": [
    "mf6 = modflowapi.ModflowApi(dll, working_directory = sim_ws)\n",
    "mf6.initialize()\n",
    "# current_time = mf6.get_current_time()\n",
    "# end_time = mf6.get_end_time()\n",
    "all_vars = mf6.get_input_var_names() \n",
    "\n",
    "# var_add = \n",
    "\n",
    "# try:\n",
    "#     mf6.finalize()\n",
    "#     success=True\n",
    "# except:\n",
    "#     raise RuntimeError"
   ]
  },
  {
   "cell_type": "code",
   "execution_count": 16,
   "metadata": {},
   "outputs": [
    {
     "data": {
      "text/plain": [
       "['__INPUT__',\n",
       " 'GWF-GWT_4',\n",
       " 'SLN_7',\n",
       " 'TMPSLN_1',\n",
       " 'GWF-GWT_2',\n",
       " 'C',\n",
       " 'SLN_8',\n",
       " 'SLN_5',\n",
       " 'SLN_3',\n",
       " 'MG',\n",
       " 'TMPSLN_2',\n",
       " 'H',\n",
       " 'CHARGE',\n",
       " 'O',\n",
       " 'GWF-GWT_6',\n",
       " 'TMPSLN_8',\n",
       " 'TDIS',\n",
       " 'SLN_4',\n",
       " 'TMPSLN_4',\n",
       " 'CL',\n",
       " 'SLN_6',\n",
       " 'CA',\n",
       " 'GWF-GWT_7',\n",
       " 'GWF',\n",
       " 'TMPSLN_3',\n",
       " 'SLN_2',\n",
       " 'SLN_1',\n",
       " 'GWF-GWT_1',\n",
       " 'TMPSLN_5',\n",
       " 'TMPSLN_6',\n",
       " 'GWF-GWT_5',\n",
       " 'TMPSLN_7',\n",
       " 'GWF-GWT_3']"
      ]
     },
     "execution_count": 16,
     "metadata": {},
     "output_type": "execute_result"
    }
   ],
   "source": [
    "list(set([var.split('/')[0] for var in all_vars]))"
   ]
  },
  {
   "cell_type": "code",
   "execution_count": null,
   "metadata": {},
   "outputs": [],
   "source": [
    "# current_time, end_time\n",
    "\n",
    "# all_vars\n",
    "df_vars = pd.DataFrame(all_vars)[0].str.split('/', expand=True)\n",
    "df_vars['addr'] = all_vars\n",
    "df_vars.to_csv('vars.csv')"
   ]
  },
  {
   "cell_type": "code",
   "execution_count": null,
   "metadata": {},
   "outputs": [],
   "source": [
    "val = mf6.get_value(mf6.get_var_address(\"x\", 'SODIUM'))\n",
    "val += 1\n",
    "\n",
    "# val = val + 1\n",
    "val += 1\n",
    "# mf6.get_value(mf6.get_var_address(\"x\", 'SODIUM')) = val"
   ]
  },
  {
   "cell_type": "code",
   "execution_count": null,
   "metadata": {},
   "outputs": [],
   "source": [
    "mf6.finalize()\n",
    "val"
   ]
  },
  {
   "cell_type": "code",
   "execution_count": null,
   "metadata": {},
   "outputs": [],
   "source": [
    "\n",
    "mf6 = modflowapi.ModflowApi(dll, working_directory = sim_ws)\n",
    "mf6.initialize()\n",
    "\n",
    "sim_start = datetime.now()\n",
    "print(\"...starting transport solution at {0}\".format(sim_start.strftime(DT_FMT)))\n",
    "# reset the node tracking containers\n",
    "\n",
    "# get the current sim time\n",
    "ctime = mf6.get_current_time()\n",
    "ctimes = [0.0]\n",
    "# get the ending sim time\n",
    "etime = mf6.get_end_time()\n",
    "# max number of solution iterations\n",
    "max_iter = mf6.get_value(mf6.get_var_address(\"MXITER\", \"SLN_1\"))\n",
    "num_fails = 0\n",
    "# let's do it!\n",
    "while ctime < etime:\n",
    "    sol_start = datetime.now()\n",
    "    # length of the current solve time\n",
    "    dt = mf6.get_time_step()\n",
    "    # prep the current time step\n",
    "    mf6.prepare_time_step(dt)\n",
    "    kiter = 0\n",
    "    # prep to solve\n",
    "    mf6.prepare_solve(1)\n",
    "    # the one-based stress period number\n",
    "    stress_period = mf6.get_value(mf6.get_var_address(\"KPER\", \"TDIS\"))[0]\n",
    "    time_step = mf6.get_value(mf6.get_var_address(\"KSTP\", \"TDIS\"))[0]\n",
    "\n",
    "    # solve until converged\n",
    "    while kiter < max_iter:\n",
    "        # apply whatever change we want here\n",
    "        # val = mf6.get_value(mf6.get_var_address(\"x\", 'SODIUM'))\n",
    "        # val += 1\n",
    "        convg = mf6.solve(1)\n",
    "        if convg:\n",
    "            td = (datetime.now() - sol_start).total_seconds() / 60.0\n",
    "            print(\"transport stress period,time step {0},{1} converged with {2} iters, took {3:10.5G} mins\".format(stress_period, time_step, kiter,td))\n",
    "            break\n",
    "        kiter += 1\n",
    "\n",
    "    if not convg:\n",
    "        td = (datetime.now() - sol_start).total_seconds() / 60.0\n",
    "        print(\"transport stress period,time step {0},{1} did not converged, {2} iters, took {3:10.5G} mins\".format(\n",
    "            stress_period, time_step, kiter, td))\n",
    "        num_fails += 1\n",
    "mf6.finalize()\n"
   ]
  },
  {
   "cell_type": "code",
   "execution_count": null,
   "metadata": {},
   "outputs": [],
   "source": []
  },
  {
   "cell_type": "code",
   "execution_count": null,
   "metadata": {},
   "outputs": [],
   "source": [
    "def callback_function(sim, callback_step):\n",
    "    \"\"\"\n",
    "    A demonstration function that dynamically adjusts recharge\n",
    "    and pumping in a modflow-6 model through the MODFLOW-API\n",
    "\n",
    "    Parameters\n",
    "    ----------\n",
    "    sim : modflowapi.ApiSimulation\n",
    "        A simulation object for the solution group that is\n",
    "        currently being solved\n",
    "    step : enumeration\n",
    "        modflowapi.Callbacks enumeration object that indicates\n",
    "        the part of the solution modflow is currently in.\n",
    "    \"\"\"\n",
    "    ml = sim.get_model()\n",
    "    if callback_step == Callbacks.initialize:\n",
    "        print(sim.models)\n",
    "\n",
    "    # if callback_step == Callbacks.stress_period_start:\n",
    "    #     # adjust recharge for stress periods 7 through 12\n",
    "    #     if sim.kper <= 6:\n",
    "    #         rcha = ml.rcha_0\n",
    "    #         spd = rcha.stress_period_data\n",
    "    #         print(f\"updating recharge: stress_period={ml.kper}\")\n",
    "    #         spd[\"recharge\"] += 0.40 * sim.kper\n",
    "\n",
    "    if callback_step == Callbacks.timestep_start:\n",
    "        print(\n",
    "            f\"Testing: stress_period={ml.kper}, timestep={ml.kstp}\", ml.kstp\n",
    "        )\n",
    "        if ml.kstp != 2:\n",
    "            ml.wel.stress_period_data[\"q\"] *= 1/ml.kstp\n",
    "            # ml.wel.stress_period_data['CONCENTRATION'] = 100000000\n",
    "            # print('..........................', ml.wel.stress_period_data['CONCENTRATION'])\n",
    "        else:\n",
    "            ml.wel.stress_period_data['q'] = 0\n",
    "        # if ml.kstp ==2:\n",
    "            \n",
    "    if callback_step == Callbacks.iteration_start:\n",
    "        # we can implement complex solutions to boundary conditions here!\n",
    "        pass\n",
    "    # return wel\n",
    "\n",
    "# modflowapi.run_simulation(dll, sim_ws, callback_function, verbose=True)\n"
   ]
  },
  {
   "cell_type": "code",
   "execution_count": null,
   "metadata": {},
   "outputs": [],
   "source": [
    "ucn = flopy.utils.HeadFile(os.path.join(\"model\",'engesgaard1992',\"sodium.ucn\"),text=\"concentration\")\n",
    "carr = ucn.get_alldata()"
   ]
  },
  {
   "cell_type": "code",
   "execution_count": null,
   "metadata": {},
   "outputs": [],
   "source": [
    "# carr[0][0]\n",
    "carr[-1,0,0,:]"
   ]
  },
  {
   "cell_type": "markdown",
   "metadata": {},
   "source": [
    "# PHREEQCRM TEST"
   ]
  },
  {
   "cell_type": "code",
   "execution_count": 5,
   "metadata": {},
   "outputs": [],
   "source": [
    "import phreeqcrm\n",
    "import numpy as np\n",
    "import sys\n",
    "import pandas as pd\n",
    "from pathlib import Path\n",
    "import os\n",
    "import modflowapi\n",
    "from modflowapi import Callbacks\n",
    "from workflow import *\n",
    "from datetime import datetime\n"
   ]
  },
  {
   "cell_type": "code",
   "execution_count": 20,
   "metadata": {},
   "outputs": [
    {
     "data": {
      "text/plain": [
       "True"
      ]
     },
     "execution_count": 20,
     "metadata": {},
     "output_type": "execute_result"
    }
   ],
   "source": [
    "print_selected_output_on = True\n",
    "print_selected_output_on"
   ]
  },
  {
   "cell_type": "code",
   "execution_count": 16,
   "metadata": {},
   "outputs": [],
   "source": [
    "nxyz = 50\n",
    "nthreads = 1\n",
    "phreeqc_rm = phreeqcrm.PhreeqcRM(nxyz, nthreads)\n",
    "\n",
    "status = phreeqc_rm.SetComponentH2O(False)\n",
    "phreeqc_rm.UseSolutionDensityVolume(False)\n",
    "status = phreeqc_rm.SetFilePrefix(\"engesgaard1992\")\n",
    "phreeqc_rm.OpenFiles()\n",
    "poro = np.full((nxyz), .1)\n",
    "status = phreeqc_rm.SetPorosity(poro)\n",
    "\n",
    "print_chemistry_mask = np.full((nxyz), 1)\n",
    "status = phreeqc_rm.SetPrintChemistryMask(print_chemistry_mask)\n",
    "nchem = phreeqc_rm.GetChemistryCellCount()\n",
    "nchem\n",
    "\n",
    "# init_file = 'phinp.dat'\n",
    "init_file = 'advect.pqi'\n",
    "\n",
    "# Load database\n",
    "databasews = os.path.join(\"database\", \"pht3d_datab.dat\")\n",
    "status = phreeqc_rm.LoadDatabase(databasews)\n",
    "status = phreeqc_rm.RunFile(True, True, True, init_file)# Clear contents of workers and utility\n",
    "input = \"DELETE; -all\"\n",
    "status = phreeqc_rm.RunString(True, False, True, input)\n",
    "\n",
    "ncomps = phreeqc_rm.FindComponents()\n",
    "ncomps\n",
    "\n",
    "components = phreeqc_rm.GetComponents()\n",
    "components\n",
    "\n",
    "for comp in components:\n",
    "    phreeqc_rm.OutputMessage(comp)\n",
    "phreeqc_rm.OutputMessage(\"\\n\")"
   ]
  },
  {
   "cell_type": "code",
   "execution_count": 8,
   "metadata": {},
   "outputs": [],
   "source": []
  },
  {
   "cell_type": "code",
   "execution_count": 9,
   "metadata": {},
   "outputs": [
    {
     "data": {
      "text/plain": [
       "(50,)"
      ]
     },
     "execution_count": 9,
     "metadata": {},
     "output_type": "execute_result"
    }
   ],
   "source": []
  },
  {
   "cell_type": "code",
   "execution_count": 10,
   "metadata": {},
   "outputs": [
    {
     "data": {
      "text/plain": [
       "50"
      ]
     },
     "execution_count": 10,
     "metadata": {},
     "output_type": "execute_result"
    }
   ],
   "source": []
  },
  {
   "cell_type": "code",
   "execution_count": 13,
   "metadata": {},
   "outputs": [
    {
     "data": {
      "text/plain": [
       "('H', 'O', 'Charge', 'C', 'Ca', 'Cl', 'K', 'Mg', 'N', 'Na')"
      ]
     },
     "execution_count": 13,
     "metadata": {},
     "output_type": "execute_result"
    }
   ],
   "source": []
  },
  {
   "cell_type": "code",
   "execution_count": 72,
   "metadata": {},
   "outputs": [],
   "source": [
    "\n",
    "\n",
    "for comp in components:\n",
    "    phreeqc_rm.OutputMessage(comp)\n",
    "phreeqc_rm.OutputMessage(\"\\n\")\n",
    "\n",
    "ic1 = [-1] * nxyz * 7 \n",
    "ic1\n",
    "for i in range(nxyz):\n",
    "    ic1[i]            =  1  # Solution 1\n",
    "    ic1[nxyz + i]     = 1  # Equilibrium phases none\n",
    "    ic1[2 * nxyz + i] =  -1  # Exchange 1\n",
    "    ic1[3 * nxyz + i] = -1  # Surface none\n",
    "    ic1[4 * nxyz + i] = -1  # Gas phase none\n",
    "    ic1[5 * nxyz + i] = -1  # Solid solutions none\n",
    "    ic1[6 * nxyz + i] = -1  # Kinetics none\n",
    "\n",
    "status = phreeqc_rm.InitialPhreeqc2Module(ic1)\n",
    "\n",
    "# Initial equilibration of cells\n",
    "time = 0.0\n",
    "time_step = 0.0\n",
    "status = phreeqc_rm.SetTime(time)\n",
    "status = phreeqc_rm.SetTimeStep(time_step)\n",
    "status = phreeqc_rm.RunCells()\n"
   ]
  },
  {
   "cell_type": "code",
   "execution_count": 73,
   "metadata": {},
   "outputs": [],
   "source": [
    "status\n",
    "\n",
    "c_dbl_vect = phreeqc_rm.GetConcentrations()\n"
   ]
  },
  {
   "cell_type": "code",
   "execution_count": 74,
   "metadata": {},
   "outputs": [
    {
     "data": {
      "text/plain": [
       "(350, ('H', 'O', 'Charge', 'C', 'Ca', 'Cl', 'Mg'))"
      ]
     },
     "execution_count": 74,
     "metadata": {},
     "output_type": "execute_result"
    }
   ],
   "source": [
    "#ncomp * ncell\n",
    "\n",
    "ncomps*nxyz, components\n"
   ]
  },
  {
   "cell_type": "code",
   "execution_count": 75,
   "metadata": {},
   "outputs": [
    {
     "data": {
      "text/plain": [
       "array([], dtype=float64)"
      ]
     },
     "execution_count": 75,
     "metadata": {},
     "output_type": "execute_result"
    }
   ],
   "source": [
    "phreeqc_rm.GetSpeciesNames()\n",
    "phreeqc_rm.GetSpeciesConcentrations()"
   ]
  },
  {
   "cell_type": "code",
   "execution_count": 76,
   "metadata": {},
   "outputs": [
    {
     "data": {
      "text/plain": [
       "('CH4',\n",
       " 'CO2',\n",
       " 'CO3-2',\n",
       " 'Ca+2',\n",
       " 'CaCO3',\n",
       " 'CaHCO3+',\n",
       " 'CaOH+',\n",
       " 'Cl-',\n",
       " 'H+',\n",
       " 'H2',\n",
       " 'H2O',\n",
       " 'H2O-0.01',\n",
       " 'HCO3-',\n",
       " 'Mg+2',\n",
       " 'MgCO3',\n",
       " 'MgHCO3+',\n",
       " 'MgOH+',\n",
       " 'O2',\n",
       " 'OH-')"
      ]
     },
     "execution_count": 76,
     "metadata": {},
     "output_type": "execute_result"
    }
   ],
   "source": [
    "phreeqc_rm.GetSpeciesNames()\n"
   ]
  },
  {
   "cell_type": "code",
   "execution_count": null,
   "metadata": {},
   "outputs": [],
   "source": []
  },
  {
   "cell_type": "code",
   "execution_count": 77,
   "metadata": {},
   "outputs": [
    {
     "data": {
      "text/plain": [
       "('Calcite', 'Dolomite')"
      ]
     },
     "execution_count": 77,
     "metadata": {},
     "output_type": "execute_result"
    }
   ],
   "source": [
    "phreeqc_rm.GetDatabaseFileName()\n",
    "components\n",
    "phreeqc_rm.GetEquilibriumPhases()\n",
    "# phreeqc_rm.SetConcentrations()"
   ]
  },
  {
   "cell_type": "code",
   "execution_count": 78,
   "metadata": {},
   "outputs": [
    {
     "data": {
      "text/plain": [
       "('H', 'O', 'Charge', 'C', 'Ca', 'Cl', 'Mg')"
      ]
     },
     "execution_count": 78,
     "metadata": {},
     "output_type": "execute_result"
    }
   ],
   "source": [
    "components"
   ]
  },
  {
   "cell_type": "code",
   "execution_count": 79,
   "metadata": {},
   "outputs": [],
   "source": [
    "# status\n",
    "c_dbl_vect = phreeqc_rm.GetConcentrations()"
   ]
  },
  {
   "cell_type": "code",
   "execution_count": 80,
   "metadata": {},
   "outputs": [
    {
     "name": "stdout",
     "output_type": "stream",
     "text": [
      "float64\n",
      "float64\n",
      "float64\n",
      "float64\n",
      "float64\n",
      "float64\n",
      "float64\n"
     ]
    }
   ],
   "source": [
    "nlay = 1  # Number of layers\n",
    "Lx = 0.5 #m\n",
    "ncol = 50  # Number of columns\n",
    "nrow = 1  \n",
    "\n",
    "n=nxyz\n",
    "\n",
    "conc = [c_dbl_vect[i:i + n] for i in range(0, len(c_dbl_vect), n)]\n",
    "\n",
    "sconc = {}\n",
    "for e, c in enumerate(components):\n",
    "    sconc[c] = np.reshape(conc[e], (nlay, nrow, ncol))\n",
    "sconc\n",
    "\n",
    "for c in components:\n",
    "    print(sconc[c].dtype)\n",
    "# sconc\n"
   ]
  },
  {
   "cell_type": "code",
   "execution_count": 4,
   "metadata": {},
   "outputs": [
    {
     "data": {
      "text/plain": [
       "350"
      ]
     },
     "execution_count": 4,
     "metadata": {},
     "output_type": "execute_result"
    }
   ],
   "source": [
    "ic1 = [-1] * 50 * 7 \n",
    "len(ic1)"
   ]
  },
  {
   "cell_type": "code",
   "execution_count": 81,
   "metadata": {},
   "outputs": [],
   "source": [
    "# sim = build_model(ws = 'model', sim_name = 'engesgaard1992', spls = components, sconc=sconc)\n",
    "\n",
    "# strt"
   ]
  },
  {
   "cell_type": "code",
   "execution_count": 82,
   "metadata": {},
   "outputs": [
    {
     "data": {
      "text/plain": [
       "('H', 'O', 'Charge', 'C', 'Ca', 'Cl', 'Mg')"
      ]
     },
     "execution_count": 82,
     "metadata": {},
     "output_type": "execute_result"
    }
   ],
   "source": [
    "components"
   ]
  },
  {
   "cell_type": "code",
   "execution_count": 83,
   "metadata": {},
   "outputs": [],
   "source": [
    "def flatten_list(xss):\n",
    "    return [x for xs in xss for x in xs]\n"
   ]
  },
  {
   "cell_type": "code",
   "execution_count": 89,
   "metadata": {},
   "outputs": [
    {
     "name": "stdout",
     "output_type": "stream",
     "text": [
      "...starting transport solution at 2024-05-22 10:09:08\n",
      "\n",
      "Getting concentration arrays --- time step: 1 --- elapsed time: 0.0\n",
      "\n",
      "Solving for component: H\n",
      "Transport stress period: 1 --- time step: 1 --- converged with 1 iters --- took 0.00036545 mins\n",
      "\n",
      "Solving for component: O\n",
      "Transport stress period: 1 --- time step: 1 --- converged with 1 iters --- took 0.00038212 mins\n",
      "\n",
      "Solving for component: Charge\n",
      "Transport stress period: 1 --- time step: 1 --- converged with 1 iters --- took 0.00039878 mins\n",
      "\n",
      "Solving for component: C\n",
      "Transport stress period: 1 --- time step: 1 --- converged with 1 iters --- took  0.0004155 mins\n",
      "\n",
      "Solving for component: Ca\n",
      "Transport stress period: 1 --- time step: 1 --- converged with 1 iters --- took 0.00043212 mins\n",
      "\n",
      "Solving for component: Cl\n",
      "Transport stress period: 1 --- time step: 1 --- converged with 1 iters --- took  0.0004572 mins\n",
      "\n",
      "Solving for component: Mg\n",
      "Transport stress period: 1 --- time step: 1 --- converged with 1 iters --- took 0.00047395 mins\n",
      "\n",
      "Getting concentration arrays --- time step: 2 --- elapsed time: 0.01\n",
      "\n",
      "Solving for component: H\n",
      "Transport stress period: 1 --- time step: 2 --- converged with 0 iters --- took  0.0002668 mins\n",
      "\n",
      "Solving for component: O\n",
      "Transport stress period: 1 --- time step: 2 --- converged with 0 iters --- took 0.00028347 mins\n",
      "\n",
      "Solving for component: Charge\n",
      "Transport stress period: 1 --- time step: 2 --- converged with 0 iters --- took 0.00031678 mins\n",
      "\n",
      "Solving for component: C\n",
      "Transport stress period: 1 --- time step: 2 --- converged with 0 iters --- took 0.00033345 mins\n",
      "\n",
      "Solving for component: Ca\n",
      "Transport stress period: 1 --- time step: 2 --- converged with 0 iters --- took 0.00034185 mins\n",
      "\n",
      "Solving for component: Cl\n",
      "Transport stress period: 1 --- time step: 2 --- converged with 0 iters --- took 0.00035858 mins\n",
      "\n",
      "Solving for component: Mg\n",
      "Transport stress period: 1 --- time step: 2 --- converged with 0 iters --- took 0.00037523 mins\n",
      "\n",
      "Getting concentration arrays --- time step: 3 --- elapsed time: 0.02\n",
      "\n",
      "Solving for component: H\n",
      "Transport stress period: 1 --- time step: 3 --- converged with 0 iters --- took 0.00025308 mins\n",
      "\n",
      "Solving for component: O\n",
      "Transport stress period: 1 --- time step: 3 --- converged with 0 iters --- took 0.00026975 mins\n",
      "\n",
      "Solving for component: Charge\n",
      "Transport stress period: 1 --- time step: 3 --- converged with 0 iters --- took 0.00028642 mins\n",
      "\n",
      "Solving for component: C\n",
      "Transport stress period: 1 --- time step: 3 --- converged with 0 iters --- took 0.00030308 mins\n",
      "\n",
      "Solving for component: Ca\n",
      "Transport stress period: 1 --- time step: 3 --- converged with 0 iters --- took 0.00032813 mins\n",
      "\n",
      "Solving for component: Cl\n",
      "Transport stress period: 1 --- time step: 3 --- converged with 0 iters --- took 0.00034488 mins\n",
      "\n",
      "Solving for component: Mg\n",
      "Transport stress period: 1 --- time step: 3 --- converged with 0 iters --- took 0.00036153 mins\n",
      "\n",
      "Getting concentration arrays --- time step: 4 --- elapsed time: 0.03\n",
      "\n",
      "Solving for component: H\n",
      "Transport stress period: 1 --- time step: 4 --- converged with 0 iters --- took  0.0002418 mins\n",
      "\n",
      "Solving for component: O\n",
      "Transport stress period: 1 --- time step: 4 --- converged with 0 iters --- took 0.00025845 mins\n",
      "\n",
      "Solving for component: Charge\n",
      "Transport stress period: 1 --- time step: 4 --- converged with 0 iters --- took 0.00027512 mins\n",
      "\n",
      "Solving for component: C\n",
      "Transport stress period: 1 --- time step: 4 --- converged with 0 iters --- took 0.00029178 mins\n",
      "\n",
      "Solving for component: Ca\n",
      "Transport stress period: 1 --- time step: 4 --- converged with 0 iters --- took 0.00030847 mins\n",
      "\n",
      "Solving for component: Cl\n",
      "Transport stress period: 1 --- time step: 4 --- converged with 0 iters --- took 0.00032512 mins\n",
      "\n",
      "Solving for component: Mg\n",
      "Transport stress period: 1 --- time step: 4 --- converged with 0 iters --- took  0.0003418 mins\n",
      "\n",
      "Getting concentration arrays --- time step: 5 --- elapsed time: 0.04\n",
      "\n",
      "Solving for component: H\n",
      "Transport stress period: 1 --- time step: 5 --- converged with 0 iters --- took 0.00022527 mins\n",
      "\n",
      "Solving for component: O\n",
      "Transport stress period: 1 --- time step: 5 --- converged with 0 iters --- took 0.00024215 mins\n",
      "\n",
      "Solving for component: Charge\n",
      "Transport stress period: 1 --- time step: 5 --- converged with 0 iters --- took  0.0002588 mins\n",
      "\n",
      "Solving for component: C\n",
      "Transport stress period: 1 --- time step: 5 --- converged with 0 iters --- took 0.00027548 mins\n",
      "\n",
      "Solving for component: Ca\n",
      "Transport stress period: 1 --- time step: 5 --- converged with 0 iters --- took 0.00029213 mins\n",
      "\n",
      "Solving for component: Cl\n",
      "Transport stress period: 1 --- time step: 5 --- converged with 0 iters --- took 0.00030882 mins\n",
      "\n",
      "Solving for component: Mg\n",
      "Transport stress period: 1 --- time step: 5 --- converged with 0 iters --- took  0.0003255 mins\n",
      "\n",
      "Getting concentration arrays --- time step: 6 --- elapsed time: 0.05\n",
      "\n",
      "Solving for component: H\n",
      "Transport stress period: 1 --- time step: 6 --- converged with 0 iters --- took 0.00022518 mins\n",
      "\n",
      "Solving for component: O\n",
      "Transport stress period: 1 --- time step: 6 --- converged with 0 iters --- took 0.00025023 mins\n",
      "\n",
      "Solving for component: Charge\n",
      "Transport stress period: 1 --- time step: 6 --- converged with 0 iters --- took 0.00026698 mins\n",
      "\n",
      "Solving for component: C\n",
      "Transport stress period: 1 --- time step: 6 --- converged with 0 iters --- took 0.00028363 mins\n",
      "\n",
      "Solving for component: Ca\n",
      "Transport stress period: 1 --- time step: 6 --- converged with 0 iters --- took 0.00030028 mins\n",
      "\n",
      "Solving for component: Cl\n",
      "Transport stress period: 1 --- time step: 6 --- converged with 0 iters --- took 0.00031698 mins\n",
      "\n",
      "Solving for component: Mg\n",
      "Transport stress period: 1 --- time step: 6 --- converged with 0 iters --- took 0.00033365 mins\n",
      "\n",
      "Getting concentration arrays --- time step: 7 --- elapsed time: 0.060000000000000005\n",
      "\n",
      "Solving for component: H\n",
      "Transport stress period: 1 --- time step: 7 --- converged with 0 iters --- took 0.00024212 mins\n",
      "\n",
      "Solving for component: O\n",
      "Transport stress period: 1 --- time step: 7 --- converged with 0 iters --- took 0.00025877 mins\n",
      "\n",
      "Solving for component: Charge\n",
      "Transport stress period: 1 --- time step: 7 --- converged with 0 iters --- took 0.00027543 mins\n",
      "\n",
      "Solving for component: C\n",
      "Transport stress period: 1 --- time step: 7 --- converged with 0 iters --- took  0.0002921 mins\n",
      "\n",
      "Solving for component: Ca\n",
      "Transport stress period: 1 --- time step: 7 --- converged with 0 iters --- took 0.00030877 mins\n",
      "\n",
      "Solving for component: Cl\n",
      "Transport stress period: 1 --- time step: 7 --- converged with 0 iters --- took 0.00031723 mins\n",
      "\n",
      "Solving for component: Mg\n",
      "Transport stress period: 1 --- time step: 7 --- converged with 0 iters --- took 0.00033398 mins\n",
      "\n",
      "Getting concentration arrays --- time step: 8 --- elapsed time: 0.07\n",
      "\n",
      "Solving for component: H\n",
      "Transport stress period: 1 --- time step: 8 --- converged with 0 iters --- took  0.0002251 mins\n",
      "\n",
      "Solving for component: O\n",
      "Transport stress period: 1 --- time step: 8 --- converged with 0 iters --- took 0.00024177 mins\n",
      "\n",
      "Solving for component: Charge\n",
      "Transport stress period: 1 --- time step: 8 --- converged with 0 iters --- took 0.00025843 mins\n",
      "\n",
      "Solving for component: C\n",
      "Transport stress period: 1 --- time step: 8 --- converged with 0 iters --- took  0.0002751 mins\n",
      "\n",
      "Solving for component: Ca\n",
      "Transport stress period: 1 --- time step: 8 --- converged with 0 iters --- took 0.00029177 mins\n",
      "\n",
      "Solving for component: Cl\n",
      "Transport stress period: 1 --- time step: 8 --- converged with 0 iters --- took 0.00030843 mins\n",
      "\n",
      "Solving for component: Mg\n",
      "Transport stress period: 1 --- time step: 8 --- converged with 0 iters --- took 0.00032513 mins\n",
      "\n",
      "Getting concentration arrays --- time step: 9 --- elapsed time: 0.08\n",
      "\n",
      "Solving for component: H\n",
      "Transport stress period: 1 --- time step: 9 --- converged with 0 iters --- took 0.00025042 mins\n",
      "\n",
      "Solving for component: O\n",
      "Transport stress period: 1 --- time step: 9 --- converged with 0 iters --- took  0.0002671 mins\n",
      "\n",
      "Solving for component: Charge\n",
      "Transport stress period: 1 --- time step: 9 --- converged with 0 iters --- took 0.00028377 mins\n",
      "\n",
      "Solving for component: C\n",
      "Transport stress period: 1 --- time step: 9 --- converged with 0 iters --- took 0.00030043 mins\n",
      "\n",
      "Solving for component: Ca\n",
      "Transport stress period: 1 --- time step: 9 --- converged with 0 iters --- took  0.0003171 mins\n",
      "\n",
      "Solving for component: Cl\n",
      "Transport stress period: 1 --- time step: 9 --- converged with 0 iters --- took 0.00033377 mins\n",
      "\n",
      "Solving for component: Mg\n",
      "Transport stress period: 1 --- time step: 9 --- converged with 0 iters --- took 0.00035043 mins\n",
      "\n",
      "Getting concentration arrays --- time step: 10 --- elapsed time: 0.09\n",
      "\n",
      "Solving for component: H\n",
      "Transport stress period: 1 --- time step: 10 --- converged with 0 iters --- took  0.0002413 mins\n",
      "\n",
      "Solving for component: O\n",
      "Transport stress period: 1 --- time step: 10 --- converged with 0 iters --- took 0.00027622 mins\n",
      "\n",
      "Solving for component: Charge\n",
      "Transport stress period: 1 --- time step: 10 --- converged with 0 iters --- took 0.00029488 mins\n",
      "\n",
      "Solving for component: C\n",
      "Transport stress period: 1 --- time step: 10 --- converged with 0 iters --- took 0.00030968 mins\n",
      "\n",
      "Solving for component: Ca\n",
      "Transport stress period: 1 --- time step: 10 --- converged with 0 iters --- took 0.00032635 mins\n",
      "\n",
      "Solving for component: Cl\n",
      "Transport stress period: 1 --- time step: 10 --- converged with 0 iters --- took 0.00034302 mins\n",
      "\n",
      "Solving for component: Mg\n",
      "Transport stress period: 1 --- time step: 10 --- converged with 0 iters --- took 0.00035968 mins\n",
      "\n",
      "Getting concentration arrays --- time step: 11 --- elapsed time: 0.09999999999999999\n",
      "\n",
      "Solving for component: H\n",
      "Transport stress period: 1 --- time step: 11 --- converged with 0 iters --- took 0.00024182 mins\n",
      "\n",
      "Solving for component: O\n",
      "Transport stress period: 1 --- time step: 11 --- converged with 0 iters --- took 0.00024182 mins\n",
      "\n",
      "Solving for component: Charge\n",
      "Transport stress period: 1 --- time step: 11 --- converged with 0 iters --- took 0.00025848 mins\n",
      "\n",
      "Solving for component: C\n",
      "Transport stress period: 1 --- time step: 11 --- converged with 0 iters --- took 0.00027513 mins\n",
      "\n",
      "Solving for component: Ca\n",
      "Transport stress period: 1 --- time step: 11 --- converged with 0 iters --- took  0.0002918 mins\n",
      "\n",
      "Solving for component: Cl\n",
      "Transport stress period: 1 --- time step: 11 --- converged with 0 iters --- took 0.00031915 mins\n",
      "\n",
      "Solving for component: Mg\n",
      "Transport stress period: 1 --- time step: 11 --- converged with 0 iters --- took 0.00033053 mins\n",
      "\n",
      "Getting concentration arrays --- time step: 12 --- elapsed time: 0.10999999999999999\n",
      "\n",
      "Solving for component: H\n",
      "Transport stress period: 1 --- time step: 12 --- converged with 0 iters --- took 0.00024172 mins\n",
      "\n",
      "Solving for component: O\n",
      "Transport stress period: 1 --- time step: 12 --- converged with 0 iters --- took 0.00025838 mins\n",
      "\n",
      "Solving for component: Charge\n",
      "Transport stress period: 1 --- time step: 12 --- converged with 0 iters --- took 0.00027505 mins\n",
      "\n",
      "Solving for component: C\n",
      "Transport stress period: 1 --- time step: 12 --- converged with 0 iters --- took  0.0002917 mins\n",
      "\n",
      "Solving for component: Ca\n",
      "Transport stress period: 1 --- time step: 12 --- converged with 0 iters --- took 0.00030842 mins\n",
      "\n",
      "Solving for component: Cl\n",
      "Transport stress period: 1 --- time step: 12 --- converged with 0 iters --- took 0.00032508 mins\n",
      "\n",
      "Solving for component: Mg\n",
      "Transport stress period: 1 --- time step: 12 --- converged with 0 iters --- took 0.00035008 mins\n",
      "\n",
      "Getting concentration arrays --- time step: 13 --- elapsed time: 0.11999999999999998\n",
      "\n",
      "Solving for component: H\n",
      "Transport stress period: 1 --- time step: 13 --- converged with 0 iters --- took 0.00022078 mins\n",
      "\n",
      "Solving for component: O\n",
      "Transport stress period: 1 --- time step: 13 --- converged with 0 iters --- took 0.00023745 mins\n",
      "\n",
      "Solving for component: Charge\n",
      "Transport stress period: 1 --- time step: 13 --- converged with 0 iters --- took 0.00025412 mins\n",
      "\n",
      "Solving for component: C\n",
      "Transport stress period: 1 --- time step: 13 --- converged with 0 iters --- took 0.00027078 mins\n",
      "\n",
      "Solving for component: Ca\n",
      "Transport stress period: 1 --- time step: 13 --- converged with 0 iters --- took 0.00028747 mins\n",
      "\n",
      "Solving for component: Cl\n",
      "Transport stress period: 1 --- time step: 13 --- converged with 0 iters --- took 0.00030412 mins\n",
      "\n",
      "Solving for component: Mg\n",
      "Transport stress period: 1 --- time step: 13 --- converged with 0 iters --- took 0.00032077 mins\n",
      "\n",
      "Getting concentration arrays --- time step: 14 --- elapsed time: 0.12999999999999998\n",
      "\n",
      "Solving for component: H\n",
      "Transport stress period: 1 --- time step: 14 --- converged with 0 iters --- took  0.0002338 mins\n",
      "\n",
      "Solving for component: O\n",
      "Transport stress period: 1 --- time step: 14 --- converged with 0 iters --- took 0.00024978 mins\n",
      "\n",
      "Solving for component: Charge\n",
      "Transport stress period: 1 --- time step: 14 --- converged with 0 iters --- took  0.0002672 mins\n",
      "\n",
      "Solving for component: C\n",
      "Transport stress period: 1 --- time step: 14 --- converged with 0 iters --- took 0.00028387 mins\n",
      "\n",
      "Solving for component: Ca\n",
      "Transport stress period: 1 --- time step: 14 --- converged with 0 iters --- took 0.00030055 mins\n",
      "\n",
      "Solving for component: Cl\n",
      "Transport stress period: 1 --- time step: 14 --- converged with 0 iters --- took  0.0003172 mins\n",
      "\n",
      "Solving for component: Mg\n",
      "Transport stress period: 1 --- time step: 14 --- converged with 0 iters --- took 0.00033387 mins\n",
      "\n",
      "Getting concentration arrays --- time step: 15 --- elapsed time: 0.13999999999999999\n",
      "\n",
      "Solving for component: H\n",
      "Transport stress period: 1 --- time step: 15 --- converged with 0 iters --- took 0.00024192 mins\n",
      "\n",
      "Solving for component: O\n",
      "Transport stress period: 1 --- time step: 15 --- converged with 0 iters --- took 0.00025857 mins\n",
      "\n",
      "Solving for component: Charge\n",
      "Transport stress period: 1 --- time step: 15 --- converged with 0 iters --- took 0.00026697 mins\n",
      "\n",
      "Solving for component: C\n",
      "Transport stress period: 1 --- time step: 15 --- converged with 0 iters --- took 0.00028578 mins\n",
      "\n",
      "Solving for component: Ca\n",
      "Transport stress period: 1 --- time step: 15 --- converged with 0 iters --- took 0.00030038 mins\n",
      "\n",
      "Solving for component: Cl\n",
      "Transport stress period: 1 --- time step: 15 --- converged with 0 iters --- took  0.0003337 mins\n",
      "\n",
      "Solving for component: Mg\n",
      "Transport stress period: 1 --- time step: 15 --- converged with 0 iters --- took 0.00035037 mins\n",
      "\n",
      "Getting concentration arrays --- time step: 16 --- elapsed time: 0.15\n",
      "\n",
      "Solving for component: H\n",
      "Transport stress period: 1 --- time step: 16 --- converged with 0 iters --- took  0.0002251 mins\n",
      "\n",
      "Solving for component: O\n",
      "Transport stress period: 1 --- time step: 16 --- converged with 0 iters --- took 0.00024177 mins\n",
      "\n",
      "Solving for component: Charge\n",
      "Transport stress period: 1 --- time step: 16 --- converged with 0 iters --- took 0.00025843 mins\n",
      "\n",
      "Solving for component: C\n",
      "Transport stress period: 1 --- time step: 16 --- converged with 0 iters --- took 0.00027512 mins\n",
      "\n",
      "Solving for component: Ca\n",
      "Transport stress period: 1 --- time step: 16 --- converged with 0 iters --- took 0.00030017 mins\n",
      "\n",
      "Solving for component: Cl\n",
      "Transport stress period: 1 --- time step: 16 --- converged with 0 iters --- took 0.00030017 mins\n",
      "\n",
      "Solving for component: Mg\n",
      "Transport stress period: 1 --- time step: 16 --- converged with 0 iters --- took 0.00031692 mins\n",
      "\n",
      "Getting concentration arrays --- time step: 17 --- elapsed time: 0.16\n",
      "\n",
      "Solving for component: H\n",
      "Transport stress period: 1 --- time step: 17 --- converged with 0 iters --- took 0.00023678 mins\n",
      "\n",
      "Solving for component: O\n",
      "Transport stress period: 1 --- time step: 17 --- converged with 0 iters --- took 0.00025347 mins\n",
      "\n",
      "Solving for component: Charge\n",
      "Transport stress period: 1 --- time step: 17 --- converged with 0 iters --- took 0.00027013 mins\n",
      "\n",
      "Solving for component: C\n",
      "Transport stress period: 1 --- time step: 17 --- converged with 0 iters --- took  0.0002868 mins\n",
      "\n",
      "Solving for component: Ca\n",
      "Transport stress period: 1 --- time step: 17 --- converged with 0 iters --- took 0.00030347 mins\n",
      "\n",
      "Solving for component: Cl\n",
      "Transport stress period: 1 --- time step: 17 --- converged with 0 iters --- took 0.00032013 mins\n",
      "\n",
      "Solving for component: Mg\n",
      "Transport stress period: 1 --- time step: 17 --- converged with 0 iters --- took 0.00034522 mins\n",
      "\n",
      "Getting concentration arrays --- time step: 18 --- elapsed time: 0.17\n",
      "\n",
      "Solving for component: H\n",
      "Transport stress period: 1 --- time step: 18 --- converged with 0 iters --- took 0.00024182 mins\n",
      "\n",
      "Solving for component: O\n",
      "Transport stress period: 1 --- time step: 18 --- converged with 0 iters --- took 0.00025847 mins\n",
      "\n",
      "Solving for component: Charge\n",
      "Transport stress period: 1 --- time step: 18 --- converged with 0 iters --- took 0.00027515 mins\n",
      "\n",
      "Solving for component: C\n",
      "Transport stress period: 1 --- time step: 18 --- converged with 0 iters --- took  0.0002918 mins\n",
      "\n",
      "Solving for component: Ca\n",
      "Transport stress period: 1 --- time step: 18 --- converged with 0 iters --- took 0.00030848 mins\n",
      "\n",
      "Solving for component: Cl\n",
      "Transport stress period: 1 --- time step: 18 --- converged with 0 iters --- took 0.00032513 mins\n",
      "\n",
      "Solving for component: Mg\n",
      "Transport stress period: 1 --- time step: 18 --- converged with 0 iters --- took 0.00034182 mins\n",
      "\n",
      "Getting concentration arrays --- time step: 19 --- elapsed time: 0.18000000000000002\n",
      "\n",
      "Solving for component: H\n",
      "Transport stress period: 1 --- time step: 19 --- converged with 0 iters --- took  0.0002375 mins\n",
      "\n",
      "Solving for component: O\n",
      "Transport stress period: 1 --- time step: 19 --- converged with 0 iters --- took  0.0002462 mins\n",
      "\n",
      "Solving for component: Charge\n",
      "Transport stress period: 1 --- time step: 19 --- converged with 0 iters --- took 0.00026287 mins\n",
      "\n",
      "Solving for component: C\n",
      "Transport stress period: 1 --- time step: 19 --- converged with 0 iters --- took 0.00027952 mins\n",
      "\n",
      "Solving for component: Ca\n",
      "Transport stress period: 1 --- time step: 19 --- converged with 0 iters --- took 0.00029618 mins\n",
      "\n",
      "Solving for component: Cl\n",
      "Transport stress period: 1 --- time step: 19 --- converged with 0 iters --- took 0.00031285 mins\n",
      "\n",
      "Solving for component: Mg\n",
      "Transport stress period: 1 --- time step: 19 --- converged with 0 iters --- took 0.00032952 mins\n",
      "\n",
      "Getting concentration arrays --- time step: 20 --- elapsed time: 0.19000000000000003\n",
      "\n",
      "Solving for component: H\n",
      "Transport stress period: 1 --- time step: 20 --- converged with 0 iters --- took  0.0002418 mins\n",
      "\n",
      "Solving for component: O\n",
      "Transport stress period: 1 --- time step: 20 --- converged with 0 iters --- took 0.00025848 mins\n",
      "\n",
      "Solving for component: Charge\n",
      "Transport stress period: 1 --- time step: 20 --- converged with 0 iters --- took 0.00025848 mins\n",
      "\n",
      "Solving for component: C\n",
      "Transport stress period: 1 --- time step: 20 --- converged with 0 iters --- took 0.00028618 mins\n",
      "\n",
      "Solving for component: Ca\n",
      "Transport stress period: 1 --- time step: 20 --- converged with 0 iters --- took 0.00029572 mins\n",
      "\n",
      "Solving for component: Cl\n",
      "Transport stress period: 1 --- time step: 20 --- converged with 0 iters --- took 0.00031238 mins\n",
      "\n",
      "Solving for component: Mg\n",
      "Transport stress period: 1 --- time step: 20 --- converged with 0 iters --- took 0.00032905 mins\n",
      "\n",
      "Getting concentration arrays --- time step: 21 --- elapsed time: 0.20000000000000004\n",
      "\n",
      "Solving for component: H\n",
      "Transport stress period: 1 --- time step: 21 --- converged with 0 iters --- took 0.00022507 mins\n",
      "\n",
      "Solving for component: O\n",
      "Transport stress period: 1 --- time step: 21 --- converged with 0 iters --- took 0.00024173 mins\n",
      "\n",
      "Solving for component: Charge\n",
      "Transport stress period: 1 --- time step: 21 --- converged with 0 iters --- took  0.0002584 mins\n",
      "\n",
      "Solving for component: C\n",
      "Transport stress period: 1 --- time step: 21 --- converged with 0 iters --- took 0.00027505 mins\n",
      "\n",
      "Solving for component: Ca\n",
      "Transport stress period: 1 --- time step: 21 --- converged with 0 iters --- took 0.00030012 mins\n",
      "\n",
      "Solving for component: Cl\n",
      "Transport stress period: 1 --- time step: 21 --- converged with 0 iters --- took 0.00031833 mins\n",
      "\n",
      "Solving for component: Mg\n",
      "Transport stress period: 1 --- time step: 21 --- converged with 0 iters --- took 0.00033352 mins\n",
      "\n",
      "Getting concentration arrays --- time step: 22 --- elapsed time: 0.21000000000000005\n",
      "\n",
      "Solving for component: H\n",
      "Transport stress period: 1 --- time step: 22 --- converged with 0 iters --- took 0.00022513 mins\n",
      "\n",
      "Solving for component: O\n",
      "Transport stress period: 1 --- time step: 22 --- converged with 0 iters --- took 0.00024182 mins\n",
      "\n",
      "Solving for component: Charge\n",
      "Transport stress period: 1 --- time step: 22 --- converged with 0 iters --- took 0.00025847 mins\n",
      "\n",
      "Solving for component: C\n",
      "Transport stress period: 1 --- time step: 22 --- converged with 0 iters --- took 0.00027512 mins\n",
      "\n",
      "Solving for component: Ca\n",
      "Transport stress period: 1 --- time step: 22 --- converged with 0 iters --- took 0.00029178 mins\n",
      "\n",
      "Solving for component: Cl\n",
      "Transport stress period: 1 --- time step: 22 --- converged with 0 iters --- took 0.00030845 mins\n",
      "\n",
      "Solving for component: Mg\n",
      "Transport stress period: 1 --- time step: 22 --- converged with 0 iters --- took 0.00032512 mins\n",
      "\n",
      "Getting concentration arrays --- time step: 23 --- elapsed time: 0.22000000000000006\n",
      "\n",
      "Solving for component: H\n",
      "Transport stress period: 1 --- time step: 23 --- converged with 0 iters --- took 0.00023365 mins\n",
      "\n",
      "Solving for component: O\n",
      "Transport stress period: 1 --- time step: 23 --- converged with 0 iters --- took 0.00025032 mins\n",
      "\n",
      "Solving for component: Charge\n",
      "Transport stress period: 1 --- time step: 23 --- converged with 0 iters --- took 0.00026697 mins\n",
      "\n",
      "Solving for component: C\n",
      "Transport stress period: 1 --- time step: 23 --- converged with 0 iters --- took 0.00028363 mins\n",
      "\n",
      "Solving for component: Ca\n",
      "Transport stress period: 1 --- time step: 23 --- converged with 0 iters --- took  0.0003003 mins\n",
      "\n",
      "Solving for component: Cl\n",
      "Transport stress period: 1 --- time step: 23 --- converged with 0 iters --- took 0.00031697 mins\n",
      "\n",
      "Solving for component: Mg\n",
      "Transport stress period: 1 --- time step: 23 --- converged with 0 iters --- took 0.00033365 mins\n",
      "\n",
      "Getting concentration arrays --- time step: 24 --- elapsed time: 0.23000000000000007\n",
      "\n",
      "Solving for component: H\n",
      "Transport stress period: 1 --- time step: 24 --- converged with 0 iters --- took  0.0002418 mins\n",
      "\n",
      "Solving for component: O\n",
      "Transport stress period: 1 --- time step: 24 --- converged with 0 iters --- took 0.00026692 mins\n",
      "\n",
      "Solving for component: Charge\n",
      "Transport stress period: 1 --- time step: 24 --- converged with 0 iters --- took 0.00028238 mins\n",
      "\n",
      "Solving for component: C\n",
      "Transport stress period: 1 --- time step: 24 --- converged with 0 iters --- took 0.00029913 mins\n",
      "\n",
      "Solving for component: Ca\n",
      "Transport stress period: 1 --- time step: 24 --- converged with 0 iters --- took  0.0003158 mins\n",
      "\n",
      "Solving for component: Cl\n",
      "Transport stress period: 1 --- time step: 24 --- converged with 0 iters --- took 0.00033247 mins\n",
      "\n",
      "Solving for component: Mg\n",
      "Transport stress period: 1 --- time step: 24 --- converged with 0 iters --- took 0.00034913 mins\n",
      "\n",
      "...transport solution finished at 2024-05-22 10:09:08, took:  0.0086808 mins\n",
      "\n",
      "\n"
     ]
    }
   ],
   "source": [
    "# sim_ws = os.path.join('model', '1dtest', 'chloride')\n",
    "sim_ws = Path(\"model/engesgaard1992/\")\n",
    "dll = Path(\"bin/win/libmf6\")\n",
    "\n",
    "mf6 = modflowapi.ModflowApi(dll, working_directory = sim_ws)\n",
    "mf6.initialize()\n",
    "\n",
    "\n",
    "sim_start = datetime.now()\n",
    "print(\"...starting transport solution at {0}\".format(sim_start.strftime(DT_FMT)))\n",
    "# reset the node tracking containers\n",
    "\n",
    "# get the current sim time\n",
    "ctime = mf6.get_current_time()\n",
    "ctimes = [0.0]\n",
    "# get the ending sim time\n",
    "etime = mf6.get_end_time()\n",
    "# max number of solution iterations\n",
    "max_iter = mf6.get_value(mf6.get_var_address(\"MXITER\", \"SLN_2\"))\n",
    "num_fails = 0\n",
    "# let's do it!\n",
    "while ctime < etime:\n",
    "    sol_start = datetime.now()\n",
    "    # length of the current solve time\n",
    "    dt = mf6.get_time_step()\n",
    "    # prep the current time step\n",
    "    mf6.prepare_time_step(dt)\n",
    "    kiter = 0\n",
    "    # prep to solve\n",
    "    mf6.prepare_solve(1)\n",
    "    # the one-based stress period number\n",
    "    stress_period = mf6.get_value(mf6.get_var_address(\"KPER\", \"TDIS\"))[0]\n",
    "    time_step = mf6.get_value(mf6.get_var_address(\"KSTP\", \"TDIS\"))[0]\n",
    "\n",
    "    # array to store transported components\n",
    "    print(f'\\nGetting concentration arrays --- time step: {time_step} --- elapsed time: {ctime}')\n",
    "    mf6_conc_array = [mf6.get_value(mf6.get_var_address(\"X\", f'{c.upper()}')) for c in components]\n",
    "    c_dbl_vect = flatten_list(mf6_conc_array)\n",
    "\n",
    "    phreeqc_rm.SetScreenOn(True)\n",
    "    print_selected_output_on = (ctime == etime)\n",
    "    print_chemistry_on = (ctime == etime)\n",
    "    status = phreeqc_rm.SetSelectedOutputOn(True)\n",
    "    status = phreeqc_rm.SetPrintChemistryOn(print_chemistry_on, False, False) \n",
    "\n",
    "    status = phreeqc_rm.SetConcentrations(c_dbl_vect)  \n",
    "    message = 'Beginning reaction calculation               {} days\\n'.format(ctime)\n",
    "    phreeqc_rm.LogMessage(message)\n",
    "    phreeqc_rm.ScreenMessage(message)\n",
    "    status = phreeqc_rm.RunCells()\n",
    "\n",
    "    # Transfer data from PhreeqcRM for transport\n",
    "    #status = phreeqc_rm.GetConcentrations(c_dbl_vect)\n",
    "    c_dbl_vect = phreeqc_rm.GetConcentrations()\n",
    "\n",
    "    conc = [c_dbl_vect[i:i + n] for i in range(0, len(c_dbl_vect), n)]\n",
    "    sconc = {}\n",
    "    for e, c in enumerate(components):\n",
    "        sconc[c] = np.reshape(conc[e], (nlay, nrow, ncol))\n",
    "\n",
    "    # solve transport until converged\n",
    "    for c in components:\n",
    "        print(f'\\nSolving for component: {c}')\n",
    "        while kiter < max_iter:\n",
    "            # print(list(mf6_conc_array))\n",
    "            if c == 'mg':\n",
    "                mf6.set_value(f'{c.upper()}/X', sconc[c]+100)\n",
    "            else:\n",
    "                mf6.set_value(f'{c.upper()}/X', sconc[c])\n",
    "            convg = mf6.solve(1)\n",
    "            if convg:\n",
    "                td = (datetime.now() - sol_start).total_seconds() / 60.0\n",
    "                print(\"Transport stress period: {0} --- time step: {1} --- converged with {2} iters --- took {3:10.5G} mins\".format(stress_period, time_step, kiter,td))\n",
    "                break\n",
    "            kiter += 1\n",
    "\n",
    "    if not convg:\n",
    "        td = (datetime.now() - sol_start).total_seconds() / 60.0\n",
    "        print(\"transport stress period {0}, time step {1}, did not converged, {2} iters, took {3:10.5G} mins\".format(\n",
    "            stress_period, time_step, kiter, td))\n",
    "        num_fails += 1\n",
    "    try:\n",
    "        mf6.finalize_solve(1)\n",
    "    except:\n",
    "        pass\n",
    "    mf6.finalize_time_step()\n",
    "    # update the current time tracking\n",
    "    ctime = mf6.get_current_time()\n",
    "# sim = flopy.mf6.MFSimulation.load('engesgaard1992', 'mf6', 'mf6' , os.path.join('model', 'engesgaard1992'))\n",
    "# plot_concentrations(sim)\n",
    "sim_end = datetime.now()\n",
    "td = (sim_end - sim_start).total_seconds() / 60.0\n",
    "print(\"\\n...transport solution finished at {0}, took: {1:10.5G} mins\".format(sim_end.strftime(DT_FMT),td))\n",
    "if num_fails > 0:\n",
    "    print(\"...failed to converge {0} times\".format(num_fails))\n",
    "print(\"\\n\")\n",
    "status = phreeqc_rm.CloseFiles()\n",
    "status = phreeqc_rm.MpiWorkerBreak()\n",
    "mf6.finalize()"
   ]
  },
  {
   "cell_type": "code",
   "execution_count": 86,
   "metadata": {},
   "outputs": [
    {
     "data": {
      "text/plain": [
       "{'H': array([[[111569.812, 111569.812, 111569.812, 111569.812, 111569.812,\n",
       "          111569.812, 111569.812, 111569.812, 111569.812, 111569.812,\n",
       "          111569.812, 111569.812, 111569.812, 111569.812, 111569.812,\n",
       "          111569.812, 111569.812, 111569.812, 111569.812, 111569.812,\n",
       "          111569.812, 111569.812, 111569.812, 111569.812, 111569.812,\n",
       "          111569.812, 111569.812, 111569.812, 111569.812, 111569.812,\n",
       "          111569.812, 111569.812, 111569.812, 111569.812, 111569.812,\n",
       "          111569.812, 111569.812, 111569.812, 111569.812, 111569.812,\n",
       "          111569.812, 111569.812, 111569.812, 111569.812, 111569.812,\n",
       "          111569.812, 111569.812, 111569.812, 111569.812, 111569.812]]]),\n",
       " 'O': array([[[885480.57100003, 885480.57100003, 885480.57100003,\n",
       "          885480.57100003, 885480.57100003, 885480.57100003,\n",
       "          885480.57100003, 885480.57100003, 885480.57100003,\n",
       "          885480.57100003, 885480.57100003, 885480.57100003,\n",
       "          885480.57100003, 885480.57100003, 885480.57100003,\n",
       "          885480.57100003, 885480.57100003, 885480.57100003,\n",
       "          885480.57100003, 885480.57100003, 885480.57100003,\n",
       "          885480.57100003, 885480.57100003, 885480.57100003,\n",
       "          885480.57100003, 885480.57100003, 885480.57100003,\n",
       "          885480.57100003, 885480.57100003, 885480.57100003,\n",
       "          885480.57100003, 885480.57100003, 885480.57100003,\n",
       "          885480.57100003, 885480.57100003, 885480.57100003,\n",
       "          885480.57100003, 885480.57100003, 885480.57100003,\n",
       "          885480.57100003, 885480.57100003, 885480.57100003,\n",
       "          885480.57100003, 885480.57100003, 885480.57100003,\n",
       "          885480.57100003, 885480.57100003, 885480.57100003,\n",
       "          885480.57100003, 885480.57100003]]]),\n",
       " 'Charge': array([[[1.17773329e-05, 1.17773329e-05, 1.17773329e-05, 1.17773329e-05,\n",
       "          1.17773329e-05, 1.17773329e-05, 1.17773329e-05, 1.17773329e-05,\n",
       "          1.17773329e-05, 1.17773329e-05, 1.17773329e-05, 1.17773329e-05,\n",
       "          1.17773329e-05, 1.17773329e-05, 1.17773329e-05, 1.17773329e-05,\n",
       "          1.17773329e-05, 1.17773329e-05, 1.17773329e-05, 1.17773329e-05,\n",
       "          1.17773329e-05, 1.17773329e-05, 1.17773329e-05, 1.17773329e-05,\n",
       "          1.17773329e-05, 1.17773329e-05, 1.17773329e-05, 1.17773329e-05,\n",
       "          1.17773329e-05, 1.17773329e-05, 1.17773329e-05, 1.17773329e-05,\n",
       "          1.17773329e-05, 1.17773329e-05, 1.17773329e-05, 1.17773329e-05,\n",
       "          1.17773329e-05, 1.17773329e-05, 1.17773329e-05, 1.17773329e-05,\n",
       "          1.17773329e-05, 1.17773329e-05, 1.17773329e-05, 1.17773329e-05,\n",
       "          1.17773329e-05, 1.17773329e-05, 1.17773329e-05, 1.17773329e-05,\n",
       "          1.17773329e-05, 1.17773329e-05]]]),\n",
       " 'C': array([[[1.46989721, 1.46989721, 1.46989721, 1.46989721, 1.46989721,\n",
       "          1.46989721, 1.46989721, 1.46989721, 1.46989721, 1.46989721,\n",
       "          1.46989721, 1.46989721, 1.46989721, 1.46989721, 1.46989721,\n",
       "          1.46989721, 1.46989721, 1.46989721, 1.46989721, 1.46989721,\n",
       "          1.46989721, 1.46989721, 1.46989721, 1.46989721, 1.46989721,\n",
       "          1.46989721, 1.46989721, 1.46989721, 1.46989721, 1.46989721,\n",
       "          1.46989721, 1.46989721, 1.46989721, 1.46989721, 1.46989721,\n",
       "          1.46989721, 1.46989721, 1.46989721, 1.46989721, 1.46989721,\n",
       "          1.46989721, 1.46989721, 1.46989721, 1.46989721, 1.46989721,\n",
       "          1.46989721, 1.46989721, 1.46989721, 1.46989721, 1.46989721]]]),\n",
       " 'Ca': array([[[4.90491961, 4.90491961, 4.90491961, 4.90491961, 4.90491961,\n",
       "          4.90491961, 4.90491961, 4.90491961, 4.90491961, 4.90491961,\n",
       "          4.90491961, 4.90491961, 4.90491961, 4.90491961, 4.90491961,\n",
       "          4.90491961, 4.90491961, 4.90491961, 4.90491961, 4.90491961,\n",
       "          4.90491961, 4.90491961, 4.90491961, 4.90491961, 4.90491961,\n",
       "          4.90491961, 4.90491961, 4.90491961, 4.90491961, 4.90491961,\n",
       "          4.90491961, 4.90491961, 4.90491961, 4.90491961, 4.90491961,\n",
       "          4.90491961, 4.90491961, 4.90491961, 4.90491961, 4.90491961,\n",
       "          4.90491961, 4.90491961, 4.90491961, 4.90491961, 4.90491961,\n",
       "          4.90491961, 4.90491961, 4.90491961, 4.90491961, 4.90491961]]]),\n",
       " 'Cl': array([[[0.00353482, 0.00353482, 0.00353482, 0.00353482, 0.00353482,\n",
       "          0.00353482, 0.00353482, 0.00353482, 0.00353482, 0.00353482,\n",
       "          0.00353482, 0.00353482, 0.00353482, 0.00353482, 0.00353482,\n",
       "          0.00353482, 0.00353482, 0.00353482, 0.00353482, 0.00353482,\n",
       "          0.00353482, 0.00353482, 0.00353482, 0.00353482, 0.00353482,\n",
       "          0.00353482, 0.00353482, 0.00353482, 0.00353482, 0.00353482,\n",
       "          0.00353482, 0.00353482, 0.00353482, 0.00353482, 0.00353482,\n",
       "          0.00353482, 0.00353482, 0.00353482, 0.00353482, 0.00353482,\n",
       "          0.00353482, 0.00353482, 0.00353482, 0.00353482, 0.00353482,\n",
       "          0.00353482, 0.00353482, 0.00353482, 0.00353482, 0.00353482]]]),\n",
       " 'Mg': array([[[0., 0., 0., 0., 0., 0., 0., 0., 0., 0., 0., 0., 0., 0., 0., 0.,\n",
       "          0., 0., 0., 0., 0., 0., 0., 0., 0., 0., 0., 0., 0., 0., 0., 0.,\n",
       "          0., 0., 0., 0., 0., 0., 0., 0., 0., 0., 0., 0., 0., 0., 0., 0.,\n",
       "          0., 0.]]])}"
      ]
     },
     "execution_count": 86,
     "metadata": {},
     "output_type": "execute_result"
    }
   ],
   "source": [
    "[c_dbl_vect[i:i + n] for i in range(0, len(c_dbl_vect), n)]\n",
    "sconc"
   ]
  },
  {
   "cell_type": "code",
   "execution_count": 87,
   "metadata": {},
   "outputs": [
    {
     "name": "stdout",
     "output_type": "stream",
     "text": [
      "saving figures for engesgaard1992\n",
      "saving figures for component: h\n",
      "saving figures for component: o\n",
      "saving figures for component: charge\n",
      "saving figures for component: c\n",
      "saving figures for component: ca\n",
      "saving figures for component: cl\n",
      "saving figures for component: mg\n"
     ]
    }
   ],
   "source": [
    "sim = flopy.mf6.MFSimulation.load('engesgaard1992', 'mf6', 'mf6', sim_ws, verbosity_level=0)\n",
    "\n",
    "sim.model_names\n",
    "plot_concentrations(sim)"
   ]
  },
  {
   "cell_type": "code",
   "execution_count": 25,
   "metadata": {},
   "outputs": [
    {
     "data": {
      "text/plain": [
       "['h', 'o', 'charge', 'c', 'ca', 'cl', 'mg']"
      ]
     },
     "execution_count": 25,
     "metadata": {},
     "output_type": "execute_result"
    }
   ],
   "source": []
  },
  {
   "cell_type": "markdown",
   "metadata": {},
   "source": [
    "# Engesgaard 1992 - PHT3D"
   ]
  },
  {
   "cell_type": "code",
   "execution_count": 21,
   "metadata": {},
   "outputs": [
    {
     "data": {
      "text/html": [
       "<div>\n",
       "<style scoped>\n",
       "    .dataframe tbody tr th:only-of-type {\n",
       "        vertical-align: middle;\n",
       "    }\n",
       "\n",
       "    .dataframe tbody tr th {\n",
       "        vertical-align: top;\n",
       "    }\n",
       "\n",
       "    .dataframe thead th {\n",
       "        text-align: right;\n",
       "    }\n",
       "</style>\n",
       "<table border=\"1\" class=\"dataframe\">\n",
       "  <thead>\n",
       "    <tr style=\"text-align: right;\">\n",
       "      <th></th>\n",
       "      <th>cell</th>\n",
       "      <th>pH</th>\n",
       "      <th>pe</th>\n",
       "      <th>Ca</th>\n",
       "      <th>Cl</th>\n",
       "      <th>C4</th>\n",
       "      <th>Mg</th>\n",
       "      <th>Calcite</th>\n",
       "      <th>Dolomite</th>\n",
       "      <th>x</th>\n",
       "    </tr>\n",
       "    <tr>\n",
       "      <th>time_d</th>\n",
       "      <th></th>\n",
       "      <th></th>\n",
       "      <th></th>\n",
       "      <th></th>\n",
       "      <th></th>\n",
       "      <th></th>\n",
       "      <th></th>\n",
       "      <th></th>\n",
       "      <th></th>\n",
       "      <th></th>\n",
       "    </tr>\n",
       "  </thead>\n",
       "  <tbody>\n",
       "    <tr>\n",
       "      <th>0.01</th>\n",
       "      <td>1.0</td>\n",
       "      <td>9.7017</td>\n",
       "      <td>-6.5533</td>\n",
       "      <td>0.000131</td>\n",
       "      <td>0.001121</td>\n",
       "      <td>0.0</td>\n",
       "      <td>0.000515</td>\n",
       "      <td>0.000000</td>\n",
       "      <td>0.000045</td>\n",
       "      <td>0.01</td>\n",
       "    </tr>\n",
       "    <tr>\n",
       "      <th>0.01</th>\n",
       "      <td>2.0</td>\n",
       "      <td>9.8379</td>\n",
       "      <td>-6.7482</td>\n",
       "      <td>0.000165</td>\n",
       "      <td>0.000373</td>\n",
       "      <td>0.0</td>\n",
       "      <td>0.000130</td>\n",
       "      <td>0.000000</td>\n",
       "      <td>0.000057</td>\n",
       "      <td>0.02</td>\n",
       "    </tr>\n",
       "    <tr>\n",
       "      <th>0.01</th>\n",
       "      <td>3.0</td>\n",
       "      <td>9.9058</td>\n",
       "      <td>-6.8288</td>\n",
       "      <td>0.000125</td>\n",
       "      <td>0.000092</td>\n",
       "      <td>0.0</td>\n",
       "      <td>0.000046</td>\n",
       "      <td>0.000115</td>\n",
       "      <td>0.000000</td>\n",
       "      <td>0.03</td>\n",
       "    </tr>\n",
       "    <tr>\n",
       "      <th>0.01</th>\n",
       "      <td>4.0</td>\n",
       "      <td>9.9087</td>\n",
       "      <td>-6.8347</td>\n",
       "      <td>0.000123</td>\n",
       "      <td>0.000024</td>\n",
       "      <td>0.0</td>\n",
       "      <td>0.000012</td>\n",
       "      <td>0.000120</td>\n",
       "      <td>0.000000</td>\n",
       "      <td>0.04</td>\n",
       "    </tr>\n",
       "    <tr>\n",
       "      <th>0.01</th>\n",
       "      <td>5.0</td>\n",
       "      <td>9.9095</td>\n",
       "      <td>-6.8362</td>\n",
       "      <td>0.000123</td>\n",
       "      <td>0.000007</td>\n",
       "      <td>0.0</td>\n",
       "      <td>0.000003</td>\n",
       "      <td>0.000122</td>\n",
       "      <td>0.000000</td>\n",
       "      <td>0.05</td>\n",
       "    </tr>\n",
       "  </tbody>\n",
       "</table>\n",
       "</div>"
      ],
      "text/plain": [
       "        cell      pH      pe        Ca        Cl   C4        Mg   Calcite  \\\n",
       "time_d                                                                      \n",
       "0.01     1.0  9.7017 -6.5533  0.000131  0.001121  0.0  0.000515  0.000000   \n",
       "0.01     2.0  9.8379 -6.7482  0.000165  0.000373  0.0  0.000130  0.000000   \n",
       "0.01     3.0  9.9058 -6.8288  0.000125  0.000092  0.0  0.000046  0.000115   \n",
       "0.01     4.0  9.9087 -6.8347  0.000123  0.000024  0.0  0.000012  0.000120   \n",
       "0.01     5.0  9.9095 -6.8362  0.000123  0.000007  0.0  0.000003  0.000122   \n",
       "\n",
       "        Dolomite     x  \n",
       "time_d                  \n",
       "0.01    0.000045  0.01  \n",
       "0.01    0.000057  0.02  \n",
       "0.01    0.000000  0.03  \n",
       "0.01    0.000000  0.04  \n",
       "0.01    0.000000  0.05  "
      ]
     },
     "execution_count": 21,
     "metadata": {},
     "output_type": "execute_result"
    }
   ],
   "source": [
    "wd = os.path.join('benchmark', 'pht3d')\n",
    "dx = 0.01\n",
    "simdf = pd.read_csv(os.path.join(wd, 'out.dat'), sep = '\\t', skipinitialspace=True, index_col=[0])\n",
    "simdf.drop(simdf.columns[len(simdf.columns)-1], axis=1, inplace=True)\n",
    "# simdf.columns = [col.lower() for col in simdf.columns]\n",
    "simdf.loc[:, 'x'] = simdf['cell'] * dx \n",
    "simdf.head()\n"
   ]
  },
  {
   "cell_type": "code",
   "execution_count": 22,
   "metadata": {},
   "outputs": [
    {
     "name": "stderr",
     "output_type": "stream",
     "text": [
      "c:\\Users\\portega\\anaconda3\\envs\\mf6rtm\\lib\\site-packages\\IPython\\core\\pylabtools.py:77: DeprecationWarning: backend2gui is deprecated since IPython 8.24, backends are managed in matplotlib and can be externally registered.\n",
      "c:\\Users\\portega\\anaconda3\\envs\\mf6rtm\\lib\\site-packages\\IPython\\core\\pylabtools.py:77: DeprecationWarning: backend2gui is deprecated since IPython 8.24, backends are managed in matplotlib and can be externally registered.\n",
      "c:\\Users\\portega\\anaconda3\\envs\\mf6rtm\\lib\\site-packages\\IPython\\core\\pylabtools.py:77: DeprecationWarning: backend2gui is deprecated since IPython 8.24, backends are managed in matplotlib and can be externally registered.\n"
     ]
    },
    {
     "data": {
      "image/png": "[encoded data removed]",
      "text/plain": [
       "<Figure size 630x830 with 8 Axes>"
      ]
     },
     "metadata": {},
     "output_type": "display_data"
    }
   ],
   "source": [
    "fig, axs = plt.subplots(4,2, figsize = (6.3, 8.3))\n",
    "t = 0.24\n",
    "for var, ax in zip(simdf.iloc[:,1:-1 ].columns, axs.flatten()):\n",
    "    ax.plot(simdf.x.unique(), simdf.loc[t, var])\n",
    "    ax.set_xlabel('distance (m)')\n",
    "    if var not in ['ph', 'pe']:\n",
    "        ax.set_ylabel('C (mol L$^{-1}$)')\n",
    "    ax.set_title(f'{var}')\n",
    "\n",
    "fig.tight_layout()"
   ]
  },
  {
   "cell_type": "code",
   "execution_count": 27,
   "metadata": {},
   "outputs": [
    {
     "data": {
      "text/plain": [
       "<Axes: xlabel='x'>"
      ]
     },
     "execution_count": 27,
     "metadata": {},
     "output_type": "execute_result"
    },
    {
     "data": {
      "image/png": "[encoded data removed]",
      "text/plain": [
       "<Figure size 640x480 with 1 Axes>"
      ]
     },
     "metadata": {},
     "output_type": "display_data"
    },
    {
     "data": {
      "image/png": "[encoded data removed]",
      "text/plain": [
       "<Figure size 640x480 with 1 Axes>"
      ]
     },
     "metadata": {},
     "output_type": "display_data"
    }
   ],
   "source": [
    "simdf.loc[0.24, ['x','Calcite']].pivot_table(index='x', columns = 'time_d').plot();\n",
    "simdf.loc[0.24, ['x','Mg']].pivot_table(index='x', columns = 'time_d').plot() "
   ]
  },
  {
   "cell_type": "markdown",
   "metadata": {},
   "source": [
    "# Engesgaard 1992 - MF6RTM"
   ]
  },
  {
   "cell_type": "code",
   "execution_count": 81,
   "metadata": {},
   "outputs": [
    {
     "data": {
      "image/png": "[encoded data removed]",
      "text/plain": [
       "<Figure size 630x320 with 6 Axes>"
      ]
     },
     "metadata": {},
     "output_type": "display_data"
    }
   ],
   "source": [
    "sim_ws = os.path.join('model', 'engesgaard1992')\n",
    "sim = flopy.mf6.MFSimulation.load('engesgaard1992', 'mf6', 'mf6', sim_ws, verbosity_level=0)\n",
    "\n",
    "comp = sim.model_names[1:]\n",
    "comp = [c.capitalize() for c in comp if c !='o']\n",
    "comp\n",
    "\n",
    "dist_arr = np.arange(0, 50*dx, dx)\n",
    "gwf = sim.get_model('gwf')\n",
    "\n",
    "fig, axs = plt.subplots(2, 3, figsize=(6.3,3.2))\n",
    "for ax, c in zip(axs.flatten(), comp):\n",
    "        ucn = flopy.utils.HeadFile(os.path.join(\"model\",sim.name,f\"{c}.ucn\"),text=f\"concentration\")\n",
    "        results = ucn.get_alldata()\n",
    "        # results = gwf.output.concentration().get_alldata()\n",
    "        times = gwf.output.concentration().get_times()\n",
    "\n",
    "        tf = times[-1]\n",
    "        r_tf = results[0, 0, 0,:]\n",
    "        ax.plot(dist_arr, r_tf)\n",
    "\n",
    "fig.tight_layout()"
   ]
  },
  {
   "cell_type": "code",
   "execution_count": 84,
   "metadata": {},
   "outputs": [
    {
     "data": {
      "text/plain": [
       "['H', 'Charge', 'C', 'Ca', 'Cl', 'Mg']"
      ]
     },
     "execution_count": 84,
     "metadata": {},
     "output_type": "execute_result"
    }
   ],
   "source": [
    "comp"
   ]
  },
  {
   "cell_type": "code",
   "execution_count": 71,
   "metadata": {},
   "outputs": [
    {
     "data": {
      "text/plain": [
       "50"
      ]
     },
     "execution_count": 71,
     "metadata": {},
     "output_type": "execute_result"
    },
    {
     "data": {
      "image/png": "[encoded data removed]",
      "text/plain": [
       "<Figure size 640x480 with 1 Axes>"
      ]
     },
     "metadata": {},
     "output_type": "display_data"
    }
   ],
   "source": [
    "dist_arr = np.arange(0, 50*dx, dx)\n",
    "plt.plot(dist_arr, results[-1, 0, 0,:])\n",
    "len(dist_arr)"
   ]
  }
 ],
 "metadata": {
  "kernelspec": {
   "display_name": "mf6rtm",
   "language": "python",
   "name": "python3"
  },
  "language_info": {
   "codemirror_mode": {
    "name": "ipython",
    "version": 3
   },
   "file_extension": ".py",
   "mimetype": "text/x-python",
   "name": "python",
   "nbconvert_exporter": "python",
   "pygments_lexer": "ipython3",
   "version": "3.10.14"
  }
 },
 "nbformat": 4,
 "nbformat_minor": 2
}
