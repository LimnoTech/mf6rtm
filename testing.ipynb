{
 "cells": [
  {
   "cell_type": "markdown",
   "metadata": {},
   "source": [
    "# TESTS"
   ]
  },
  {
   "cell_type": "code",
   "execution_count": 16,
   "metadata": {},
   "outputs": [],
   "source": [
    "from pathlib import Path\n",
    "import os\n",
    "import modflowapi\n",
    "from modflowapi import Callbacks\n",
    "from workflow import *\n",
    "from datetime import datetime\n",
    "\n",
    "DT_FMT = \"%Y-%m-%d %H:%M:%S\"\n"
   ]
  },
  {
   "cell_type": "code",
   "execution_count": null,
   "metadata": {},
   "outputs": [],
   "source": []
  },
  {
   "cell_type": "code",
   "execution_count": null,
   "metadata": {},
   "outputs": [],
   "source": []
  },
  {
   "cell_type": "code",
   "execution_count": 4,
   "metadata": {},
   "outputs": [],
   "source": [
    "# sim = build_model(ws = 'model', sim_name = 'engesgaard1992')\n",
    "# strt\n"
   ]
  },
  {
   "cell_type": "code",
   "execution_count": 5,
   "metadata": {},
   "outputs": [],
   "source": [
    "# sim_ws = os.path.join('model', '1dtest', 'chloride')\n",
    "sim_ws = Path(\"model/engesgaard1992/\")\n",
    "dll = Path(\"bin/win/libmf6\")"
   ]
  },
  {
   "cell_type": "code",
   "execution_count": null,
   "metadata": {},
   "outputs": [],
   "source": [
    "def try_get_value(address, mf6):\n",
    "    try:\n",
    "        res = mf6.get_value(address)\n",
    "        return res\n",
    "    except:\n",
    "        res = 'failed'\n",
    "        return res"
   ]
  },
  {
   "cell_type": "code",
   "execution_count": 11,
   "metadata": {},
   "outputs": [],
   "source": [
    "mf6 = modflowapi.ModflowApi(dll, working_directory = sim_ws)\n",
    "mf6.initialize()\n",
    "# current_time = mf6.get_current_time()\n",
    "# end_time = mf6.get_end_time()\n",
    "all_vars = mf6.get_input_var_names() \n",
    "\n",
    "# var_add = \n",
    "\n",
    "# try:\n",
    "#     mf6.finalize()\n",
    "#     success=True\n",
    "# except:\n",
    "#     raise RuntimeError"
   ]
  },
  {
   "cell_type": "code",
   "execution_count": 16,
   "metadata": {},
   "outputs": [
    {
     "data": {
      "text/plain": [
       "['__INPUT__',\n",
       " 'GWF-GWT_4',\n",
       " 'SLN_7',\n",
       " 'TMPSLN_1',\n",
       " 'GWF-GWT_2',\n",
       " 'C',\n",
       " 'SLN_8',\n",
       " 'SLN_5',\n",
       " 'SLN_3',\n",
       " 'MG',\n",
       " 'TMPSLN_2',\n",
       " 'H',\n",
       " 'CHARGE',\n",
       " 'O',\n",
       " 'GWF-GWT_6',\n",
       " 'TMPSLN_8',\n",
       " 'TDIS',\n",
       " 'SLN_4',\n",
       " 'TMPSLN_4',\n",
       " 'CL',\n",
       " 'SLN_6',\n",
       " 'CA',\n",
       " 'GWF-GWT_7',\n",
       " 'GWF',\n",
       " 'TMPSLN_3',\n",
       " 'SLN_2',\n",
       " 'SLN_1',\n",
       " 'GWF-GWT_1',\n",
       " 'TMPSLN_5',\n",
       " 'TMPSLN_6',\n",
       " 'GWF-GWT_5',\n",
       " 'TMPSLN_7',\n",
       " 'GWF-GWT_3']"
      ]
     },
     "execution_count": 16,
     "metadata": {},
     "output_type": "execute_result"
    }
   ],
   "source": [
    "list(set([var.split('/')[0] for var in all_vars]))"
   ]
  },
  {
   "cell_type": "code",
   "execution_count": null,
   "metadata": {},
   "outputs": [],
   "source": [
    "# current_time, end_time\n",
    "\n",
    "# all_vars\n",
    "df_vars = pd.DataFrame(all_vars)[0].str.split('/', expand=True)\n",
    "df_vars['addr'] = all_vars\n",
    "df_vars.to_csv('vars.csv')"
   ]
  },
  {
   "cell_type": "code",
   "execution_count": null,
   "metadata": {},
   "outputs": [],
   "source": [
    "val = mf6.get_value(mf6.get_var_address(\"x\", 'SODIUM'))\n",
    "val += 1\n",
    "\n",
    "# val = val + 1\n",
    "val += 1\n",
    "# mf6.get_value(mf6.get_var_address(\"x\", 'SODIUM')) = val"
   ]
  },
  {
   "cell_type": "code",
   "execution_count": null,
   "metadata": {},
   "outputs": [],
   "source": [
    "mf6.finalize()\n",
    "val"
   ]
  },
  {
   "cell_type": "code",
   "execution_count": null,
   "metadata": {},
   "outputs": [],
   "source": [
    "\n",
    "mf6 = modflowapi.ModflowApi(dll, working_directory = sim_ws)\n",
    "mf6.initialize()\n",
    "\n",
    "sim_start = datetime.now()\n",
    "print(\"...starting transport solution at {0}\".format(sim_start.strftime(DT_FMT)))\n",
    "# reset the node tracking containers\n",
    "\n",
    "# get the current sim time\n",
    "ctime = mf6.get_current_time()\n",
    "ctimes = [0.0]\n",
    "# get the ending sim time\n",
    "etime = mf6.get_end_time()\n",
    "# max number of solution iterations\n",
    "max_iter = mf6.get_value(mf6.get_var_address(\"MXITER\", \"SLN_1\"))\n",
    "num_fails = 0\n",
    "# let's do it!\n",
    "while ctime < etime:\n",
    "    sol_start = datetime.now()\n",
    "    # length of the current solve time\n",
    "    dt = mf6.get_time_step()\n",
    "    # prep the current time step\n",
    "    mf6.prepare_time_step(dt)\n",
    "    kiter = 0\n",
    "    # prep to solve\n",
    "    mf6.prepare_solve(1)\n",
    "    # the one-based stress period number\n",
    "    stress_period = mf6.get_value(mf6.get_var_address(\"KPER\", \"TDIS\"))[0]\n",
    "    time_step = mf6.get_value(mf6.get_var_address(\"KSTP\", \"TDIS\"))[0]\n",
    "\n",
    "    # solve until converged\n",
    "    while kiter < max_iter:\n",
    "        # apply whatever change we want here\n",
    "        # val = mf6.get_value(mf6.get_var_address(\"x\", 'SODIUM'))\n",
    "        # val += 1\n",
    "        convg = mf6.solve(1)\n",
    "        if convg:\n",
    "            td = (datetime.now() - sol_start).total_seconds() / 60.0\n",
    "            print(\"transport stress period,time step {0},{1} converged with {2} iters, took {3:10.5G} mins\".format(stress_period, time_step, kiter,td))\n",
    "            break\n",
    "        kiter += 1\n",
    "\n",
    "    if not convg:\n",
    "        td = (datetime.now() - sol_start).total_seconds() / 60.0\n",
    "        print(\"transport stress period,time step {0},{1} did not converged, {2} iters, took {3:10.5G} mins\".format(\n",
    "            stress_period, time_step, kiter, td))\n",
    "        num_fails += 1\n",
    "mf6.finalize()\n"
   ]
  },
  {
   "cell_type": "code",
   "execution_count": null,
   "metadata": {},
   "outputs": [],
   "source": []
  },
  {
   "cell_type": "code",
   "execution_count": null,
   "metadata": {},
   "outputs": [],
   "source": [
    "def callback_function(sim, callback_step):\n",
    "    \"\"\"\n",
    "    A demonstration function that dynamically adjusts recharge\n",
    "    and pumping in a modflow-6 model through the MODFLOW-API\n",
    "\n",
    "    Parameters\n",
    "    ----------\n",
    "    sim : modflowapi.ApiSimulation\n",
    "        A simulation object for the solution group that is\n",
    "        currently being solved\n",
    "    step : enumeration\n",
    "        modflowapi.Callbacks enumeration object that indicates\n",
    "        the part of the solution modflow is currently in.\n",
    "    \"\"\"\n",
    "    ml = sim.get_model()\n",
    "    if callback_step == Callbacks.initialize:\n",
    "        print(sim.models)\n",
    "\n",
    "    # if callback_step == Callbacks.stress_period_start:\n",
    "    #     # adjust recharge for stress periods 7 through 12\n",
    "    #     if sim.kper <= 6:\n",
    "    #         rcha = ml.rcha_0\n",
    "    #         spd = rcha.stress_period_data\n",
    "    #         print(f\"updating recharge: stress_period={ml.kper}\")\n",
    "    #         spd[\"recharge\"] += 0.40 * sim.kper\n",
    "\n",
    "    if callback_step == Callbacks.timestep_start:\n",
    "        print(\n",
    "            f\"Testing: stress_period={ml.kper}, timestep={ml.kstp}\", ml.kstp\n",
    "        )\n",
    "        if ml.kstp != 2:\n",
    "            ml.wel.stress_period_data[\"q\"] *= 1/ml.kstp\n",
    "            # ml.wel.stress_period_data['CONCENTRATION'] = 100000000\n",
    "            # print('..........................', ml.wel.stress_period_data['CONCENTRATION'])\n",
    "        else:\n",
    "            ml.wel.stress_period_data['q'] = 0\n",
    "        # if ml.kstp ==2:\n",
    "            \n",
    "    if callback_step == Callbacks.iteration_start:\n",
    "        # we can implement complex solutions to boundary conditions here!\n",
    "        pass\n",
    "    # return wel\n",
    "\n",
    "# modflowapi.run_simulation(dll, sim_ws, callback_function, verbose=True)\n"
   ]
  },
  {
   "cell_type": "code",
   "execution_count": null,
   "metadata": {},
   "outputs": [],
   "source": [
    "ucn = flopy.utils.HeadFile(os.path.join(\"model\",'engesgaard1992',\"sodium.ucn\"),text=\"concentration\")\n",
    "carr = ucn.get_alldata()"
   ]
  },
  {
   "cell_type": "code",
   "execution_count": null,
   "metadata": {},
   "outputs": [],
   "source": [
    "# carr[0][0]\n",
    "carr[-1,0,0,:]"
   ]
  },
  {
   "cell_type": "markdown",
   "metadata": {},
   "source": [
    "# PHREEQCRM TEST"
   ]
  },
  {
   "cell_type": "code",
   "execution_count": 5,
   "metadata": {},
   "outputs": [],
   "source": [
    "import phreeqcrm\n",
    "import numpy as np\n",
    "import sys\n",
    "import pandas as pd\n",
    "from pathlib import Path\n",
    "import os\n",
    "import modflowapi\n",
    "from modflowapi import Callbacks\n",
    "from workflow import *\n",
    "from datetime import datetime\n"
   ]
  },
  {
   "cell_type": "code",
   "execution_count": 20,
   "metadata": {},
   "outputs": [
    {
     "data": {
      "text/plain": [
       "True"
      ]
     },
     "execution_count": 20,
     "metadata": {},
     "output_type": "execute_result"
    }
   ],
   "source": [
    "print_selected_output_on = True\n",
    "print_selected_output_on"
   ]
  },
  {
   "cell_type": "code",
   "execution_count": 16,
   "metadata": {},
   "outputs": [],
   "source": [
    "nxyz = 50\n",
    "nthreads = 1\n",
    "phreeqc_rm = phreeqcrm.PhreeqcRM(nxyz, nthreads)\n",
    "\n",
    "status = phreeqc_rm.SetComponentH2O(False)\n",
    "phreeqc_rm.UseSolutionDensityVolume(False)\n",
    "status = phreeqc_rm.SetFilePrefix(\"engesgaard1992\")\n",
    "phreeqc_rm.OpenFiles()\n",
    "poro = np.full((nxyz), .1)\n",
    "status = phreeqc_rm.SetPorosity(poro)\n",
    "\n",
    "print_chemistry_mask = np.full((nxyz), 1)\n",
    "status = phreeqc_rm.SetPrintChemistryMask(print_chemistry_mask)\n",
    "nchem = phreeqc_rm.GetChemistryCellCount()\n",
    "nchem\n",
    "\n",
    "# init_file = 'phinp.dat'\n",
    "init_file = 'advect.pqi'\n",
    "\n",
    "# Load database\n",
    "databasews = os.path.join(\"database\", \"pht3d_datab.dat\")\n",
    "status = phreeqc_rm.LoadDatabase(databasews)\n",
    "status = phreeqc_rm.RunFile(True, True, True, init_file)# Clear contents of workers and utility\n",
    "input = \"DELETE; -all\"\n",
    "status = phreeqc_rm.RunString(True, False, True, input)\n",
    "\n",
    "ncomps = phreeqc_rm.FindComponents()\n",
    "ncomps\n",
    "\n",
    "components = phreeqc_rm.GetComponents()\n",
    "components\n",
    "\n",
    "for comp in components:\n",
    "    phreeqc_rm.OutputMessage(comp)\n",
    "phreeqc_rm.OutputMessage(\"\\n\")"
   ]
  },
  {
   "cell_type": "code",
   "execution_count": 8,
   "metadata": {},
   "outputs": [],
   "source": []
  },
  {
   "cell_type": "code",
   "execution_count": 9,
   "metadata": {},
   "outputs": [
    {
     "data": {
      "text/plain": [
       "(50,)"
      ]
     },
     "execution_count": 9,
     "metadata": {},
     "output_type": "execute_result"
    }
   ],
   "source": []
  },
  {
   "cell_type": "code",
   "execution_count": 10,
   "metadata": {},
   "outputs": [
    {
     "data": {
      "text/plain": [
       "50"
      ]
     },
     "execution_count": 10,
     "metadata": {},
     "output_type": "execute_result"
    }
   ],
   "source": []
  },
  {
   "cell_type": "code",
   "execution_count": 13,
   "metadata": {},
   "outputs": [
    {
     "data": {
      "text/plain": [
       "('H', 'O', 'Charge', 'C', 'Ca', 'Cl', 'K', 'Mg', 'N', 'Na')"
      ]
     },
     "execution_count": 13,
     "metadata": {},
     "output_type": "execute_result"
    }
   ],
   "source": []
  },
  {
   "cell_type": "code",
   "execution_count": 72,
   "metadata": {},
   "outputs": [],
   "source": [
    "\n",
    "\n",
    "for comp in components:\n",
    "    phreeqc_rm.OutputMessage(comp)\n",
    "phreeqc_rm.OutputMessage(\"\\n\")\n",
    "\n",
    "ic1 = [-1] * nxyz * 7 \n",
    "ic1\n",
    "for i in range(nxyz):\n",
    "    ic1[i]            =  1  # Solution 1\n",
    "    ic1[nxyz + i]     = 1  # Equilibrium phases none\n",
    "    ic1[2 * nxyz + i] =  -1  # Exchange 1\n",
    "    ic1[3 * nxyz + i] = -1  # Surface none\n",
    "    ic1[4 * nxyz + i] = -1  # Gas phase none\n",
    "    ic1[5 * nxyz + i] = -1  # Solid solutions none\n",
    "    ic1[6 * nxyz + i] = -1  # Kinetics none\n",
    "\n",
    "status = phreeqc_rm.InitialPhreeqc2Module(ic1)\n",
    "\n",
    "# Initial equilibration of cells\n",
    "time = 0.0\n",
    "time_step = 0.0\n",
    "status = phreeqc_rm.SetTime(time)\n",
    "status = phreeqc_rm.SetTimeStep(time_step)\n",
    "status = phreeqc_rm.RunCells()\n"
   ]
  },
  {
   "cell_type": "code",
   "execution_count": 73,
   "metadata": {},
   "outputs": [],
   "source": [
    "status\n",
    "\n",
    "c_dbl_vect = phreeqc_rm.GetConcentrations()\n"
   ]
  },
  {
   "cell_type": "code",
   "execution_count": 74,
   "metadata": {},
   "outputs": [
    {
     "data": {
      "text/plain": [
       "(350, ('H', 'O', 'Charge', 'C', 'Ca', 'Cl', 'Mg'))"
      ]
     },
     "execution_count": 74,
     "metadata": {},
     "output_type": "execute_result"
    }
   ],
   "source": [
    "#ncomp * ncell\n",
    "\n",
    "ncomps*nxyz, components\n"
   ]
  },
  {
   "cell_type": "code",
   "execution_count": 75,
   "metadata": {},
   "outputs": [
    {
     "data": {
      "text/plain": [
       "array([], dtype=float64)"
      ]
     },
     "execution_count": 75,
     "metadata": {},
     "output_type": "execute_result"
    }
   ],
   "source": [
    "phreeqc_rm.GetSpeciesNames()\n",
    "phreeqc_rm.GetSpeciesConcentrations()"
   ]
  },
  {
   "cell_type": "code",
   "execution_count": 76,
   "metadata": {},
   "outputs": [
    {
     "data": {
      "text/plain": [
       "('CH4',\n",
       " 'CO2',\n",
       " 'CO3-2',\n",
       " 'Ca+2',\n",
       " 'CaCO3',\n",
       " 'CaHCO3+',\n",
       " 'CaOH+',\n",
       " 'Cl-',\n",
       " 'H+',\n",
       " 'H2',\n",
       " 'H2O',\n",
       " 'H2O-0.01',\n",
       " 'HCO3-',\n",
       " 'Mg+2',\n",
       " 'MgCO3',\n",
       " 'MgHCO3+',\n",
       " 'MgOH+',\n",
       " 'O2',\n",
       " 'OH-')"
      ]
     },
     "execution_count": 76,
     "metadata": {},
     "output_type": "execute_result"
    }
   ],
   "source": [
    "phreeqc_rm.GetSpeciesNames()\n"
   ]
  },
  {
   "cell_type": "code",
   "execution_count": null,
   "metadata": {},
   "outputs": [],
   "source": []
  },
  {
   "cell_type": "code",
   "execution_count": 77,
   "metadata": {},
   "outputs": [
    {
     "data": {
      "text/plain": [
       "('Calcite', 'Dolomite')"
      ]
     },
     "execution_count": 77,
     "metadata": {},
     "output_type": "execute_result"
    }
   ],
   "source": [
    "phreeqc_rm.GetDatabaseFileName()\n",
    "components\n",
    "phreeqc_rm.GetEquilibriumPhases()\n",
    "# phreeqc_rm.SetConcentrations()"
   ]
  },
  {
   "cell_type": "code",
   "execution_count": 78,
   "metadata": {},
   "outputs": [
    {
     "data": {
      "text/plain": [
       "('H', 'O', 'Charge', 'C', 'Ca', 'Cl', 'Mg')"
      ]
     },
     "execution_count": 78,
     "metadata": {},
     "output_type": "execute_result"
    }
   ],
   "source": [
    "components"
   ]
  },
  {
   "cell_type": "code",
   "execution_count": 79,
   "metadata": {},
   "outputs": [],
   "source": [
    "# status\n",
    "c_dbl_vect = phreeqc_rm.GetConcentrations()"
   ]
  },
  {
   "cell_type": "code",
   "execution_count": 80,
   "metadata": {},
   "outputs": [
    {
     "name": "stdout",
     "output_type": "stream",
     "text": [
      "float64\n",
      "float64\n",
      "float64\n",
      "float64\n",
      "float64\n",
      "float64\n",
      "float64\n"
     ]
    }
   ],
   "source": [
    "nlay = 1  # Number of layers\n",
    "Lx = 0.5 #m\n",
    "ncol = 50  # Number of columns\n",
    "nrow = 1  \n",
    "\n",
    "n=nxyz\n",
    "\n",
    "conc = [c_dbl_vect[i:i + n] for i in range(0, len(c_dbl_vect), n)]\n",
    "\n",
    "sconc = {}\n",
    "for e, c in enumerate(components):\n",
    "    sconc[c] = np.reshape(conc[e], (nlay, nrow, ncol))\n",
    "sconc\n",
    "\n",
    "for c in components:\n",
    "    print(sconc[c].dtype)\n",
    "# sconc\n"
   ]
  },
  {
   "cell_type": "code",
   "execution_count": 4,
   "metadata": {},
   "outputs": [
    {
     "data": {
      "text/plain": [
       "350"
      ]
     },
     "execution_count": 4,
     "metadata": {},
     "output_type": "execute_result"
    }
   ],
   "source": [
    "ic1 = [-1] * 50 * 7 \n",
    "len(ic1)"
   ]
  },
  {
   "cell_type": "code",
   "execution_count": 81,
   "metadata": {},
   "outputs": [],
   "source": [
    "# sim = build_model(ws = 'model', sim_name = 'engesgaard1992', spls = components, sconc=sconc)\n",
    "\n",
    "# strt"
   ]
  },
  {
   "cell_type": "code",
   "execution_count": 82,
   "metadata": {},
   "outputs": [
    {
     "data": {
      "text/plain": [
       "('H', 'O', 'Charge', 'C', 'Ca', 'Cl', 'Mg')"
      ]
     },
     "execution_count": 82,
     "metadata": {},
     "output_type": "execute_result"
    }
   ],
   "source": [
    "components"
   ]
  },
  {
   "cell_type": "code",
   "execution_count": 83,
   "metadata": {},
   "outputs": [],
   "source": [
    "def flatten_list(xss):\n",
    "    return [x for xs in xss for x in xs]\n"
   ]
  },
  {
   "cell_type": "code",
   "execution_count": 89,
   "metadata": {},
   "outputs": [
    {
     "name": "stdout",
     "output_type": "stream",
     "text": [
      "...starting transport solution at 2024-05-22 10:09:08\n",
      "\n",
      "Getting concentration arrays --- time step: 1 --- elapsed time: 0.0\n",
      "\n",
      "Solving for component: H\n",
      "Transport stress period: 1 --- time step: 1 --- converged with 1 iters --- took 0.00036545 mins\n",
      "\n",
      "Solving for component: O\n",
      "Transport stress period: 1 --- time step: 1 --- converged with 1 iters --- took 0.00038212 mins\n",
      "\n",
      "Solving for component: Charge\n",
      "Transport stress period: 1 --- time step: 1 --- converged with 1 iters --- took 0.00039878 mins\n",
      "\n",
      "Solving for component: C\n",
      "Transport stress period: 1 --- time step: 1 --- converged with 1 iters --- took  0.0004155 mins\n",
      "\n",
      "Solving for component: Ca\n",
      "Transport stress period: 1 --- time step: 1 --- converged with 1 iters --- took 0.00043212 mins\n",
      "\n",
      "Solving for component: Cl\n",
      "Transport stress period: 1 --- time step: 1 --- converged with 1 iters --- took  0.0004572 mins\n",
      "\n",
      "Solving for component: Mg\n",
      "Transport stress period: 1 --- time step: 1 --- converged with 1 iters --- took 0.00047395 mins\n",
      "\n",
      "Getting concentration arrays --- time step: 2 --- elapsed time: 0.01\n",
      "\n",
      "Solving for component: H\n",
      "Transport stress period: 1 --- time step: 2 --- converged with 0 iters --- took  0.0002668 mins\n",
      "\n",
      "Solving for component: O\n",
      "Transport stress period: 1 --- time step: 2 --- converged with 0 iters --- took 0.00028347 mins\n",
      "\n",
      "Solving for component: Charge\n",
      "Transport stress period: 1 --- time step: 2 --- converged with 0 iters --- took 0.00031678 mins\n",
      "\n",
      "Solving for component: C\n",
      "Transport stress period: 1 --- time step: 2 --- converged with 0 iters --- took 0.00033345 mins\n",
      "\n",
      "Solving for component: Ca\n",
      "Transport stress period: 1 --- time step: 2 --- converged with 0 iters --- took 0.00034185 mins\n",
      "\n",
      "Solving for component: Cl\n",
      "Transport stress period: 1 --- time step: 2 --- converged with 0 iters --- took 0.00035858 mins\n",
      "\n",
      "Solving for component: Mg\n",
      "Transport stress period: 1 --- time step: 2 --- converged with 0 iters --- took 0.00037523 mins\n",
      "\n",
      "Getting concentration arrays --- time step: 3 --- elapsed time: 0.02\n",
      "\n",
      "Solving for component: H\n",
      "Transport stress period: 1 --- time step: 3 --- converged with 0 iters --- took 0.00025308 mins\n",
      "\n",
      "Solving for component: O\n",
      "Transport stress period: 1 --- time step: 3 --- converged with 0 iters --- took 0.00026975 mins\n",
      "\n",
      "Solving for component: Charge\n",
      "Transport stress period: 1 --- time step: 3 --- converged with 0 iters --- took 0.00028642 mins\n",
      "\n",
      "Solving for component: C\n",
      "Transport stress period: 1 --- time step: 3 --- converged with 0 iters --- took 0.00030308 mins\n",
      "\n",
      "Solving for component: Ca\n",
      "Transport stress period: 1 --- time step: 3 --- converged with 0 iters --- took 0.00032813 mins\n",
      "\n",
      "Solving for component: Cl\n",
      "Transport stress period: 1 --- time step: 3 --- converged with 0 iters --- took 0.00034488 mins\n",
      "\n",
      "Solving for component: Mg\n",
      "Transport stress period: 1 --- time step: 3 --- converged with 0 iters --- took 0.00036153 mins\n",
      "\n",
      "Getting concentration arrays --- time step: 4 --- elapsed time: 0.03\n",
      "\n",
      "Solving for component: H\n",
      "Transport stress period: 1 --- time step: 4 --- converged with 0 iters --- took  0.0002418 mins\n",
      "\n",
      "Solving for component: O\n",
      "Transport stress period: 1 --- time step: 4 --- converged with 0 iters --- took 0.00025845 mins\n",
      "\n",
      "Solving for component: Charge\n",
      "Transport stress period: 1 --- time step: 4 --- converged with 0 iters --- took 0.00027512 mins\n",
      "\n",
      "Solving for component: C\n",
      "Transport stress period: 1 --- time step: 4 --- converged with 0 iters --- took 0.00029178 mins\n",
      "\n",
      "Solving for component: Ca\n",
      "Transport stress period: 1 --- time step: 4 --- converged with 0 iters --- took 0.00030847 mins\n",
      "\n",
      "Solving for component: Cl\n",
      "Transport stress period: 1 --- time step: 4 --- converged with 0 iters --- took 0.00032512 mins\n",
      "\n",
      "Solving for component: Mg\n",
      "Transport stress period: 1 --- time step: 4 --- converged with 0 iters --- took  0.0003418 mins\n",
      "\n",
      "Getting concentration arrays --- time step: 5 --- elapsed time: 0.04\n",
      "\n",
      "Solving for component: H\n",
      "Transport stress period: 1 --- time step: 5 --- converged with 0 iters --- took 0.00022527 mins\n",
      "\n",
      "Solving for component: O\n",
      "Transport stress period: 1 --- time step: 5 --- converged with 0 iters --- took 0.00024215 mins\n",
      "\n",
      "Solving for component: Charge\n",
      "Transport stress period: 1 --- time step: 5 --- converged with 0 iters --- took  0.0002588 mins\n",
      "\n",
      "Solving for component: C\n",
      "Transport stress period: 1 --- time step: 5 --- converged with 0 iters --- took 0.00027548 mins\n",
      "\n",
      "Solving for component: Ca\n",
      "Transport stress period: 1 --- time step: 5 --- converged with 0 iters --- took 0.00029213 mins\n",
      "\n",
      "Solving for component: Cl\n",
      "Transport stress period: 1 --- time step: 5 --- converged with 0 iters --- took 0.00030882 mins\n",
      "\n",
      "Solving for component: Mg\n",
      "Transport stress period: 1 --- time step: 5 --- converged with 0 iters --- took  0.0003255 mins\n",
      "\n",
      "Getting concentration arrays --- time step: 6 --- elapsed time: 0.05\n",
      "\n",
      "Solving for component: H\n",
      "Transport stress period: 1 --- time step: 6 --- converged with 0 iters --- took 0.00022518 mins\n",
      "\n",
      "Solving for component: O\n",
      "Transport stress period: 1 --- time step: 6 --- converged with 0 iters --- took 0.00025023 mins\n",
      "\n",
      "Solving for component: Charge\n",
      "Transport stress period: 1 --- time step: 6 --- converged with 0 iters --- took 0.00026698 mins\n",
      "\n",
      "Solving for component: C\n",
      "Transport stress period: 1 --- time step: 6 --- converged with 0 iters --- took 0.00028363 mins\n",
      "\n",
      "Solving for component: Ca\n",
      "Transport stress period: 1 --- time step: 6 --- converged with 0 iters --- took 0.00030028 mins\n",
      "\n",
      "Solving for component: Cl\n",
      "Transport stress period: 1 --- time step: 6 --- converged with 0 iters --- took 0.00031698 mins\n",
      "\n",
      "Solving for component: Mg\n",
      "Transport stress period: 1 --- time step: 6 --- converged with 0 iters --- took 0.00033365 mins\n",
      "\n",
      "Getting concentration arrays --- time step: 7 --- elapsed time: 0.060000000000000005\n",
      "\n",
      "Solving for component: H\n",
      "Transport stress period: 1 --- time step: 7 --- converged with 0 iters --- took 0.00024212 mins\n",
      "\n",
      "Solving for component: O\n",
      "Transport stress period: 1 --- time step: 7 --- converged with 0 iters --- took 0.00025877 mins\n",
      "\n",
      "Solving for component: Charge\n",
      "Transport stress period: 1 --- time step: 7 --- converged with 0 iters --- took 0.00027543 mins\n",
      "\n",
      "Solving for component: C\n",
      "Transport stress period: 1 --- time step: 7 --- converged with 0 iters --- took  0.0002921 mins\n",
      "\n",
      "Solving for component: Ca\n",
      "Transport stress period: 1 --- time step: 7 --- converged with 0 iters --- took 0.00030877 mins\n",
      "\n",
      "Solving for component: Cl\n",
      "Transport stress period: 1 --- time step: 7 --- converged with 0 iters --- took 0.00031723 mins\n",
      "\n",
      "Solving for component: Mg\n",
      "Transport stress period: 1 --- time step: 7 --- converged with 0 iters --- took 0.00033398 mins\n",
      "\n",
      "Getting concentration arrays --- time step: 8 --- elapsed time: 0.07\n",
      "\n",
      "Solving for component: H\n",
      "Transport stress period: 1 --- time step: 8 --- converged with 0 iters --- took  0.0002251 mins\n",
      "\n",
      "Solving for component: O\n",
      "Transport stress period: 1 --- time step: 8 --- converged with 0 iters --- took 0.00024177 mins\n",
      "\n",
      "Solving for component: Charge\n",
      "Transport stress period: 1 --- time step: 8 --- converged with 0 iters --- took 0.00025843 mins\n",
      "\n",
      "Solving for component: C\n",
      "Transport stress period: 1 --- time step: 8 --- converged with 0 iters --- took  0.0002751 mins\n",
      "\n",
      "Solving for component: Ca\n",
      "Transport stress period: 1 --- time step: 8 --- converged with 0 iters --- took 0.00029177 mins\n",
      "\n",
      "Solving for component: Cl\n",
      "Transport stress period: 1 --- time step: 8 --- converged with 0 iters --- took 0.00030843 mins\n",
      "\n",
      "Solving for component: Mg\n",
      "Transport stress period: 1 --- time step: 8 --- converged with 0 iters --- took 0.00032513 mins\n",
      "\n",
      "Getting concentration arrays --- time step: 9 --- elapsed time: 0.08\n",
      "\n",
      "Solving for component: H\n",
      "Transport stress period: 1 --- time step: 9 --- converged with 0 iters --- took 0.00025042 mins\n",
      "\n",
      "Solving for component: O\n",
      "Transport stress period: 1 --- time step: 9 --- converged with 0 iters --- took  0.0002671 mins\n",
      "\n",
      "Solving for component: Charge\n",
      "Transport stress period: 1 --- time step: 9 --- converged with 0 iters --- took 0.00028377 mins\n",
      "\n",
      "Solving for component: C\n",
      "Transport stress period: 1 --- time step: 9 --- converged with 0 iters --- took 0.00030043 mins\n",
      "\n",
      "Solving for component: Ca\n",
      "Transport stress period: 1 --- time step: 9 --- converged with 0 iters --- took  0.0003171 mins\n",
      "\n",
      "Solving for component: Cl\n",
      "Transport stress period: 1 --- time step: 9 --- converged with 0 iters --- took 0.00033377 mins\n",
      "\n",
      "Solving for component: Mg\n",
      "Transport stress period: 1 --- time step: 9 --- converged with 0 iters --- took 0.00035043 mins\n",
      "\n",
      "Getting concentration arrays --- time step: 10 --- elapsed time: 0.09\n",
      "\n",
      "Solving for component: H\n",
      "Transport stress period: 1 --- time step: 10 --- converged with 0 iters --- took  0.0002413 mins\n",
      "\n",
      "Solving for component: O\n",
      "Transport stress period: 1 --- time step: 10 --- converged with 0 iters --- took 0.00027622 mins\n",
      "\n",
      "Solving for component: Charge\n",
      "Transport stress period: 1 --- time step: 10 --- converged with 0 iters --- took 0.00029488 mins\n",
      "\n",
      "Solving for component: C\n",
      "Transport stress period: 1 --- time step: 10 --- converged with 0 iters --- took 0.00030968 mins\n",
      "\n",
      "Solving for component: Ca\n",
      "Transport stress period: 1 --- time step: 10 --- converged with 0 iters --- took 0.00032635 mins\n",
      "\n",
      "Solving for component: Cl\n",
      "Transport stress period: 1 --- time step: 10 --- converged with 0 iters --- took 0.00034302 mins\n",
      "\n",
      "Solving for component: Mg\n",
      "Transport stress period: 1 --- time step: 10 --- converged with 0 iters --- took 0.00035968 mins\n",
      "\n",
      "Getting concentration arrays --- time step: 11 --- elapsed time: 0.09999999999999999\n",
      "\n",
      "Solving for component: H\n",
      "Transport stress period: 1 --- time step: 11 --- converged with 0 iters --- took 0.00024182 mins\n",
      "\n",
      "Solving for component: O\n",
      "Transport stress period: 1 --- time step: 11 --- converged with 0 iters --- took 0.00024182 mins\n",
      "\n",
      "Solving for component: Charge\n",
      "Transport stress period: 1 --- time step: 11 --- converged with 0 iters --- took 0.00025848 mins\n",
      "\n",
      "Solving for component: C\n",
      "Transport stress period: 1 --- time step: 11 --- converged with 0 iters --- took 0.00027513 mins\n",
      "\n",
      "Solving for component: Ca\n",
      "Transport stress period: 1 --- time step: 11 --- converged with 0 iters --- took  0.0002918 mins\n",
      "\n",
      "Solving for component: Cl\n",
      "Transport stress period: 1 --- time step: 11 --- converged with 0 iters --- took 0.00031915 mins\n",
      "\n",
      "Solving for component: Mg\n",
      "Transport stress period: 1 --- time step: 11 --- converged with 0 iters --- took 0.00033053 mins\n",
      "\n",
      "Getting concentration arrays --- time step: 12 --- elapsed time: 0.10999999999999999\n",
      "\n",
      "Solving for component: H\n",
      "Transport stress period: 1 --- time step: 12 --- converged with 0 iters --- took 0.00024172 mins\n",
      "\n",
      "Solving for component: O\n",
      "Transport stress period: 1 --- time step: 12 --- converged with 0 iters --- took 0.00025838 mins\n",
      "\n",
      "Solving for component: Charge\n",
      "Transport stress period: 1 --- time step: 12 --- converged with 0 iters --- took 0.00027505 mins\n",
      "\n",
      "Solving for component: C\n",
      "Transport stress period: 1 --- time step: 12 --- converged with 0 iters --- took  0.0002917 mins\n",
      "\n",
      "Solving for component: Ca\n",
      "Transport stress period: 1 --- time step: 12 --- converged with 0 iters --- took 0.00030842 mins\n",
      "\n",
      "Solving for component: Cl\n",
      "Transport stress period: 1 --- time step: 12 --- converged with 0 iters --- took 0.00032508 mins\n",
      "\n",
      "Solving for component: Mg\n",
      "Transport stress period: 1 --- time step: 12 --- converged with 0 iters --- took 0.00035008 mins\n",
      "\n",
      "Getting concentration arrays --- time step: 13 --- elapsed time: 0.11999999999999998\n",
      "\n",
      "Solving for component: H\n",
      "Transport stress period: 1 --- time step: 13 --- converged with 0 iters --- took 0.00022078 mins\n",
      "\n",
      "Solving for component: O\n",
      "Transport stress period: 1 --- time step: 13 --- converged with 0 iters --- took 0.00023745 mins\n",
      "\n",
      "Solving for component: Charge\n",
      "Transport stress period: 1 --- time step: 13 --- converged with 0 iters --- took 0.00025412 mins\n",
      "\n",
      "Solving for component: C\n",
      "Transport stress period: 1 --- time step: 13 --- converged with 0 iters --- took 0.00027078 mins\n",
      "\n",
      "Solving for component: Ca\n",
      "Transport stress period: 1 --- time step: 13 --- converged with 0 iters --- took 0.00028747 mins\n",
      "\n",
      "Solving for component: Cl\n",
      "Transport stress period: 1 --- time step: 13 --- converged with 0 iters --- took 0.00030412 mins\n",
      "\n",
      "Solving for component: Mg\n",
      "Transport stress period: 1 --- time step: 13 --- converged with 0 iters --- took 0.00032077 mins\n",
      "\n",
      "Getting concentration arrays --- time step: 14 --- elapsed time: 0.12999999999999998\n",
      "\n",
      "Solving for component: H\n",
      "Transport stress period: 1 --- time step: 14 --- converged with 0 iters --- took  0.0002338 mins\n",
      "\n",
      "Solving for component: O\n",
      "Transport stress period: 1 --- time step: 14 --- converged with 0 iters --- took 0.00024978 mins\n",
      "\n",
      "Solving for component: Charge\n",
      "Transport stress period: 1 --- time step: 14 --- converged with 0 iters --- took  0.0002672 mins\n",
      "\n",
      "Solving for component: C\n",
      "Transport stress period: 1 --- time step: 14 --- converged with 0 iters --- took 0.00028387 mins\n",
      "\n",
      "Solving for component: Ca\n",
      "Transport stress period: 1 --- time step: 14 --- converged with 0 iters --- took 0.00030055 mins\n",
      "\n",
      "Solving for component: Cl\n",
      "Transport stress period: 1 --- time step: 14 --- converged with 0 iters --- took  0.0003172 mins\n",
      "\n",
      "Solving for component: Mg\n",
      "Transport stress period: 1 --- time step: 14 --- converged with 0 iters --- took 0.00033387 mins\n",
      "\n",
      "Getting concentration arrays --- time step: 15 --- elapsed time: 0.13999999999999999\n",
      "\n",
      "Solving for component: H\n",
      "Transport stress period: 1 --- time step: 15 --- converged with 0 iters --- took 0.00024192 mins\n",
      "\n",
      "Solving for component: O\n",
      "Transport stress period: 1 --- time step: 15 --- converged with 0 iters --- took 0.00025857 mins\n",
      "\n",
      "Solving for component: Charge\n",
      "Transport stress period: 1 --- time step: 15 --- converged with 0 iters --- took 0.00026697 mins\n",
      "\n",
      "Solving for component: C\n",
      "Transport stress period: 1 --- time step: 15 --- converged with 0 iters --- took 0.00028578 mins\n",
      "\n",
      "Solving for component: Ca\n",
      "Transport stress period: 1 --- time step: 15 --- converged with 0 iters --- took 0.00030038 mins\n",
      "\n",
      "Solving for component: Cl\n",
      "Transport stress period: 1 --- time step: 15 --- converged with 0 iters --- took  0.0003337 mins\n",
      "\n",
      "Solving for component: Mg\n",
      "Transport stress period: 1 --- time step: 15 --- converged with 0 iters --- took 0.00035037 mins\n",
      "\n",
      "Getting concentration arrays --- time step: 16 --- elapsed time: 0.15\n",
      "\n",
      "Solving for component: H\n",
      "Transport stress period: 1 --- time step: 16 --- converged with 0 iters --- took  0.0002251 mins\n",
      "\n",
      "Solving for component: O\n",
      "Transport stress period: 1 --- time step: 16 --- converged with 0 iters --- took 0.00024177 mins\n",
      "\n",
      "Solving for component: Charge\n",
      "Transport stress period: 1 --- time step: 16 --- converged with 0 iters --- took 0.00025843 mins\n",
      "\n",
      "Solving for component: C\n",
      "Transport stress period: 1 --- time step: 16 --- converged with 0 iters --- took 0.00027512 mins\n",
      "\n",
      "Solving for component: Ca\n",
      "Transport stress period: 1 --- time step: 16 --- converged with 0 iters --- took 0.00030017 mins\n",
      "\n",
      "Solving for component: Cl\n",
      "Transport stress period: 1 --- time step: 16 --- converged with 0 iters --- took 0.00030017 mins\n",
      "\n",
      "Solving for component: Mg\n",
      "Transport stress period: 1 --- time step: 16 --- converged with 0 iters --- took 0.00031692 mins\n",
      "\n",
      "Getting concentration arrays --- time step: 17 --- elapsed time: 0.16\n",
      "\n",
      "Solving for component: H\n",
      "Transport stress period: 1 --- time step: 17 --- converged with 0 iters --- took 0.00023678 mins\n",
      "\n",
      "Solving for component: O\n",
      "Transport stress period: 1 --- time step: 17 --- converged with 0 iters --- took 0.00025347 mins\n",
      "\n",
      "Solving for component: Charge\n",
      "Transport stress period: 1 --- time step: 17 --- converged with 0 iters --- took 0.00027013 mins\n",
      "\n",
      "Solving for component: C\n",
      "Transport stress period: 1 --- time step: 17 --- converged with 0 iters --- took  0.0002868 mins\n",
      "\n",
      "Solving for component: Ca\n",
      "Transport stress period: 1 --- time step: 17 --- converged with 0 iters --- took 0.00030347 mins\n",
      "\n",
      "Solving for component: Cl\n",
      "Transport stress period: 1 --- time step: 17 --- converged with 0 iters --- took 0.00032013 mins\n",
      "\n",
      "Solving for component: Mg\n",
      "Transport stress period: 1 --- time step: 17 --- converged with 0 iters --- took 0.00034522 mins\n",
      "\n",
      "Getting concentration arrays --- time step: 18 --- elapsed time: 0.17\n",
      "\n",
      "Solving for component: H\n",
      "Transport stress period: 1 --- time step: 18 --- converged with 0 iters --- took 0.00024182 mins\n",
      "\n",
      "Solving for component: O\n",
      "Transport stress period: 1 --- time step: 18 --- converged with 0 iters --- took 0.00025847 mins\n",
      "\n",
      "Solving for component: Charge\n",
      "Transport stress period: 1 --- time step: 18 --- converged with 0 iters --- took 0.00027515 mins\n",
      "\n",
      "Solving for component: C\n",
      "Transport stress period: 1 --- time step: 18 --- converged with 0 iters --- took  0.0002918 mins\n",
      "\n",
      "Solving for component: Ca\n",
      "Transport stress period: 1 --- time step: 18 --- converged with 0 iters --- took 0.00030848 mins\n",
      "\n",
      "Solving for component: Cl\n",
      "Transport stress period: 1 --- time step: 18 --- converged with 0 iters --- took 0.00032513 mins\n",
      "\n",
      "Solving for component: Mg\n",
      "Transport stress period: 1 --- time step: 18 --- converged with 0 iters --- took 0.00034182 mins\n",
      "\n",
      "Getting concentration arrays --- time step: 19 --- elapsed time: 0.18000000000000002\n",
      "\n",
      "Solving for component: H\n",
      "Transport stress period: 1 --- time step: 19 --- converged with 0 iters --- took  0.0002375 mins\n",
      "\n",
      "Solving for component: O\n",
      "Transport stress period: 1 --- time step: 19 --- converged with 0 iters --- took  0.0002462 mins\n",
      "\n",
      "Solving for component: Charge\n",
      "Transport stress period: 1 --- time step: 19 --- converged with 0 iters --- took 0.00026287 mins\n",
      "\n",
      "Solving for component: C\n",
      "Transport stress period: 1 --- time step: 19 --- converged with 0 iters --- took 0.00027952 mins\n",
      "\n",
      "Solving for component: Ca\n",
      "Transport stress period: 1 --- time step: 19 --- converged with 0 iters --- took 0.00029618 mins\n",
      "\n",
      "Solving for component: Cl\n",
      "Transport stress period: 1 --- time step: 19 --- converged with 0 iters --- took 0.00031285 mins\n",
      "\n",
      "Solving for component: Mg\n",
      "Transport stress period: 1 --- time step: 19 --- converged with 0 iters --- took 0.00032952 mins\n",
      "\n",
      "Getting concentration arrays --- time step: 20 --- elapsed time: 0.19000000000000003\n",
      "\n",
      "Solving for component: H\n",
      "Transport stress period: 1 --- time step: 20 --- converged with 0 iters --- took  0.0002418 mins\n",
      "\n",
      "Solving for component: O\n",
      "Transport stress period: 1 --- time step: 20 --- converged with 0 iters --- took 0.00025848 mins\n",
      "\n",
      "Solving for component: Charge\n",
      "Transport stress period: 1 --- time step: 20 --- converged with 0 iters --- took 0.00025848 mins\n",
      "\n",
      "Solving for component: C\n",
      "Transport stress period: 1 --- time step: 20 --- converged with 0 iters --- took 0.00028618 mins\n",
      "\n",
      "Solving for component: Ca\n",
      "Transport stress period: 1 --- time step: 20 --- converged with 0 iters --- took 0.00029572 mins\n",
      "\n",
      "Solving for component: Cl\n",
      "Transport stress period: 1 --- time step: 20 --- converged with 0 iters --- took 0.00031238 mins\n",
      "\n",
      "Solving for component: Mg\n",
      "Transport stress period: 1 --- time step: 20 --- converged with 0 iters --- took 0.00032905 mins\n",
      "\n",
      "Getting concentration arrays --- time step: 21 --- elapsed time: 0.20000000000000004\n",
      "\n",
      "Solving for component: H\n",
      "Transport stress period: 1 --- time step: 21 --- converged with 0 iters --- took 0.00022507 mins\n",
      "\n",
      "Solving for component: O\n",
      "Transport stress period: 1 --- time step: 21 --- converged with 0 iters --- took 0.00024173 mins\n",
      "\n",
      "Solving for component: Charge\n",
      "Transport stress period: 1 --- time step: 21 --- converged with 0 iters --- took  0.0002584 mins\n",
      "\n",
      "Solving for component: C\n",
      "Transport stress period: 1 --- time step: 21 --- converged with 0 iters --- took 0.00027505 mins\n",
      "\n",
      "Solving for component: Ca\n",
      "Transport stress period: 1 --- time step: 21 --- converged with 0 iters --- took 0.00030012 mins\n",
      "\n",
      "Solving for component: Cl\n",
      "Transport stress period: 1 --- time step: 21 --- converged with 0 iters --- took 0.00031833 mins\n",
      "\n",
      "Solving for component: Mg\n",
      "Transport stress period: 1 --- time step: 21 --- converged with 0 iters --- took 0.00033352 mins\n",
      "\n",
      "Getting concentration arrays --- time step: 22 --- elapsed time: 0.21000000000000005\n",
      "\n",
      "Solving for component: H\n",
      "Transport stress period: 1 --- time step: 22 --- converged with 0 iters --- took 0.00022513 mins\n",
      "\n",
      "Solving for component: O\n",
      "Transport stress period: 1 --- time step: 22 --- converged with 0 iters --- took 0.00024182 mins\n",
      "\n",
      "Solving for component: Charge\n",
      "Transport stress period: 1 --- time step: 22 --- converged with 0 iters --- took 0.00025847 mins\n",
      "\n",
      "Solving for component: C\n",
      "Transport stress period: 1 --- time step: 22 --- converged with 0 iters --- took 0.00027512 mins\n",
      "\n",
      "Solving for component: Ca\n",
      "Transport stress period: 1 --- time step: 22 --- converged with 0 iters --- took 0.00029178 mins\n",
      "\n",
      "Solving for component: Cl\n",
      "Transport stress period: 1 --- time step: 22 --- converged with 0 iters --- took 0.00030845 mins\n",
      "\n",
      "Solving for component: Mg\n",
      "Transport stress period: 1 --- time step: 22 --- converged with 0 iters --- took 0.00032512 mins\n",
      "\n",
      "Getting concentration arrays --- time step: 23 --- elapsed time: 0.22000000000000006\n",
      "\n",
      "Solving for component: H\n",
      "Transport stress period: 1 --- time step: 23 --- converged with 0 iters --- took 0.00023365 mins\n",
      "\n",
      "Solving for component: O\n",
      "Transport stress period: 1 --- time step: 23 --- converged with 0 iters --- took 0.00025032 mins\n",
      "\n",
      "Solving for component: Charge\n",
      "Transport stress period: 1 --- time step: 23 --- converged with 0 iters --- took 0.00026697 mins\n",
      "\n",
      "Solving for component: C\n",
      "Transport stress period: 1 --- time step: 23 --- converged with 0 iters --- took 0.00028363 mins\n",
      "\n",
      "Solving for component: Ca\n",
      "Transport stress period: 1 --- time step: 23 --- converged with 0 iters --- took  0.0003003 mins\n",
      "\n",
      "Solving for component: Cl\n",
      "Transport stress period: 1 --- time step: 23 --- converged with 0 iters --- took 0.00031697 mins\n",
      "\n",
      "Solving for component: Mg\n",
      "Transport stress period: 1 --- time step: 23 --- converged with 0 iters --- took 0.00033365 mins\n",
      "\n",
      "Getting concentration arrays --- time step: 24 --- elapsed time: 0.23000000000000007\n",
      "\n",
      "Solving for component: H\n",
      "Transport stress period: 1 --- time step: 24 --- converged with 0 iters --- took  0.0002418 mins\n",
      "\n",
      "Solving for component: O\n",
      "Transport stress period: 1 --- time step: 24 --- converged with 0 iters --- took 0.00026692 mins\n",
      "\n",
      "Solving for component: Charge\n",
      "Transport stress period: 1 --- time step: 24 --- converged with 0 iters --- took 0.00028238 mins\n",
      "\n",
      "Solving for component: C\n",
      "Transport stress period: 1 --- time step: 24 --- converged with 0 iters --- took 0.00029913 mins\n",
      "\n",
      "Solving for component: Ca\n",
      "Transport stress period: 1 --- time step: 24 --- converged with 0 iters --- took  0.0003158 mins\n",
      "\n",
      "Solving for component: Cl\n",
      "Transport stress period: 1 --- time step: 24 --- converged with 0 iters --- took 0.00033247 mins\n",
      "\n",
      "Solving for component: Mg\n",
      "Transport stress period: 1 --- time step: 24 --- converged with 0 iters --- took 0.00034913 mins\n",
      "\n",
      "...transport solution finished at 2024-05-22 10:09:08, took:  0.0086808 mins\n",
      "\n",
      "\n"
     ]
    }
   ],
   "source": [
    "# sim_ws = os.path.join('model', '1dtest', 'chloride')\n",
    "sim_ws = Path(\"model/engesgaard1992/\")\n",
    "dll = Path(\"bin/win/libmf6\")\n",
    "\n",
    "mf6 = modflowapi.ModflowApi(dll, working_directory = sim_ws)\n",
    "mf6.initialize()\n",
    "\n",
    "\n",
    "sim_start = datetime.now()\n",
    "print(\"...starting transport solution at {0}\".format(sim_start.strftime(DT_FMT)))\n",
    "# reset the node tracking containers\n",
    "\n",
    "# get the current sim time\n",
    "ctime = mf6.get_current_time()\n",
    "ctimes = [0.0]\n",
    "# get the ending sim time\n",
    "etime = mf6.get_end_time()\n",
    "# max number of solution iterations\n",
    "max_iter = mf6.get_value(mf6.get_var_address(\"MXITER\", \"SLN_2\"))\n",
    "num_fails = 0\n",
    "# let's do it!\n",
    "while ctime < etime:\n",
    "    sol_start = datetime.now()\n",
    "    # length of the current solve time\n",
    "    dt = mf6.get_time_step()\n",
    "    # prep the current time step\n",
    "    mf6.prepare_time_step(dt)\n",
    "    kiter = 0\n",
    "    # prep to solve\n",
    "    mf6.prepare_solve(1)\n",
    "    # the one-based stress period number\n",
    "    stress_period = mf6.get_value(mf6.get_var_address(\"KPER\", \"TDIS\"))[0]\n",
    "    time_step = mf6.get_value(mf6.get_var_address(\"KSTP\", \"TDIS\"))[0]\n",
    "\n",
    "    # array to store transported components\n",
    "    print(f'\\nGetting concentration arrays --- time step: {time_step} --- elapsed time: {ctime}')\n",
    "    mf6_conc_array = [mf6.get_value(mf6.get_var_address(\"X\", f'{c.upper()}')) for c in components]\n",
    "    c_dbl_vect = flatten_list(mf6_conc_array)\n",
    "\n",
    "    phreeqc_rm.SetScreenOn(True)\n",
    "    print_selected_output_on = (ctime == etime)\n",
    "    print_chemistry_on = (ctime == etime)\n",
    "    status = phreeqc_rm.SetSelectedOutputOn(True)\n",
    "    status = phreeqc_rm.SetPrintChemistryOn(print_chemistry_on, False, False) \n",
    "\n",
    "    status = phreeqc_rm.SetConcentrations(c_dbl_vect)  \n",
    "    message = 'Beginning reaction calculation               {} days\\n'.format(ctime)\n",
    "    phreeqc_rm.LogMessage(message)\n",
    "    phreeqc_rm.ScreenMessage(message)\n",
    "    status = phreeqc_rm.RunCells()\n",
    "\n",
    "    # Transfer data from PhreeqcRM for transport\n",
    "    #status = phreeqc_rm.GetConcentrations(c_dbl_vect)\n",
    "    c_dbl_vect = phreeqc_rm.GetConcentrations()\n",
    "\n",
    "    conc = [c_dbl_vect[i:i + n] for i in range(0, len(c_dbl_vect), n)]\n",
    "    sconc = {}\n",
    "    for e, c in enumerate(components):\n",
    "        sconc[c] = np.reshape(conc[e], (nlay, nrow, ncol))\n",
    "\n",
    "    # solve transport until converged\n",
    "    for c in components:\n",
    "        print(f'\\nSolving for component: {c}')\n",
    "        while kiter < max_iter:\n",
    "            # print(list(mf6_conc_array))\n",
    "            if c == 'mg':\n",
    "                mf6.set_value(f'{c.upper()}/X', sconc[c]+100)\n",
    "            else:\n",
    "                mf6.set_value(f'{c.upper()}/X', sconc[c])\n",
    "            convg = mf6.solve(1)\n",
    "            if convg:\n",
    "                td = (datetime.now() - sol_start).total_seconds() / 60.0\n",
    "                print(\"Transport stress period: {0} --- time step: {1} --- converged with {2} iters --- took {3:10.5G} mins\".format(stress_period, time_step, kiter,td))\n",
    "                break\n",
    "            kiter += 1\n",
    "\n",
    "    if not convg:\n",
    "        td = (datetime.now() - sol_start).total_seconds() / 60.0\n",
    "        print(\"transport stress period {0}, time step {1}, did not converged, {2} iters, took {3:10.5G} mins\".format(\n",
    "            stress_period, time_step, kiter, td))\n",
    "        num_fails += 1\n",
    "    try:\n",
    "        mf6.finalize_solve(1)\n",
    "    except:\n",
    "        pass\n",
    "    mf6.finalize_time_step()\n",
    "    # update the current time tracking\n",
    "    ctime = mf6.get_current_time()\n",
    "# sim = flopy.mf6.MFSimulation.load('engesgaard1992', 'mf6', 'mf6' , os.path.join('model', 'engesgaard1992'))\n",
    "# plot_concentrations(sim)\n",
    "sim_end = datetime.now()\n",
    "td = (sim_end - sim_start).total_seconds() / 60.0\n",
    "print(\"\\n...transport solution finished at {0}, took: {1:10.5G} mins\".format(sim_end.strftime(DT_FMT),td))\n",
    "if num_fails > 0:\n",
    "    print(\"...failed to converge {0} times\".format(num_fails))\n",
    "print(\"\\n\")\n",
    "status = phreeqc_rm.CloseFiles()\n",
    "status = phreeqc_rm.MpiWorkerBreak()\n",
    "mf6.finalize()"
   ]
  },
  {
   "cell_type": "code",
   "execution_count": 86,
   "metadata": {},
   "outputs": [
    {
     "data": {
      "text/plain": [
       "{'H': array([[[111569.812, 111569.812, 111569.812, 111569.812, 111569.812,\n",
       "          111569.812, 111569.812, 111569.812, 111569.812, 111569.812,\n",
       "          111569.812, 111569.812, 111569.812, 111569.812, 111569.812,\n",
       "          111569.812, 111569.812, 111569.812, 111569.812, 111569.812,\n",
       "          111569.812, 111569.812, 111569.812, 111569.812, 111569.812,\n",
       "          111569.812, 111569.812, 111569.812, 111569.812, 111569.812,\n",
       "          111569.812, 111569.812, 111569.812, 111569.812, 111569.812,\n",
       "          111569.812, 111569.812, 111569.812, 111569.812, 111569.812,\n",
       "          111569.812, 111569.812, 111569.812, 111569.812, 111569.812,\n",
       "          111569.812, 111569.812, 111569.812, 111569.812, 111569.812]]]),\n",
       " 'O': array([[[885480.57100003, 885480.57100003, 885480.57100003,\n",
       "          885480.57100003, 885480.57100003, 885480.57100003,\n",
       "          885480.57100003, 885480.57100003, 885480.57100003,\n",
       "          885480.57100003, 885480.57100003, 885480.57100003,\n",
       "          885480.57100003, 885480.57100003, 885480.57100003,\n",
       "          885480.57100003, 885480.57100003, 885480.57100003,\n",
       "          885480.57100003, 885480.57100003, 885480.57100003,\n",
       "          885480.57100003, 885480.57100003, 885480.57100003,\n",
       "          885480.57100003, 885480.57100003, 885480.57100003,\n",
       "          885480.57100003, 885480.57100003, 885480.57100003,\n",
       "          885480.57100003, 885480.57100003, 885480.57100003,\n",
       "          885480.57100003, 885480.57100003, 885480.57100003,\n",
       "          885480.57100003, 885480.57100003, 885480.57100003,\n",
       "          885480.57100003, 885480.57100003, 885480.57100003,\n",
       "          885480.57100003, 885480.57100003, 885480.57100003,\n",
       "          885480.57100003, 885480.57100003, 885480.57100003,\n",
       "          885480.57100003, 885480.57100003]]]),\n",
       " 'Charge': array([[[1.17773329e-05, 1.17773329e-05, 1.17773329e-05, 1.17773329e-05,\n",
       "          1.17773329e-05, 1.17773329e-05, 1.17773329e-05, 1.17773329e-05,\n",
       "          1.17773329e-05, 1.17773329e-05, 1.17773329e-05, 1.17773329e-05,\n",
       "          1.17773329e-05, 1.17773329e-05, 1.17773329e-05, 1.17773329e-05,\n",
       "          1.17773329e-05, 1.17773329e-05, 1.17773329e-05, 1.17773329e-05,\n",
       "          1.17773329e-05, 1.17773329e-05, 1.17773329e-05, 1.17773329e-05,\n",
       "          1.17773329e-05, 1.17773329e-05, 1.17773329e-05, 1.17773329e-05,\n",
       "          1.17773329e-05, 1.17773329e-05, 1.17773329e-05, 1.17773329e-05,\n",
       "          1.17773329e-05, 1.17773329e-05, 1.17773329e-05, 1.17773329e-05,\n",
       "          1.17773329e-05, 1.17773329e-05, 1.17773329e-05, 1.17773329e-05,\n",
       "          1.17773329e-05, 1.17773329e-05, 1.17773329e-05, 1.17773329e-05,\n",
       "          1.17773329e-05, 1.17773329e-05, 1.17773329e-05, 1.17773329e-05,\n",
       "          1.17773329e-05, 1.17773329e-05]]]),\n",
       " 'C': array([[[1.46989721, 1.46989721, 1.46989721, 1.46989721, 1.46989721,\n",
       "          1.46989721, 1.46989721, 1.46989721, 1.46989721, 1.46989721,\n",
       "          1.46989721, 1.46989721, 1.46989721, 1.46989721, 1.46989721,\n",
       "          1.46989721, 1.46989721, 1.46989721, 1.46989721, 1.46989721,\n",
       "          1.46989721, 1.46989721, 1.46989721, 1.46989721, 1.46989721,\n",
       "          1.46989721, 1.46989721, 1.46989721, 1.46989721, 1.46989721,\n",
       "          1.46989721, 1.46989721, 1.46989721, 1.46989721, 1.46989721,\n",
       "          1.46989721, 1.46989721, 1.46989721, 1.46989721, 1.46989721,\n",
       "          1.46989721, 1.46989721, 1.46989721, 1.46989721, 1.46989721,\n",
       "          1.46989721, 1.46989721, 1.46989721, 1.46989721, 1.46989721]]]),\n",
       " 'Ca': array([[[4.90491961, 4.90491961, 4.90491961, 4.90491961, 4.90491961,\n",
       "          4.90491961, 4.90491961, 4.90491961, 4.90491961, 4.90491961,\n",
       "          4.90491961, 4.90491961, 4.90491961, 4.90491961, 4.90491961,\n",
       "          4.90491961, 4.90491961, 4.90491961, 4.90491961, 4.90491961,\n",
       "          4.90491961, 4.90491961, 4.90491961, 4.90491961, 4.90491961,\n",
       "          4.90491961, 4.90491961, 4.90491961, 4.90491961, 4.90491961,\n",
       "          4.90491961, 4.90491961, 4.90491961, 4.90491961, 4.90491961,\n",
       "          4.90491961, 4.90491961, 4.90491961, 4.90491961, 4.90491961,\n",
       "          4.90491961, 4.90491961, 4.90491961, 4.90491961, 4.90491961,\n",
       "          4.90491961, 4.90491961, 4.90491961, 4.90491961, 4.90491961]]]),\n",
       " 'Cl': array([[[0.00353482, 0.00353482, 0.00353482, 0.00353482, 0.00353482,\n",
       "          0.00353482, 0.00353482, 0.00353482, 0.00353482, 0.00353482,\n",
       "          0.00353482, 0.00353482, 0.00353482, 0.00353482, 0.00353482,\n",
       "          0.00353482, 0.00353482, 0.00353482, 0.00353482, 0.00353482,\n",
       "          0.00353482, 0.00353482, 0.00353482, 0.00353482, 0.00353482,\n",
       "          0.00353482, 0.00353482, 0.00353482, 0.00353482, 0.00353482,\n",
       "          0.00353482, 0.00353482, 0.00353482, 0.00353482, 0.00353482,\n",
       "          0.00353482, 0.00353482, 0.00353482, 0.00353482, 0.00353482,\n",
       "          0.00353482, 0.00353482, 0.00353482, 0.00353482, 0.00353482,\n",
       "          0.00353482, 0.00353482, 0.00353482, 0.00353482, 0.00353482]]]),\n",
       " 'Mg': array([[[0., 0., 0., 0., 0., 0., 0., 0., 0., 0., 0., 0., 0., 0., 0., 0.,\n",
       "          0., 0., 0., 0., 0., 0., 0., 0., 0., 0., 0., 0., 0., 0., 0., 0.,\n",
       "          0., 0., 0., 0., 0., 0., 0., 0., 0., 0., 0., 0., 0., 0., 0., 0.,\n",
       "          0., 0.]]])}"
      ]
     },
     "execution_count": 86,
     "metadata": {},
     "output_type": "execute_result"
    }
   ],
   "source": [
    "[c_dbl_vect[i:i + n] for i in range(0, len(c_dbl_vect), n)]\n",
    "sconc"
   ]
  },
  {
   "cell_type": "code",
   "execution_count": 87,
   "metadata": {},
   "outputs": [
    {
     "name": "stdout",
     "output_type": "stream",
     "text": [
      "saving figures for engesgaard1992\n",
      "saving figures for component: h\n",
      "saving figures for component: o\n",
      "saving figures for component: charge\n",
      "saving figures for component: c\n",
      "saving figures for component: ca\n",
      "saving figures for component: cl\n",
      "saving figures for component: mg\n"
     ]
    }
   ],
   "source": [
    "sim = flopy.mf6.MFSimulation.load('engesgaard1992', 'mf6', 'mf6', sim_ws, verbosity_level=0)\n",
    "\n",
    "sim.model_names\n",
    "plot_concentrations(sim)"
   ]
  },
  {
   "cell_type": "code",
   "execution_count": 25,
   "metadata": {},
   "outputs": [
    {
     "data": {
      "text/plain": [
       "['h', 'o', 'charge', 'c', 'ca', 'cl', 'mg']"
      ]
     },
     "execution_count": 25,
     "metadata": {},
     "output_type": "execute_result"
    }
   ],
   "source": []
  },
  {
   "cell_type": "markdown",
   "metadata": {},
   "source": [
    "# Engesgaard 1992 - PHT3D"
   ]
  },
  {
   "cell_type": "code",
   "execution_count": 21,
   "metadata": {},
   "outputs": [
    {
     "data": {
      "text/html": [
       "<div>\n",
       "<style scoped>\n",
       "    .dataframe tbody tr th:only-of-type {\n",
       "        vertical-align: middle;\n",
       "    }\n",
       "\n",
       "    .dataframe tbody tr th {\n",
       "        vertical-align: top;\n",
       "    }\n",
       "\n",
       "    .dataframe thead th {\n",
       "        text-align: right;\n",
       "    }\n",
       "</style>\n",
       "<table border=\"1\" class=\"dataframe\">\n",
       "  <thead>\n",
       "    <tr style=\"text-align: right;\">\n",
       "      <th></th>\n",
       "      <th>cell</th>\n",
       "      <th>pH</th>\n",
       "      <th>pe</th>\n",
       "      <th>Ca</th>\n",
       "      <th>Cl</th>\n",
       "      <th>C4</th>\n",
       "      <th>Mg</th>\n",
       "      <th>Calcite</th>\n",
       "      <th>Dolomite</th>\n",
       "      <th>x</th>\n",
       "    </tr>\n",
       "    <tr>\n",
       "      <th>time_d</th>\n",
       "      <th></th>\n",
       "      <th></th>\n",
       "      <th></th>\n",
       "      <th></th>\n",
       "      <th></th>\n",
       "      <th></th>\n",
       "      <th></th>\n",
       "      <th></th>\n",
       "      <th></th>\n",
       "      <th></th>\n",
       "    </tr>\n",
       "  </thead>\n",
       "  <tbody>\n",
       "    <tr>\n",
       "      <th>0.01</th>\n",
       "      <td>1.0</td>\n",
       "      <td>9.7017</td>\n",
       "      <td>-6.5533</td>\n",
       "      <td>0.000131</td>\n",
       "      <td>0.001121</td>\n",
       "      <td>0.0</td>\n",
       "      <td>0.000515</td>\n",
       "      <td>0.000000</td>\n",
       "      <td>0.000045</td>\n",
       "      <td>0.01</td>\n",
       "    </tr>\n",
       "    <tr>\n",
       "      <th>0.01</th>\n",
       "      <td>2.0</td>\n",
       "      <td>9.8379</td>\n",
       "      <td>-6.7482</td>\n",
       "      <td>0.000165</td>\n",
       "      <td>0.000373</td>\n",
       "      <td>0.0</td>\n",
       "      <td>0.000130</td>\n",
       "      <td>0.000000</td>\n",
       "      <td>0.000057</td>\n",
       "      <td>0.02</td>\n",
       "    </tr>\n",
       "    <tr>\n",
       "      <th>0.01</th>\n",
       "      <td>3.0</td>\n",
       "      <td>9.9058</td>\n",
       "      <td>-6.8288</td>\n",
       "      <td>0.000125</td>\n",
       "      <td>0.000092</td>\n",
       "      <td>0.0</td>\n",
       "      <td>0.000046</td>\n",
       "      <td>0.000115</td>\n",
       "      <td>0.000000</td>\n",
       "      <td>0.03</td>\n",
       "    </tr>\n",
       "    <tr>\n",
       "      <th>0.01</th>\n",
       "      <td>4.0</td>\n",
       "      <td>9.9087</td>\n",
       "      <td>-6.8347</td>\n",
       "      <td>0.000123</td>\n",
       "      <td>0.000024</td>\n",
       "      <td>0.0</td>\n",
       "      <td>0.000012</td>\n",
       "      <td>0.000120</td>\n",
       "      <td>0.000000</td>\n",
       "      <td>0.04</td>\n",
       "    </tr>\n",
       "    <tr>\n",
       "      <th>0.01</th>\n",
       "      <td>5.0</td>\n",
       "      <td>9.9095</td>\n",
       "      <td>-6.8362</td>\n",
       "      <td>0.000123</td>\n",
       "      <td>0.000007</td>\n",
       "      <td>0.0</td>\n",
       "      <td>0.000003</td>\n",
       "      <td>0.000122</td>\n",
       "      <td>0.000000</td>\n",
       "      <td>0.05</td>\n",
       "    </tr>\n",
       "  </tbody>\n",
       "</table>\n",
       "</div>"
      ],
      "text/plain": [
       "        cell      pH      pe        Ca        Cl   C4        Mg   Calcite  \\\n",
       "time_d                                                                      \n",
       "0.01     1.0  9.7017 -6.5533  0.000131  0.001121  0.0  0.000515  0.000000   \n",
       "0.01     2.0  9.8379 -6.7482  0.000165  0.000373  0.0  0.000130  0.000000   \n",
       "0.01     3.0  9.9058 -6.8288  0.000125  0.000092  0.0  0.000046  0.000115   \n",
       "0.01     4.0  9.9087 -6.8347  0.000123  0.000024  0.0  0.000012  0.000120   \n",
       "0.01     5.0  9.9095 -6.8362  0.000123  0.000007  0.0  0.000003  0.000122   \n",
       "\n",
       "        Dolomite     x  \n",
       "time_d                  \n",
       "0.01    0.000045  0.01  \n",
       "0.01    0.000057  0.02  \n",
       "0.01    0.000000  0.03  \n",
       "0.01    0.000000  0.04  \n",
       "0.01    0.000000  0.05  "
      ]
     },
     "execution_count": 21,
     "metadata": {},
     "output_type": "execute_result"
    }
   ],
   "source": [
    "wd = os.path.join('benchmark', 'pht3d')\n",
    "dx = 0.01\n",
    "simdf = pd.read_csv(os.path.join(wd, 'out.dat'), sep = '\\t', skipinitialspace=True, index_col=[0])\n",
    "simdf.drop(simdf.columns[len(simdf.columns)-1], axis=1, inplace=True)\n",
    "# simdf.columns = [col.lower() for col in simdf.columns]\n",
    "simdf.loc[:, 'x'] = simdf['cell'] * dx \n",
    "simdf.head()\n"
   ]
  },
  {
   "cell_type": "code",
<<<<<<< HEAD
   "execution_count": 3,
=======
   "execution_count": 22,
>>>>>>> eeca01dcd542db9dbc1f473566acd8629e60b5fe
   "metadata": {},
   "outputs": [
    {
     "name": "stderr",
     "output_type": "stream",
     "text": [
      "c:\\Users\\portega\\anaconda3\\envs\\mf6rtm\\lib\\site-packages\\IPython\\core\\pylabtools.py:77: DeprecationWarning: backend2gui is deprecated since IPython 8.24, backends are managed in matplotlib and can be externally registered.\n",
      "c:\\Users\\portega\\anaconda3\\envs\\mf6rtm\\lib\\site-packages\\IPython\\core\\pylabtools.py:77: DeprecationWarning: backend2gui is deprecated since IPython 8.24, backends are managed in matplotlib and can be externally registered.\n",
      "c:\\Users\\portega\\anaconda3\\envs\\mf6rtm\\lib\\site-packages\\IPython\\core\\pylabtools.py:77: DeprecationWarning: backend2gui is deprecated since IPython 8.24, backends are managed in matplotlib and can be externally registered.\n"
     ]
    },
    {
     "data": {
      "image/png": "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",
      "text/plain": [
       "<Figure size 630x830 with 8 Axes>"
      ]
     },
     "metadata": {},
     "output_type": "display_data"
    }
   ],
   "source": [
    "fig, axs = plt.subplots(4,2, figsize = (6.3, 8.3))\n",
    "t = 0.24\n",
    "for var, ax in zip(simdf.iloc[:,1:-1 ].columns, axs.flatten()):\n",
    "    ax.plot(simdf.x.unique(), simdf.loc[t, var])\n",
    "    ax.set_xlabel('distance (m)')\n",
    "    if var not in ['ph', 'pe']:\n",
    "        ax.set_ylabel('C (mol L$^{-1}$)')\n",
    "    ax.set_title(f'{var}')\n",
    "\n",
    "fig.tight_layout()"
   ]
  },
  {
   "cell_type": "code",
   "execution_count": 27,
   "metadata": {},
   "outputs": [
    {
     "data": {
      "text/plain": [
       "<Axes: xlabel='x'>"
      ]
     },
     "execution_count": 27,
     "metadata": {},
     "output_type": "execute_result"
    },
    {
     "data": {
      "image/png": "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",
      "text/plain": [
       "<Figure size 640x480 with 1 Axes>"
      ]
     },
     "metadata": {},
     "output_type": "display_data"
    },
    {
     "data": {
      "image/png": "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",
      "text/plain": [
       "<Figure size 640x480 with 1 Axes>"
      ]
     },
     "metadata": {},
     "output_type": "display_data"
    }
   ],
   "source": [
    "simdf.loc[0.24, ['x','Calcite']].pivot_table(index='x', columns = 'time_d').plot();\n",
    "simdf.loc[0.24, ['x','Mg']].pivot_table(index='x', columns = 'time_d').plot() "
   ]
  },
  {
   "cell_type": "markdown",
   "metadata": {},
   "source": [
    "# Engesgaard 1992 - MF6RTM"
   ]
  },
  {
   "cell_type": "code",
   "execution_count": 81,
   "metadata": {},
   "outputs": [
    {
     "data": {
      "image/png": "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",
      "text/plain": [
       "<Figure size 630x320 with 6 Axes>"
      ]
     },
     "metadata": {},
     "output_type": "display_data"
    }
   ],
   "source": [
    "sim_ws = os.path.join('model', 'engesgaard1992')\n",
    "sim = flopy.mf6.MFSimulation.load('engesgaard1992', 'mf6', 'mf6', sim_ws, verbosity_level=0)\n",
    "\n",
    "comp = sim.model_names[1:]\n",
    "comp = [c.capitalize() for c in comp if c !='o']\n",
    "comp\n",
    "\n",
    "dist_arr = np.arange(0, 50*dx, dx)\n",
    "gwf = sim.get_model('gwf')\n",
    "\n",
    "fig, axs = plt.subplots(2, 3, figsize=(6.3,3.2))\n",
    "for ax, c in zip(axs.flatten(), comp):\n",
    "        ucn = flopy.utils.HeadFile(os.path.join(\"model\",sim.name,f\"{c}.ucn\"),text=f\"concentration\")\n",
    "        results = ucn.get_alldata()\n",
    "        # results = gwf.output.concentration().get_alldata()\n",
    "        times = gwf.output.concentration().get_times()\n",
    "\n",
    "        tf = times[-1]\n",
    "        r_tf = results[0, 0, 0,:]\n",
    "        ax.plot(dist_arr, r_tf)\n",
    "\n",
    "fig.tight_layout()"
   ]
  },
  {
   "cell_type": "code",
   "execution_count": 84,
   "metadata": {},
   "outputs": [
    {
     "data": {
      "text/plain": [
       "['H', 'Charge', 'C', 'Ca', 'Cl', 'Mg']"
      ]
     },
     "execution_count": 84,
     "metadata": {},
     "output_type": "execute_result"
    }
   ],
   "source": [
    "comp"
   ]
  },
  {
   "cell_type": "code",
   "execution_count": 71,
   "metadata": {},
   "outputs": [
    {
     "data": {
      "text/plain": [
       "50"
      ]
     },
     "execution_count": 71,
     "metadata": {},
     "output_type": "execute_result"
    },
    {
     "data": {
      "image/png": "iVBORw0KGgoAAAANSUhEUgAAAicAAAGYCAYAAACZJELgAAAAOXRFWHRTb2Z0d2FyZQBNYXRwbG90bGliIHZlcnNpb24zLjguNCwgaHR0cHM6Ly9tYXRwbG90bGliLm9yZy8fJSN1AAAACXBIWXMAAA9hAAAPYQGoP6dpAAAUe0lEQVR4nO3dUWidd93A8V9m2xhtz1kKg1gTUdhuqnSEDUmbPmtA6ZvORRgZExqmoSCBWhYYvbBeKL4wKjjRTgTHYB0OKkicFwHXRMpWE5ILGaVTAuJ2s0gJKPHktFSSdTvvhSzvQtvTZhx7fkk/H3igOf+T5/n1z8j59snhrKVWq9UCACCJe5o9AADAR4kTACAVcQIApCJOAIBUxAkAkIo4AQBSEScAQCriBABIZUuzB1ivDz74IC5duhQ7duyIlpaWZo8DANyGWq0Wly9fjl27dsU999S/N7Lh4uTSpUvR1dXV7DEAgI9hfn4+Ojs76z5nw8XJjh07IuI/f7lSqdTkaQCA21GtVqOrq2v1dbyeDRcnH/4qp1QqiRMA2GBu5y0Z3hALAKQiTgCAVMQJAJCKOAEAUhEnAEAq4gQASEWcAACpiBMAIBVxAgCkIk4AgFTECQCQijgBAFIRJwBAKuIEAEhFnAAAqYgTACAVcQIApCJOAIBUxAkAkIo4AQBSEScAQCriBABIRZwAAKmIEwAgFXECAKQiTgCAVMQJAJCKOAEAUhEnAEAq4gQASEWcAACpiBMAIBVxAgCkIk4AgFTECQCQijgBAFIRJwBAKuIEAEhFnAAAqYgTACAVcQIApCJOAIBUxAkAkIo4AQBSaWicHD9+PIqiiKGhoVhZWVl9/Nq1azE8PBxFUcTo6Oia75mdnY2Wlpa4cuVKI0cBADaohsXJhQsXYmFhIaampmL37t0xNja2ujY+Ph6dnZ0xNTUVV69ejZmZmdW1559/Ph566KFGjQEAbHANi5PZ2dk4ePBgRET09/evCZCbrU1PT8eePXti+/btNz3v8vJyVKvVNQcAsHk1LE4qlUqUSqWIiCiXy7G4uHjLtVOnTsWxY8fqnvfkyZNRLpdXj66urkaNDAAk1LA4aW9vX72rUalUYufOnXXXzp8/Hw8++GDs2LGj7nlPnDgRS0tLq8f8/HyjRgYAEmpYnPT09MTk5GRERExMTERvb2/dtYsXL8a5c+eiv78/3nrrrThy5MgNz9va2hqlUmnNAQBsXg2Lk+7u7ujo6IiiKGJubi4GBwdjZGQkIiIGBgZifn4+iqKItra22Lt3bzz99NPx+uuvx9mzZ2PPnj3x0ksvNWoUAGADa6nVarVmD7Ee1Wo1yuVyLC0tuYsCABvEel6/fQgbAJCKOAEAUhEnAEAq4gQASEWcAACpiBMAIBVxAgCkIk4AgFTECQCQijgBAFIRJwBAKuIEAEhFnAAAqYgTACAVcQIApCJOAIBUxAkAkIo4AQBSEScAQCriBABIRZwAAKmIEwAgFXECAKQiTgCAVMQJAJCKOAEAUhEnAEAq4gQASEWcAACpiBMAIBVxAgCkIk4AgFTECQCQijgBAFIRJwBAKuIEAEhFnAAAqYgTACAVcQIApCJOAIBUxAkAkIo4AQBSEScAQCriBABIRZwAAKmIEwAgFXECAKQiTgCAVMQJAJCKOAEAUhEnAEAq4gQASEWcAACpiBMAIBVxAgCkIk4AgFTECQCQijgBAFIRJwBAKg2Nk+PHj0dRFDE0NBQrKyurj1+7di2Gh4ejKIoYHR2NiIh33303+vr64sCBA3Ho0KGoVCqNHAUA2KAaFicXLlyIhYWFmJqait27d8fY2Njq2vj4eHR2dsbU1FRcvXo1ZmZmolQqxauvvhrnz5+Pxx9/PF588cVGjQIAbGANi5PZ2dk4ePBgRET09/fHzMxM3bV77703du7cGRERW7dujS1bttzwvMvLy1GtVtccAMDm1bA4qVQqUSqVIiKiXC7H4uLiba0tLS3FCy+8EMPDwzc878mTJ6NcLq8eXV1djRoZAEioYXHS3t6+elejUqms3hWpt/bee+/F4cOH47nnnov29vYbnvfEiROxtLS0eszPzzdqZAAgoYbFSU9PT0xOTkZExMTERPT29t5y7ejRo/Hkk0/G/v37b3re1tbWKJVKaw4AYPNqWJx0d3dHR0dHFEURc3NzMTg4GCMjIxERMTAwEPPz81EURbS1tcXevXtjdnY2zpw5E6dPn46+vr44depUo0YBADawllqtVmv2EOtRrVajXC7H0tKSuygAsEGs5/Xbh7ABAKmIEwAgFXECAKQiTgCAVMQJAJCKOAEAUhEnAEAq4gQASEWcAACpiBMAIBVxAgCkIk4AgFTECQCQijgBAFIRJwBAKuIEAEhFnAAAqYgTACAVcQIApCJOAIBUxAkAkIo4AQBSEScAQCriBABIRZwAAKmIEwAgFXECAKQiTgCAVMQJAJCKOAEAUhEnAEAq4gQASEWcAACpiBMAIBVxAgCkIk4AgFTECQCQijgBAFIRJwBAKuIEAEhFnAAAqYgTACAVcQIApCJOAIBUxAkAkIo4AQBSEScAQCriBABIRZwAAKmIEwAgFXECAKQiTgCAVMQJAJCKOAEAUhEnAEAq4gQASEWcAACpiBMAIBVxAgCk0tA4OX78eBRFEUNDQ7GysrL6+LVr12J4eDiKoojR0dHVx3/6059Gb29vPPbYY7G0tNTIUQCADWpLo0504cKFWFhYiKmpqXj22WdjbGwsDh8+HBER4+Pj0dnZGS+//HJ8+9vfjpmZmXjggQdifHw8pqen48yZM/GLX/wivve97zVqnHWr1Wrx7/feb9r1ASCTtq2fiJaWlqZcu2FxMjs7GwcPHoyIiP7+/jh9+vRqnMzOzsZjjz22ujYzMxOVSiX6+vqipaUl+vv741vf+tYNz7u8vBzLy8urX1er1UaNvMa/33s/dn9/4r9ybgDYaOb+93/iU9salgnr0rBf61QqlSiVShERUS6XY3Fxse5aved/1MmTJ6NcLq8eXV1djRoZAEioYUnU3t6+elejUqnEzp076661t7fH22+/fcPnf9SJEyfimWeeWf26Wq3+VwKlbesnYu5//6fh5wWAjaht6yeadu2GxUlPT0/85Cc/iW9+85sxMTERvb29a9YmJyfjkUceiYmJiThy5Ejcf//98eMf/zi+//3vX/f8j2ptbY3W1tZGjXlTLS0tTbt9BQD8v4b9Wqe7uzs6OjqiKIqYm5uLwcHBGBkZiYiIgYGBmJ+fj6Iooq2tLfbu3Rv33XdfDAwMRG9vb/z617+Oo0ePNmoUAGADa6nVarVmD7Ee1Wo1yuVyLC0trb5nBQDIbT2v3z6EDQBIRZwAAKmIEwAgFXECAKQiTgCAVMQJAJCKOAEAUhEnAEAq4gQASEWcAACpiBMAIBVxAgCkIk4AgFTECQCQijgBAFIRJwBAKuIEAEhFnAAAqYgTACAVcQIApCJOAIBUxAkAkIo4AQBSEScAQCriBABIRZwAAKmIEwAgFXECAKQiTgCAVMQJAJCKOAEAUhEnAEAq4gQASEWcAACpiBMAIBVxAgCkIk4AgFTECQCQijgBAFIRJwBAKuIEAEhFnAAAqYgTACAVcQIApCJOAIBUxAkAkIo4AQBSEScAQCriBABIRZwAAKmIEwAgFXECAKQiTgCAVMQJAJCKOAEAUhEnAEAq4gQASEWcAACpiBMAIJWGxcnx48ejKIoYGhqKlZWVNWvXrl2L4eHhKIoiRkdHIyLi3Xffjb6+vjhw4EAcOnQoKpVKo0YBADawhsTJhQsXYmFhIaampmL37t0xNja2Zn18fDw6Oztjamoqrl69GjMzM1EqleLVV1+N8+fPx+OPPx4vvvhiI0YBADa4hsTJ7OxsHDx4MCIi+vv7Y2Zm5pbr9957b+zcuTMiIrZu3RpbtmxpxCgAwAbXkCKoVCqxa9euiIgol8uxuLh43XqpVLrh+tLSUrzwwgvx2muv3fDcy8vLsby8vPp1tVptxMgAQFLripOFhYV44oknrnv80KFDq9FQqVRW74h8qL29/Ybr7733Xhw+fDiee+65aG9vv+E1T548GT/84Q/XMyYAsIGt69c6HR0dMT09fd3x6KOPxuTkZERETExMRG9v75rv6+npueH60aNH48knn4z9+/ff9JonTpyIpaWl1WN+fn5df0EAYGNpyHtOuru7o6OjI4qiiLm5uRgcHIyIiJGRkYiIGBgYiPn5+SiKItra2mLv3r0xOzsbZ86cidOnT0dfX1+cOnXqhudubW2NUqm05gAANq+WWq1Wa/YQ61GtVqNcLsfS0pJQAYANYj2v3z6EDQBIRZwAAKmIEwAgFXECAKQiTgCAVMQJAJCKOAEAUhEnAEAq4gQASEWcAACpiBMAIBVxAgCkIk4AgFTECQCQijgBAFIRJwBAKuIEAEhFnAAAqYgTACAVcQIApCJOAIBUxAkAkIo4AQBSEScAQCriBABIRZwAAKmIEwAgFXECAKQiTgCAVMQJAJCKOAEAUhEnAEAq4gQASEWcAACpiBMAIBVxAgCkIk4AgFTECQCQijgBAFIRJwBAKuIEAEhFnAAAqYgTACAVcQIApCJOAIBUxAkAkIo4AQBSEScAQCriBABIRZwAAKmIEwAgFXECAKQiTgCAVMQJAJCKOAEAUhEnAEAq4gQASEWcAACpiBMAIBVxAgCk0rA4OX78eBRFEUNDQ7GysrJm7dq1azE8PBxFUcTo6OiatdnZ2WhpaYkrV640ahQAYANrSJxcuHAhFhYWYmpqKnbv3h1jY2Nr1sfHx6OzszOmpqbi6tWrMTMzs7r2/PPPx0MPPdSIMQCATaAhcTI7OxsHDx6MiIj+/v418VFvfXp6Ovbs2RPbt2+/6bmXl5ejWq2uOQCAzashcVKpVKJUKkVERLlcjsXFxdtaP3XqVBw7dqzuuU+ePBnlcnn16OrqasTIAEBSW9bz5IWFhXjiiSeue/zQoUOrdzQqlUrs3LlzzXp7e/t16+fPn48HH3wwduzYUfeaJ06ciGeeeWb162q1KlAAYBNb152Tjo6OmJ6evu549NFHY3JyMiIiJiYmore3d8339fT0XLd+8eLFOHfuXPT398dbb70VR44cueE1W1tbo1QqrTkAgM2rIb/W6e7ujo6OjiiKIubm5mJwcDAiIkZGRiIiYmBgIObn56Moimhra4u9e/fG008/Ha+//nqcPXs29uzZEy+99FIjRgEANriWWq1Wa/YQ61GtVqNcLsfS0pK7KACwQazn9duHsAEAqYgTACAVcQIApCJOAIBUxAkAkIo4AQBSEScAQCriBABIRZwAAKmIEwAgFXECAKQiTgCAVMQJAJCKOAEAUhEnAEAq4gQASEWcAACpiBMAIBVxAgCkIk4AgFTECQCQijgBAFIRJwBAKuIEAEhFnAAAqYgTACAVcQIApCJOAIBUxAkAkIo4AQBSEScAQCriBABIRZwAAKmIEwAgFXECAKQiTgCAVMQJAJCKOAEAUhEnAEAq4gQASEWcAACpiBMAIBVxAgCkIk4AgFS2NHuA9arVahERUa1WmzwJAHC7Pnzd/vB1vJ4NFyeXL1+OiIiurq4mTwIArNfly5ejXC7XfU5L7XYSJpEPPvggLl26FDt27IiWlpaGnrtarUZXV1fMz89HqVRq6Lm5nv2+s+z3nWW/7yz7fWd9nP2u1Wpx+fLl2LVrV9xzT/13lWy4Oyf33HNPdHZ2/levUSqV/Md9B9nvO8t+31n2+86y33fWevf7VndMPuQNsQBAKuIEAEhFnHxEa2tr/OAHP4jW1tZmj3JXsN93lv2+s+z3nWW/76z/9n5vuDfEAgCbmzsnAEAq4gQASEWcAACp3NVxcvz48SiKIoaGhmJlZWX18WvXrsXw8HAURRGjo6NNnHBzudl+v/POO9Hd3R2f/OQn48qVK02ccHO52X7//ve/j3379sX+/fvj2LFjTZxwc7nZfv/hD3+I/fv3x/79++Opp56K999/v4lTbh432+8PnTx5Mh5++OEmTLY53Wy/33jjjejq6oq+vr74yle+0rDr3bVxcuHChVhYWIipqanYvXt3jI2Nra6Nj49HZ2dnTE1NxdWrV2NmZqaJk24O9fb7M5/5TLzxxhvR09PTxAk3l3r7/aUvfSn++Mc/xvT0dCwuLsaf/vSnJk66OdTb7wMHDsT09HRMT0/Hli1b/DxpgHr7HfGfj0f/y1/+0qTpNp9b7fc3vvGNeOONN+LcuXMNu+ZdGyezs7Nx8ODBiIjo7+9f8wOj3hofT709/dSnPnXbnxrI7am335/73Odiy5b/fDj01q1bV//Mx1dvv7dt2xYR//no7lqtFl/4wheaMuNmcquf0adOnYrvfOc7zRhtU7rVfv/2t7+Noiji1KlTDbvmXRsnlUpl9SN3y+VyLC4u3tYaH489vbNuZ7/ffPPN+Oc//xnd3d13erxN51b7/corr8QXv/jF+Mc//hH33XdfM0bcVOrt99LSUvz5z3+Offv2NWu8Tafefj/88MPx17/+Nc6dOxdnz56NN998syHXvGvjpL29ffV/31ypVGLnzp23tcbHY0/vrFvt99///vcYHR2Nl19+uQnTbT632u+nnnoq5ubm4vOf/3z87ne/a8aIm0q9/f7Zz37mvVQNVm+/t2/fHtu2bYtt27bF17/+9bh48WJDrnnXxklPT09MTk5GRMTExET09vbe1hofjz29s+rt95UrV+Lw4cPxy1/+0r/iG6Tefi8vL6/+uVQqxac//ek7Pt9mU2+/33777Xj22Wejv78//va3v8WPfvSjZo25adTb7w+jJSJiamoq7r///oZc866Nk+7u7ujo6IiiKGJubi4GBwdjZGQkIiIGBgZifn4+iqKItra22Lt3b5On3fjq7fe//vWv+OpXvxoXL16MgYGBeO2115o87cZXb79//vOfxzvvvBPHjh2Lvr6+OH/+fJOn3fjq7fevfvWr6OvriwMHDsTi4mJ87Wtfa/K0G1+9/X7llVfi7Nmzcfbs2XjggQfiu9/9bpOn3fjq7fdvfvOb+PKXvxz79u2Lz372s/HII4805Jo+vh4ASOWuvXMCAOQkTgCAVMQJAJCKOAEAUhEnAEAq4gQASEWcAACpiBMAIBVxAgCkIk4AgFTECQCQyv8Bsi702+CrlKMAAAAASUVORK5CYII=",
      "text/plain": [
       "<Figure size 640x480 with 1 Axes>"
      ]
     },
     "metadata": {},
     "output_type": "display_data"
    }
   ],
   "source": [
    "dist_arr = np.arange(0, 50*dx, dx)\n",
    "plt.plot(dist_arr, results[-1, 0, 0,:])\n",
    "len(dist_arr)"
   ]
  }
 ],
 "metadata": {
  "kernelspec": {
   "display_name": "mf6rtm",
   "language": "python",
   "name": "python3"
  },
  "language_info": {
   "codemirror_mode": {
    "name": "ipython",
    "version": 3
   },
   "file_extension": ".py",
   "mimetype": "text/x-python",
   "name": "python",
   "nbconvert_exporter": "python",
   "pygments_lexer": "ipython3",
   "version": "3.10.14"
  }
 },
 "nbformat": 4,
 "nbformat_minor": 2
}
